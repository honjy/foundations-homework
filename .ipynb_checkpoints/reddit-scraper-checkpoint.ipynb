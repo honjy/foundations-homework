{
 "cells": [
  {
   "cell_type": "markdown",
   "metadata": {},
   "source": [
    "## MISSION PART ONE: GETTING DATA\n",
    "* You are going to scrape the front page of reddit every 4 hours, saving a CSV file that includes:\n",
    "1. The title of the post\n",
    "2. The number of votes it has (the number between the up and down arrows)\n",
    "3. The number of comments it has\n",
    "4. What subreddit it is from (e.g. /r/AskReddit, /r/todayilearned)\n",
    "5. When it was posted (get a TIMESTAMP, e.g. 2016-06-22T12:33:58+00:00, not \"4 hours ago\")\n",
    "6. The URL to the post itself\n",
    "7. The URL of the thumbnail image associated with the post"
   ]
  },
  {
   "cell_type": "markdown",
   "metadata": {},
   "source": [
    "For the purposes of this exercise I shall be scraping https://www.reddit.com/r/funny/ because who doesn't want funny e-mails coming in at 8am every morning? I am going to regret this aren't I."
   ]
  },
  {
   "cell_type": "code",
   "execution_count": 11,
   "metadata": {
    "collapsed": true
   },
   "outputs": [],
   "source": [
    "import requests\n",
    "from bs4 import BeautifulSoup"
   ]
  },
  {
   "cell_type": "code",
   "execution_count": 12,
   "metadata": {
    "collapsed": true
   },
   "outputs": [],
   "source": [
    "headers = {'User-Agent': 'Mozilla/5.0 (Macintosh; Intel Mac OS X 10_10_1) AppleWebKit/537.36 (KHTML, like Gecko) Chrome/39.0.2171.95 Safari/537.36'}"
   ]
  },
  {
   "cell_type": "code",
   "execution_count": 13,
   "metadata": {
    "collapsed": true
   },
   "outputs": [],
   "source": [
    "#Grab the reddit site\n",
    "response = requests.get(\"https://www.reddit.com/r/funny/\", headers=headers)"
   ]
  },
  {
   "cell_type": "code",
   "execution_count": 14,
   "metadata": {
    "collapsed": true
   },
   "outputs": [],
   "source": [
    "doc = BeautifulSoup(response.text, 'html.parser')"
   ]
  },
  {
   "cell_type": "code",
   "execution_count": 78,
   "metadata": {
    "collapsed": false
   },
   "outputs": [],
   "source": [
    "#doc"
   ]
  },
  {
   "cell_type": "code",
   "execution_count": 21,
   "metadata": {
    "collapsed": false
   },
   "outputs": [
    {
     "data": {
      "text/plain": [
       "27"
      ]
     },
     "execution_count": 21,
     "metadata": {},
     "output_type": "execute_result"
    }
   ],
   "source": [
    "#Grab the posts\n",
    "\n",
    "posts = doc.find_all('div', {'class': 'thing'})\n",
    "#len(posts)"
   ]
  },
  {
   "cell_type": "code",
   "execution_count": 83,
   "metadata": {
    "collapsed": false
   },
   "outputs": [],
   "source": [
    "#posts"
   ]
  },
  {
   "cell_type": "code",
   "execution_count": 107,
   "metadata": {
    "collapsed": false
   },
   "outputs": [
    {
     "data": {
      "text/plain": [
       "[{'comments': '126 comments',\n",
       "  'link': 'https://www.reddit.com/r/unfortunateplacement',\n",
       "  'thumbnail': 'http://a.thumbs.redditmedia.com/ExQ61Q54Z-aAuJpkFNcC0viWh-2iQcEc9HrocEZcxw8.jpg',\n",
       "  'timestamp': '2016-06-01T16:08:54+00:00',\n",
       "  'title': 'Subreddit Of The Month [June 2016]: /r/unfortunateplacement, \"(Un)fortunate Ad Placement\". Know of a small (under 10,000 subscribers) humor-based subreddit that deserves a month in the spotlight? Link it inside!',\n",
       "  'votes': '390'},\n",
       " {'comments': '372 comments',\n",
       "  'link': '/r/funny/comments/4j1nln/irs_phone_scams_and_similar_posts_tldr_dont_post/',\n",
       "  'thumbnail': None,\n",
       "  'timestamp': '2016-05-12T16:57:43+00:00',\n",
       "  'title': \"IRS phone scams, and similar posts. tldr - DON'T POST PHONE NUMBERS ON REDDIT\",\n",
       "  'votes': '1283'},\n",
       " {'comments': '713 comments',\n",
       "  'link': 'https://imgur.com/gallery/gJgxe',\n",
       "  'thumbnail': 'http://b.thumbs.redditmedia.com/JyqfanLHxAJf3fAapXOhSupHU3JcOVwo8AOhWYRMv3c.jpg',\n",
       "  'timestamp': '2016-06-22T12:12:57+00:00',\n",
       "  'title': 'Ill bet this was a drunk idea gone right.',\n",
       "  'votes': '5854'},\n",
       " {'comments': '100 comments',\n",
       "  'link': 'http://imgur.com/1qacZGi',\n",
       "  'thumbnail': 'http://a.thumbs.redditmedia.com/Rzz12w_DE8QbQmNX9tk9Na6YQz20DryZooNocFa5li8.jpg',\n",
       "  'timestamp': '2016-06-22T15:58:00+00:00',\n",
       "  'title': 'Snek',\n",
       "  'votes': '2737'},\n",
       " {'comments': '74 comments',\n",
       "  'link': '/r/funny/comments/4paw64/the_tooth_fairy/',\n",
       "  'thumbnail': 'http://b.thumbs.redditmedia.com/fjdQ0-IQYm5RhA25z3rwznNoAFw-YVr0jsJNaWwB1_c.jpg',\n",
       "  'timestamp': '2016-06-22T14:23:06+00:00',\n",
       "  'title': 'The Tooth Fairy',\n",
       "  'votes': '3021'},\n",
       " {'comments': '84 comments',\n",
       "  'link': '/r/funny/comments/4pb83n/i_thought_we_were_past_this/',\n",
       "  'thumbnail': 'http://b.thumbs.redditmedia.com/G1lEtjgvEddcuF9oyZ4KMIeUyhGMPH9Ke0CuiJVH-Xw.jpg',\n",
       "  'timestamp': '2016-06-22T15:28:09+00:00',\n",
       "  'title': 'I thought we were past this..',\n",
       "  'votes': '2415'},\n",
       " {'comments': '60 comments',\n",
       "  'link': 'http://imgur.com/2JojN3l',\n",
       "  'thumbnail': 'http://b.thumbs.redditmedia.com/JT_ilJYJUCi_m0tfSfj0h-MIXvzb_2Xab5dJNTgUXHw.jpg',\n",
       "  'timestamp': '2016-06-22T13:20:53+00:00',\n",
       "  'title': \"The heat's getting ridiculous lately\",\n",
       "  'votes': '3454'},\n",
       " {'comments': '54 comments',\n",
       "  'link': 'http://i.imgur.com/JMWtoSO.jpg',\n",
       "  'thumbnail': 'http://a.thumbs.redditmedia.com/f3G7Iib-kRx3_qCjzSDfUELzw1aqp-nSQwtEWKqyGY0.jpg',\n",
       "  'timestamp': '2016-06-22T15:59:42+00:00',\n",
       "  'title': 'Prom Queen',\n",
       "  'votes': '1959'},\n",
       " {'comments': '51 comments',\n",
       "  'link': 'http://imgur.com/UDAYf2M',\n",
       "  'thumbnail': 'http://b.thumbs.redditmedia.com/C_ow6gcDhuSq1vsThDOxndfrc2rxUAE1SB9Xt752Nvs.jpg',\n",
       "  'timestamp': '2016-06-22T16:54:13+00:00',\n",
       "  'title': 'Still need teepee for my bunghole.',\n",
       "  'votes': '1663'},\n",
       " {'comments': '60 comments',\n",
       "  'link': 'http://i.imgur.com/lOFAqLV.jpg',\n",
       "  'thumbnail': 'http://b.thumbs.redditmedia.com/n8UTPZEap1pbNZJKu0FGcZD28ej-dRCoJ4UWUr84DyU.jpg',\n",
       "  'timestamp': '2016-06-22T16:48:22+00:00',\n",
       "  'title': 'How to Adult..',\n",
       "  'votes': '1521'},\n",
       " {'comments': '178 comments',\n",
       "  'link': '/r/funny/comments/4pa7xz/its_been_a_week_and_no_one_has_noticed_a_problem/',\n",
       "  'thumbnail': 'http://b.thumbs.redditmedia.com/fDUCJODDWdJ15o2aBzxRdOuqB602_q3N_UHrdwF_Nfk.jpg',\n",
       "  'timestamp': '2016-06-22T11:44:18+00:00',\n",
       "  'title': \"It's been a week and no one has noticed a problem in the office. It's almost worrying.\",\n",
       "  'votes': '3827'},\n",
       " {'comments': '34 comments',\n",
       "  'link': 'http://i.imgur.com/nuRZv1O.gifv',\n",
       "  'thumbnail': 'http://a.thumbs.redditmedia.com/qT7PkIVnsieQ39kCxbnzf2NucgBHDExsa6bcJTR2oz8.jpg',\n",
       "  'timestamp': '2016-06-22T18:31:02+00:00',\n",
       "  'title': '\"I\\'m stuck...I\\'m stuck! Never mind...I got it!\"',\n",
       "  'votes': '1033'},\n",
       " {'comments': '318 comments',\n",
       "  'link': 'http://imgur.com/gallery/EvuHeeu',\n",
       "  'thumbnail': 'http://a.thumbs.redditmedia.com/Uh-xFeGsRD3BnMa6maXinluw5pv-p2xuw5Q6bzNaLk0.jpg',\n",
       "  'timestamp': '2016-06-22T09:49:03+00:00',\n",
       "  'title': 'Really is the same.',\n",
       "  'votes': '4622'},\n",
       " {'comments': '99 comments',\n",
       "  'link': 'http://imgur.com/d5c3eVp',\n",
       "  'thumbnail': 'http://a.thumbs.redditmedia.com/ft0PtajHyi-Jrlh8brmtvcYBkX6MF5EPqBXe4tngv28.jpg',\n",
       "  'timestamp': '2016-06-22T13:16:47+00:00',\n",
       "  'title': 'Best button ever',\n",
       "  'votes': '2062'},\n",
       " {'comments': '281 comments',\n",
       "  'link': 'http://imgur.com/m4Pip8G',\n",
       "  'thumbnail': 'http://b.thumbs.redditmedia.com/KHoVRBea1MHmrswy9WS8i-5UDD_MxUz0k2IzrinIDqw.jpg',\n",
       "  'timestamp': '2016-06-22T12:20:21+00:00',\n",
       "  'title': 'Over Protective Dad',\n",
       "  'votes': '2198'},\n",
       " {'comments': '83 comments',\n",
       "  'link': 'https://i.reddituploads.com/c1beb2da907f4f15b5ca4df1fd7fa714?fit=max&h=1536&w=1536&s=c6d72d95256e55a1a84dd402f38bbac1',\n",
       "  'thumbnail': 'http://b.thumbs.redditmedia.com/kgH4GvboOZSBZVe9Cf5Ju_O4myPyQfssmio8hcwOpvY.jpg',\n",
       "  'timestamp': '2016-06-22T15:52:35+00:00',\n",
       "  'title': 'Life is though',\n",
       "  'votes': '1097'},\n",
       " {'comments': '48 comments',\n",
       "  'link': 'http://i.imgur.com/oFFIDTv.jpg',\n",
       "  'thumbnail': 'http://b.thumbs.redditmedia.com/E-4Zgxs7IN1uBmiARVmr13mlYkgVMrNCMx8t8TDRmSk.jpg',\n",
       "  'timestamp': '2016-06-22T14:49:52+00:00',\n",
       "  'title': 'The Lord has returned',\n",
       "  'votes': '1297'},\n",
       " {'comments': '965 comments',\n",
       "  'link': 'http://i.imgur.com/b4Ooqum.gifv',\n",
       "  'thumbnail': 'http://b.thumbs.redditmedia.com/NufbdJdT7ElD8oIYz_njwM8jznoO3CFL5-yMqvUh0AY.jpg',\n",
       "  'timestamp': '2016-06-22T07:47:03+00:00',\n",
       "  'title': 'The lord of the memes',\n",
       "  'votes': '4754'},\n",
       " {'comments': '37 comments',\n",
       "  'link': 'http://i.imgur.com/E3xp4jR.jpg',\n",
       "  'thumbnail': 'http://b.thumbs.redditmedia.com/bTxp_JjGpl1SQ5ODuWQehvRTK6HK3HoEIjnj70DFxdw.jpg',\n",
       "  'timestamp': '2016-06-22T17:51:17+00:00',\n",
       "  'title': \"My girlfriend recently started working nights. I've been waking up to a lot of worrying texts.\",\n",
       "  'votes': '724'},\n",
       " {'comments': '38 comments',\n",
       "  'link': 'https://4.bp.blogspot.com/-0kvkFCjt17E/V18upnCqMEI/AAAAAAAA8XI/KfgmxOYnHrYjB3B3DX2PkArs5zc7LMnOACLcB/s1600/flip_pleatedjeans.jpg',\n",
       "  'thumbnail': 'http://a.thumbs.redditmedia.com/h1cMDUiG3F2bMC3lHtaNZDsKJsY-1-dLmvp3NWjhTa8.jpg',\n",
       "  'timestamp': '2016-06-22T16:13:20+00:00',\n",
       "  'title': 'Define prophetic',\n",
       "  'votes': '837'},\n",
       " {'comments': '58 comments',\n",
       "  'link': 'http://i.imgur.com/IApJLYU.png',\n",
       "  'thumbnail': 'http://b.thumbs.redditmedia.com/jRaQ2tCDNZf3r71uGLD8PMUBVdRu0a0OA6Mhhav0eQw.jpg',\n",
       "  'timestamp': '2016-06-22T17:40:28+00:00',\n",
       "  'title': 'She Said We Need To Run Our House More Like A Business. . .',\n",
       "  'votes': '483'},\n",
       " {'comments': '183 comments',\n",
       "  'link': 'http://imgur.com/gallery/DsfHo',\n",
       "  'thumbnail': 'http://b.thumbs.redditmedia.com/zRQG0RMEiIJCv-9fKeNbgqIRlyJbDpJ6knogRV_6bFw.jpg',\n",
       "  'timestamp': '2016-06-22T09:41:42+00:00',\n",
       "  'title': 'I vape!',\n",
       "  'votes': '1677'},\n",
       " {'comments': '285 comments',\n",
       "  'link': 'http://i.imgur.com/k0JbGUL.jpg',\n",
       "  'thumbnail': 'http://a.thumbs.redditmedia.com/Ympe6O1i7wIbWWuaU7QRCqlo5CkabVHB26Wm1N0v064.jpg',\n",
       "  'timestamp': '2016-06-22T06:45:59+00:00',\n",
       "  'title': 'Dumbest phone case ever...',\n",
       "  'votes': '2386'},\n",
       " {'comments': '29 comments',\n",
       "  'link': 'http://imgur.com/GUso0OB',\n",
       "  'thumbnail': 'http://b.thumbs.redditmedia.com/Ic4RraavhfZFaM8jO1qI7lUCILMiAscvNiU5DonCAaM.jpg',\n",
       "  'timestamp': '2016-06-22T12:39:47+00:00',\n",
       "  'title': 'Awkward sign placement',\n",
       "  'votes': '785'},\n",
       " {'comments': '37 comments',\n",
       "  'link': 'https://i.imgur.com/I7Jry8d.png',\n",
       "  'thumbnail': 'http://b.thumbs.redditmedia.com/PurZEaKNLEI8IdSWEDiC7KBbzkCF7tiUnFHo7QvEdkQ.jpg',\n",
       "  'timestamp': '2016-06-22T17:30:20+00:00',\n",
       "  'title': 'Lindsay Lohan wore the same jacket in her mugshot as she did in a scene from the Parent Trap.',\n",
       "  'votes': '334'},\n",
       " {'comments': '1087 comments',\n",
       "  'link': 'http://imgur.com/q8LaNvG',\n",
       "  'thumbnail': 'http://b.thumbs.redditmedia.com/bsXv0zjBkn0uc3nZGMjjBvYBR9oOLG4L7SSpXMHroVY.jpg',\n",
       "  'timestamp': '2016-06-22T02:15:41+00:00',\n",
       "  'title': 'Sounds about right',\n",
       "  'votes': '5209'},\n",
       " {'comments': '5 comments',\n",
       "  'link': 'https://i.reddituploads.com/d07bd700dec94e6496156017f8fbaea1?fit=max&h=1536&w=1536&s=417daee8ba002968f63e296f960ebca7',\n",
       "  'thumbnail': 'http://b.thumbs.redditmedia.com/vG3EQAiM5bxVXJn3ljAT7_90q192QTx0AW5d13R-vRA.jpg',\n",
       "  'timestamp': '2016-06-22T17:20:45+00:00',\n",
       "  'title': \"It's a little late but... Happy Father's Day!\",\n",
       "  'votes': '280'}]"
      ]
     },
     "execution_count": 107,
     "metadata": {},
     "output_type": "execute_result"
    }
   ],
   "source": [
    "all_posts = []\n",
    "\n",
    "#Let's grab the title of the posts\n",
    "for post in posts:\n",
    "    #Titles are <a> and title\n",
    "    title = post.find('a', {'class': 'title'})\n",
    "    title_text = title.text.strip()\n",
    "    #Votes are <div> <score>\n",
    "    vote = post.find('div', {'class': 'score'})\n",
    "    vote_text = vote.text.strip()\n",
    "    #Comments are <a> and bylink\n",
    "    comment = post.find('a', {'class': 'bylink'})\n",
    "    comment_text = comment.text.strip()\n",
    "    #When it was posted <time> datetime\n",
    "    time = post.find('time', {'class': 'live-timestamp'})['datetime']\n",
    "    #URL\n",
    "    link = post.find('a', {'class': 'title'})['href']\n",
    "    #URL link\n",
    "    thumbnail = post.find('img')\n",
    "    if thumbnail:\n",
    "        thumbnail = \"http:\" + (thumbnail['src'])\n",
    "    funny_posts = {'title': title_text, 'votes': vote_text, 'comments': comment_text, 'timestamp': time, 'link': link, 'thumbnail': thumbnail}\n",
    "    all_posts.append(funny_posts)\n",
    "all_posts\n",
    "    \n",
    "#QUESTION: How to replace /r/ with link? Do we use regular expressions?"
   ]
  },
  {
   "cell_type": "code",
   "execution_count": 108,
   "metadata": {
    "collapsed": false
   },
   "outputs": [
    {
     "data": {
      "text/plain": [
       "27"
      ]
     },
     "execution_count": 108,
     "metadata": {},
     "output_type": "execute_result"
    }
   ],
   "source": [
    "#len(all_posts)"
   ]
  },
  {
   "cell_type": "code",
   "execution_count": 109,
   "metadata": {
    "collapsed": true
   },
   "outputs": [],
   "source": [
    "import pandas as pd"
   ]
  },
  {
   "cell_type": "code",
   "execution_count": 111,
   "metadata": {
    "collapsed": false
   },
   "outputs": [
    {
     "data": {
      "text/html": [
       "<div>\n",
       "<table border=\"1\" class=\"dataframe\">\n",
       "  <thead>\n",
       "    <tr style=\"text-align: right;\">\n",
       "      <th></th>\n",
       "      <th>comments</th>\n",
       "      <th>link</th>\n",
       "      <th>thumbnail</th>\n",
       "      <th>timestamp</th>\n",
       "      <th>title</th>\n",
       "      <th>votes</th>\n",
       "    </tr>\n",
       "  </thead>\n",
       "  <tbody>\n",
       "    <tr>\n",
       "      <th>0</th>\n",
       "      <td>126 comments</td>\n",
       "      <td>https://www.reddit.com/r/unfortunateplacement</td>\n",
       "      <td>http://a.thumbs.redditmedia.com/ExQ61Q54Z-aAuJ...</td>\n",
       "      <td>2016-06-01T16:08:54+00:00</td>\n",
       "      <td>Subreddit Of The Month [June 2016]: /r/unfortu...</td>\n",
       "      <td>390</td>\n",
       "    </tr>\n",
       "    <tr>\n",
       "      <th>1</th>\n",
       "      <td>372 comments</td>\n",
       "      <td>/r/funny/comments/4j1nln/irs_phone_scams_and_s...</td>\n",
       "      <td>None</td>\n",
       "      <td>2016-05-12T16:57:43+00:00</td>\n",
       "      <td>IRS phone scams, and similar posts. tldr - DON...</td>\n",
       "      <td>1283</td>\n",
       "    </tr>\n",
       "    <tr>\n",
       "      <th>2</th>\n",
       "      <td>713 comments</td>\n",
       "      <td>https://imgur.com/gallery/gJgxe</td>\n",
       "      <td>http://b.thumbs.redditmedia.com/JyqfanLHxAJf3f...</td>\n",
       "      <td>2016-06-22T12:12:57+00:00</td>\n",
       "      <td>Ill bet this was a drunk idea gone right.</td>\n",
       "      <td>5854</td>\n",
       "    </tr>\n",
       "    <tr>\n",
       "      <th>3</th>\n",
       "      <td>100 comments</td>\n",
       "      <td>http://imgur.com/1qacZGi</td>\n",
       "      <td>http://a.thumbs.redditmedia.com/Rzz12w_DE8QbQm...</td>\n",
       "      <td>2016-06-22T15:58:00+00:00</td>\n",
       "      <td>Snek</td>\n",
       "      <td>2737</td>\n",
       "    </tr>\n",
       "    <tr>\n",
       "      <th>4</th>\n",
       "      <td>74 comments</td>\n",
       "      <td>/r/funny/comments/4paw64/the_tooth_fairy/</td>\n",
       "      <td>http://b.thumbs.redditmedia.com/fjdQ0-IQYm5RhA...</td>\n",
       "      <td>2016-06-22T14:23:06+00:00</td>\n",
       "      <td>The Tooth Fairy</td>\n",
       "      <td>3021</td>\n",
       "    </tr>\n",
       "  </tbody>\n",
       "</table>\n",
       "</div>"
      ],
      "text/plain": [
       "       comments                                               link  \\\n",
       "0  126 comments      https://www.reddit.com/r/unfortunateplacement   \n",
       "1  372 comments  /r/funny/comments/4j1nln/irs_phone_scams_and_s...   \n",
       "2  713 comments                    https://imgur.com/gallery/gJgxe   \n",
       "3  100 comments                           http://imgur.com/1qacZGi   \n",
       "4   74 comments          /r/funny/comments/4paw64/the_tooth_fairy/   \n",
       "\n",
       "                                           thumbnail  \\\n",
       "0  http://a.thumbs.redditmedia.com/ExQ61Q54Z-aAuJ...   \n",
       "1                                               None   \n",
       "2  http://b.thumbs.redditmedia.com/JyqfanLHxAJf3f...   \n",
       "3  http://a.thumbs.redditmedia.com/Rzz12w_DE8QbQm...   \n",
       "4  http://b.thumbs.redditmedia.com/fjdQ0-IQYm5RhA...   \n",
       "\n",
       "                   timestamp  \\\n",
       "0  2016-06-01T16:08:54+00:00   \n",
       "1  2016-05-12T16:57:43+00:00   \n",
       "2  2016-06-22T12:12:57+00:00   \n",
       "3  2016-06-22T15:58:00+00:00   \n",
       "4  2016-06-22T14:23:06+00:00   \n",
       "\n",
       "                                               title votes  \n",
       "0  Subreddit Of The Month [June 2016]: /r/unfortu...   390  \n",
       "1  IRS phone scams, and similar posts. tldr - DON...  1283  \n",
       "2          Ill bet this was a drunk idea gone right.  5854  \n",
       "3                                               Snek  2737  \n",
       "4                                    The Tooth Fairy  3021  "
      ]
     },
     "execution_count": 111,
     "metadata": {},
     "output_type": "execute_result"
    }
   ],
   "source": [
    "posts_df = pd.DataFrame(all_posts)\n",
    "posts_df.head()"
   ]
  },
  {
   "cell_type": "code",
   "execution_count": 112,
   "metadata": {
    "collapsed": true
   },
   "outputs": [],
   "source": [
    "import time"
   ]
  },
  {
   "cell_type": "code",
   "execution_count": 113,
   "metadata": {
    "collapsed": false
   },
   "outputs": [
    {
     "data": {
      "text/plain": [
       "'2016-06-22-18-55'"
      ]
     },
     "execution_count": 113,
     "metadata": {},
     "output_type": "execute_result"
    }
   ],
   "source": [
    "datestring = time.strftime(\"%Y-%m-%d-%H-%M\")\n",
    "datestring"
   ]
  },
  {
   "cell_type": "code",
   "execution_count": 115,
   "metadata": {
    "collapsed": false
   },
   "outputs": [],
   "source": [
    "filename = \"reddit-data\" + datestring + \".csv\"\n",
    "posts_df.to_csv(filename, index=False)"
   ]
  },
  {
   "cell_type": "code",
   "execution_count": null,
   "metadata": {
    "collapsed": true
   },
   "outputs": [],
   "source": []
  }
 ],
 "metadata": {
  "kernelspec": {
   "display_name": "Python 3",
   "language": "python",
   "name": "python3"
  },
  "language_info": {
   "codemirror_mode": {
    "name": "ipython",
    "version": 3
   },
   "file_extension": ".py",
   "mimetype": "text/x-python",
   "name": "python",
   "nbconvert_exporter": "python",
   "pygments_lexer": "ipython3",
   "version": "3.5.1"
  }
 },
 "nbformat": 4,
 "nbformat_minor": 0
}
