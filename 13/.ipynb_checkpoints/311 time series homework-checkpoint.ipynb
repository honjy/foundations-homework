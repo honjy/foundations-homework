{
 "cells": [
  {
   "cell_type": "code",
   "execution_count": 1,
   "metadata": {
    "collapsed": true
   },
   "outputs": [],
   "source": [
    "import pandas as pd\n",
    "import numpy as np\n",
    "import matplotlib.pyplot as plt\n",
    "%matplotlib inline\n",
    "plt.style.use('ggplot')\n",
    "import dateutil.parser"
   ]
  },
  {
   "cell_type": "markdown",
   "metadata": {},
   "source": [
    "> First, I made a mistake naming the data set! **It's 2015 data, not 2014 data.** But yes, still use `311-2014.csv`. You can rename it.\n",
    "\n",
    "# Importing and preparing your data\n",
    "\n",
    "Import your data, but **only the first 200,000 rows**. You'll also want to change the index to be a datetime based on the **Created Date** column - you'll want to check if it's already a datetime, and parse it if not."
   ]
  },
  {
   "cell_type": "code",
   "execution_count": 2,
   "metadata": {
    "collapsed": false
   },
   "outputs": [],
   "source": [
    "df = pd.read_csv(\"311-2015.csv\", nrows=200000, low_memory=False)\n",
    "\n",
    "#Why can't we use parse_dates=True? --> If the date is in a format that pandas recognizes as a date like YYYYMMDD\n",
    "#Keep the data set small and make sure everything works before running everything through it"
   ]
  },
  {
   "cell_type": "code",
   "execution_count": 3,
   "metadata": {
    "collapsed": false
   },
   "outputs": [
    {
     "data": {
      "text/html": [
       "<div>\n",
       "<table border=\"1\" class=\"dataframe\">\n",
       "  <thead>\n",
       "    <tr style=\"text-align: right;\">\n",
       "      <th></th>\n",
       "      <th>Unique Key</th>\n",
       "      <th>Created Date</th>\n",
       "      <th>Closed Date</th>\n",
       "      <th>Agency</th>\n",
       "      <th>Agency Name</th>\n",
       "      <th>Complaint Type</th>\n",
       "      <th>Descriptor</th>\n",
       "      <th>Location Type</th>\n",
       "      <th>Incident Zip</th>\n",
       "      <th>Incident Address</th>\n",
       "      <th>...</th>\n",
       "      <th>Bridge Highway Name</th>\n",
       "      <th>Bridge Highway Direction</th>\n",
       "      <th>Road Ramp</th>\n",
       "      <th>Bridge Highway Segment</th>\n",
       "      <th>Garage Lot Name</th>\n",
       "      <th>Ferry Direction</th>\n",
       "      <th>Ferry Terminal Name</th>\n",
       "      <th>Latitude</th>\n",
       "      <th>Longitude</th>\n",
       "      <th>Location</th>\n",
       "    </tr>\n",
       "  </thead>\n",
       "  <tbody>\n",
       "    <tr>\n",
       "      <th>0</th>\n",
       "      <td>31015465</td>\n",
       "      <td>07/06/2015 10:58:27 AM</td>\n",
       "      <td>07/22/2015 01:07:20 AM</td>\n",
       "      <td>DCA</td>\n",
       "      <td>Department of Consumer Affairs</td>\n",
       "      <td>Consumer Complaint</td>\n",
       "      <td>Demand for Cash</td>\n",
       "      <td>NaN</td>\n",
       "      <td>11360</td>\n",
       "      <td>27-16 203 STREET</td>\n",
       "      <td>...</td>\n",
       "      <td>NaN</td>\n",
       "      <td>NaN</td>\n",
       "      <td>NaN</td>\n",
       "      <td>NaN</td>\n",
       "      <td>NaN</td>\n",
       "      <td>NaN</td>\n",
       "      <td>NaN</td>\n",
       "      <td>40.773540</td>\n",
       "      <td>-73.788237</td>\n",
       "      <td>(40.773539552542, -73.78823697228408)</td>\n",
       "    </tr>\n",
       "    <tr>\n",
       "      <th>1</th>\n",
       "      <td>30997660</td>\n",
       "      <td>07/03/2015 01:26:29 PM</td>\n",
       "      <td>07/03/2015 02:08:20 PM</td>\n",
       "      <td>NYPD</td>\n",
       "      <td>New York City Police Department</td>\n",
       "      <td>Vending</td>\n",
       "      <td>In Prohibited Area</td>\n",
       "      <td>Residential Building/House</td>\n",
       "      <td>10019</td>\n",
       "      <td>200 CENTRAL PARK SOUTH</td>\n",
       "      <td>...</td>\n",
       "      <td>NaN</td>\n",
       "      <td>NaN</td>\n",
       "      <td>NaN</td>\n",
       "      <td>NaN</td>\n",
       "      <td>NaN</td>\n",
       "      <td>NaN</td>\n",
       "      <td>NaN</td>\n",
       "      <td>40.767021</td>\n",
       "      <td>-73.979448</td>\n",
       "      <td>(40.76702142171206, -73.97944780718524)</td>\n",
       "    </tr>\n",
       "    <tr>\n",
       "      <th>2</th>\n",
       "      <td>31950223</td>\n",
       "      <td>11/09/2015 03:55:09 AM</td>\n",
       "      <td>11/09/2015 08:08:57 AM</td>\n",
       "      <td>NYPD</td>\n",
       "      <td>New York City Police Department</td>\n",
       "      <td>Blocked Driveway</td>\n",
       "      <td>No Access</td>\n",
       "      <td>Street/Sidewalk</td>\n",
       "      <td>10453</td>\n",
       "      <td>1993 GRAND AVENUE</td>\n",
       "      <td>...</td>\n",
       "      <td>NaN</td>\n",
       "      <td>NaN</td>\n",
       "      <td>NaN</td>\n",
       "      <td>NaN</td>\n",
       "      <td>NaN</td>\n",
       "      <td>NaN</td>\n",
       "      <td>NaN</td>\n",
       "      <td>40.852671</td>\n",
       "      <td>-73.910608</td>\n",
       "      <td>(40.85267061877697, -73.91060771362552)</td>\n",
       "    </tr>\n",
       "    <tr>\n",
       "      <th>3</th>\n",
       "      <td>31000038</td>\n",
       "      <td>07/03/2015 02:18:32 AM</td>\n",
       "      <td>07/03/2015 07:54:48 AM</td>\n",
       "      <td>NYPD</td>\n",
       "      <td>New York City Police Department</td>\n",
       "      <td>Noise - Commercial</td>\n",
       "      <td>Loud Music/Party</td>\n",
       "      <td>Club/Bar/Restaurant</td>\n",
       "      <td>11372</td>\n",
       "      <td>84-16 NORTHERN BOULEVARD</td>\n",
       "      <td>...</td>\n",
       "      <td>NaN</td>\n",
       "      <td>NaN</td>\n",
       "      <td>NaN</td>\n",
       "      <td>NaN</td>\n",
       "      <td>NaN</td>\n",
       "      <td>NaN</td>\n",
       "      <td>NaN</td>\n",
       "      <td>40.755774</td>\n",
       "      <td>-73.883262</td>\n",
       "      <td>(40.755773786469966, -73.88326243225418)</td>\n",
       "    </tr>\n",
       "    <tr>\n",
       "      <th>4</th>\n",
       "      <td>30995614</td>\n",
       "      <td>07/04/2015 12:03:27 AM</td>\n",
       "      <td>07/04/2015 03:33:09 AM</td>\n",
       "      <td>NYPD</td>\n",
       "      <td>New York City Police Department</td>\n",
       "      <td>Noise - Street/Sidewalk</td>\n",
       "      <td>Loud Talking</td>\n",
       "      <td>Street/Sidewalk</td>\n",
       "      <td>11216</td>\n",
       "      <td>1057 BERGEN STREET</td>\n",
       "      <td>...</td>\n",
       "      <td>NaN</td>\n",
       "      <td>NaN</td>\n",
       "      <td>NaN</td>\n",
       "      <td>NaN</td>\n",
       "      <td>NaN</td>\n",
       "      <td>NaN</td>\n",
       "      <td>NaN</td>\n",
       "      <td>40.676175</td>\n",
       "      <td>-73.951269</td>\n",
       "      <td>(40.67617516102934, -73.9512690004692)</td>\n",
       "    </tr>\n",
       "  </tbody>\n",
       "</table>\n",
       "<p>5 rows × 53 columns</p>\n",
       "</div>"
      ],
      "text/plain": [
       "   Unique Key            Created Date             Closed Date Agency  \\\n",
       "0    31015465  07/06/2015 10:58:27 AM  07/22/2015 01:07:20 AM    DCA   \n",
       "1    30997660  07/03/2015 01:26:29 PM  07/03/2015 02:08:20 PM   NYPD   \n",
       "2    31950223  11/09/2015 03:55:09 AM  11/09/2015 08:08:57 AM   NYPD   \n",
       "3    31000038  07/03/2015 02:18:32 AM  07/03/2015 07:54:48 AM   NYPD   \n",
       "4    30995614  07/04/2015 12:03:27 AM  07/04/2015 03:33:09 AM   NYPD   \n",
       "\n",
       "                       Agency Name           Complaint Type  \\\n",
       "0   Department of Consumer Affairs       Consumer Complaint   \n",
       "1  New York City Police Department                  Vending   \n",
       "2  New York City Police Department         Blocked Driveway   \n",
       "3  New York City Police Department       Noise - Commercial   \n",
       "4  New York City Police Department  Noise - Street/Sidewalk   \n",
       "\n",
       "           Descriptor               Location Type Incident Zip  \\\n",
       "0     Demand for Cash                         NaN        11360   \n",
       "1  In Prohibited Area  Residential Building/House        10019   \n",
       "2           No Access             Street/Sidewalk        10453   \n",
       "3    Loud Music/Party         Club/Bar/Restaurant        11372   \n",
       "4        Loud Talking             Street/Sidewalk        11216   \n",
       "\n",
       "           Incident Address                    ...                     \\\n",
       "0          27-16 203 STREET                    ...                      \n",
       "1    200 CENTRAL PARK SOUTH                    ...                      \n",
       "2         1993 GRAND AVENUE                    ...                      \n",
       "3  84-16 NORTHERN BOULEVARD                    ...                      \n",
       "4        1057 BERGEN STREET                    ...                      \n",
       "\n",
       "  Bridge Highway Name Bridge Highway Direction Road Ramp  \\\n",
       "0                 NaN                      NaN       NaN   \n",
       "1                 NaN                      NaN       NaN   \n",
       "2                 NaN                      NaN       NaN   \n",
       "3                 NaN                      NaN       NaN   \n",
       "4                 NaN                      NaN       NaN   \n",
       "\n",
       "  Bridge Highway Segment Garage Lot Name Ferry Direction Ferry Terminal Name  \\\n",
       "0                    NaN             NaN             NaN                 NaN   \n",
       "1                    NaN             NaN             NaN                 NaN   \n",
       "2                    NaN             NaN             NaN                 NaN   \n",
       "3                    NaN             NaN             NaN                 NaN   \n",
       "4                    NaN             NaN             NaN                 NaN   \n",
       "\n",
       "    Latitude  Longitude                                  Location  \n",
       "0  40.773540 -73.788237     (40.773539552542, -73.78823697228408)  \n",
       "1  40.767021 -73.979448   (40.76702142171206, -73.97944780718524)  \n",
       "2  40.852671 -73.910608   (40.85267061877697, -73.91060771362552)  \n",
       "3  40.755774 -73.883262  (40.755773786469966, -73.88326243225418)  \n",
       "4  40.676175 -73.951269    (40.67617516102934, -73.9512690004692)  \n",
       "\n",
       "[5 rows x 53 columns]"
      ]
     },
     "execution_count": 3,
     "metadata": {},
     "output_type": "execute_result"
    }
   ],
   "source": [
    "df.head()"
   ]
  },
  {
   "cell_type": "code",
   "execution_count": 4,
   "metadata": {
    "collapsed": false
   },
   "outputs": [
    {
     "name": "stdout",
     "output_type": "stream",
     "text": [
      "<class 'pandas.core.frame.DataFrame'>\n",
      "RangeIndex: 200000 entries, 0 to 199999\n",
      "Data columns (total 53 columns):\n",
      "Unique Key                        200000 non-null int64\n",
      "Created Date                      200000 non-null object\n",
      "Closed Date                       188913 non-null object\n",
      "Agency                            200000 non-null object\n",
      "Agency Name                       200000 non-null object\n",
      "Complaint Type                    200000 non-null object\n",
      "Descriptor                        198197 non-null object\n",
      "Location Type                     179328 non-null object\n",
      "Incident Zip                      181049 non-null object\n",
      "Incident Address                  152173 non-null object\n",
      "Street Name                       152152 non-null object\n",
      "Cross Street 1                    108035 non-null object\n",
      "Cross Street 2                    107583 non-null object\n",
      "Intersection Street 1             24790 non-null object\n",
      "Intersection Street 2             24530 non-null object\n",
      "Address Type                      177091 non-null object\n",
      "City                              181095 non-null object\n",
      "Landmark                          127 non-null object\n",
      "Facility Type                     80031 non-null object\n",
      "Status                            199998 non-null object\n",
      "Due Date                          152018 non-null object\n",
      "Resolution Description            198936 non-null object\n",
      "Resolution Action Updated Date    188529 non-null object\n",
      "Community Board                   200000 non-null object\n",
      "Borough                           200000 non-null object\n",
      "X Coordinate (State Plane)        175825 non-null float64\n",
      "Y Coordinate (State Plane)        175825 non-null float64\n",
      "Park Facility Name                200000 non-null object\n",
      "Park Borough                      200000 non-null object\n",
      "School Name                       200000 non-null object\n",
      "School Number                     199907 non-null object\n",
      "School Region                     197128 non-null object\n",
      "School Code                       197128 non-null object\n",
      "School Phone Number               200000 non-null object\n",
      "School Address                    200000 non-null object\n",
      "School City                       200000 non-null object\n",
      "School State                      200000 non-null object\n",
      "School Zip                        199999 non-null object\n",
      "School Not Found                  151897 non-null object\n",
      "School or Citywide Complaint      0 non-null float64\n",
      "Vehicle Type                      34 non-null object\n",
      "Taxi Company Borough              434 non-null object\n",
      "Taxi Pick Up Location             3680 non-null object\n",
      "Bridge Highway Name               1960 non-null object\n",
      "Bridge Highway Direction          1959 non-null object\n",
      "Road Ramp                         1946 non-null object\n",
      "Bridge Highway Segment            2134 non-null object\n",
      "Garage Lot Name                   143 non-null object\n",
      "Ferry Direction                   86 non-null object\n",
      "Ferry Terminal Name               215 non-null object\n",
      "Latitude                          175825 non-null float64\n",
      "Longitude                         175825 non-null float64\n",
      "Location                          175825 non-null object\n",
      "dtypes: float64(5), int64(1), object(47)\n",
      "memory usage: 80.9+ MB\n"
     ]
    }
   ],
   "source": [
    "df.info()"
   ]
  },
  {
   "cell_type": "code",
   "execution_count": 8,
   "metadata": {
    "collapsed": false
   },
   "outputs": [
    {
     "data": {
      "text/html": [
       "<div>\n",
       "<table border=\"1\" class=\"dataframe\">\n",
       "  <thead>\n",
       "    <tr style=\"text-align: right;\">\n",
       "      <th></th>\n",
       "      <th>Unique Key</th>\n",
       "      <th>Created Date</th>\n",
       "      <th>Closed Date</th>\n",
       "      <th>Agency</th>\n",
       "      <th>Agency Name</th>\n",
       "      <th>Complaint Type</th>\n",
       "      <th>Descriptor</th>\n",
       "      <th>Location Type</th>\n",
       "      <th>Incident Zip</th>\n",
       "      <th>Incident Address</th>\n",
       "      <th>...</th>\n",
       "      <th>Bridge Highway Direction</th>\n",
       "      <th>Road Ramp</th>\n",
       "      <th>Bridge Highway Segment</th>\n",
       "      <th>Garage Lot Name</th>\n",
       "      <th>Ferry Direction</th>\n",
       "      <th>Ferry Terminal Name</th>\n",
       "      <th>Latitude</th>\n",
       "      <th>Longitude</th>\n",
       "      <th>Location</th>\n",
       "      <th>created_datetime</th>\n",
       "    </tr>\n",
       "  </thead>\n",
       "  <tbody>\n",
       "    <tr>\n",
       "      <th>0</th>\n",
       "      <td>31015465</td>\n",
       "      <td>07/06/2015 10:58:27 AM</td>\n",
       "      <td>07/22/2015 01:07:20 AM</td>\n",
       "      <td>DCA</td>\n",
       "      <td>Department of Consumer Affairs</td>\n",
       "      <td>Consumer Complaint</td>\n",
       "      <td>Demand for Cash</td>\n",
       "      <td>NaN</td>\n",
       "      <td>11360</td>\n",
       "      <td>27-16 203 STREET</td>\n",
       "      <td>...</td>\n",
       "      <td>NaN</td>\n",
       "      <td>NaN</td>\n",
       "      <td>NaN</td>\n",
       "      <td>NaN</td>\n",
       "      <td>NaN</td>\n",
       "      <td>NaN</td>\n",
       "      <td>40.773540</td>\n",
       "      <td>-73.788237</td>\n",
       "      <td>(40.773539552542, -73.78823697228408)</td>\n",
       "      <td>2015-07-06 10:58:27</td>\n",
       "    </tr>\n",
       "    <tr>\n",
       "      <th>1</th>\n",
       "      <td>30997660</td>\n",
       "      <td>07/03/2015 01:26:29 PM</td>\n",
       "      <td>07/03/2015 02:08:20 PM</td>\n",
       "      <td>NYPD</td>\n",
       "      <td>New York City Police Department</td>\n",
       "      <td>Vending</td>\n",
       "      <td>In Prohibited Area</td>\n",
       "      <td>Residential Building/House</td>\n",
       "      <td>10019</td>\n",
       "      <td>200 CENTRAL PARK SOUTH</td>\n",
       "      <td>...</td>\n",
       "      <td>NaN</td>\n",
       "      <td>NaN</td>\n",
       "      <td>NaN</td>\n",
       "      <td>NaN</td>\n",
       "      <td>NaN</td>\n",
       "      <td>NaN</td>\n",
       "      <td>40.767021</td>\n",
       "      <td>-73.979448</td>\n",
       "      <td>(40.76702142171206, -73.97944780718524)</td>\n",
       "      <td>2015-07-03 13:26:29</td>\n",
       "    </tr>\n",
       "    <tr>\n",
       "      <th>2</th>\n",
       "      <td>31950223</td>\n",
       "      <td>11/09/2015 03:55:09 AM</td>\n",
       "      <td>11/09/2015 08:08:57 AM</td>\n",
       "      <td>NYPD</td>\n",
       "      <td>New York City Police Department</td>\n",
       "      <td>Blocked Driveway</td>\n",
       "      <td>No Access</td>\n",
       "      <td>Street/Sidewalk</td>\n",
       "      <td>10453</td>\n",
       "      <td>1993 GRAND AVENUE</td>\n",
       "      <td>...</td>\n",
       "      <td>NaN</td>\n",
       "      <td>NaN</td>\n",
       "      <td>NaN</td>\n",
       "      <td>NaN</td>\n",
       "      <td>NaN</td>\n",
       "      <td>NaN</td>\n",
       "      <td>40.852671</td>\n",
       "      <td>-73.910608</td>\n",
       "      <td>(40.85267061877697, -73.91060771362552)</td>\n",
       "      <td>2015-11-09 03:55:09</td>\n",
       "    </tr>\n",
       "    <tr>\n",
       "      <th>3</th>\n",
       "      <td>31000038</td>\n",
       "      <td>07/03/2015 02:18:32 AM</td>\n",
       "      <td>07/03/2015 07:54:48 AM</td>\n",
       "      <td>NYPD</td>\n",
       "      <td>New York City Police Department</td>\n",
       "      <td>Noise - Commercial</td>\n",
       "      <td>Loud Music/Party</td>\n",
       "      <td>Club/Bar/Restaurant</td>\n",
       "      <td>11372</td>\n",
       "      <td>84-16 NORTHERN BOULEVARD</td>\n",
       "      <td>...</td>\n",
       "      <td>NaN</td>\n",
       "      <td>NaN</td>\n",
       "      <td>NaN</td>\n",
       "      <td>NaN</td>\n",
       "      <td>NaN</td>\n",
       "      <td>NaN</td>\n",
       "      <td>40.755774</td>\n",
       "      <td>-73.883262</td>\n",
       "      <td>(40.755773786469966, -73.88326243225418)</td>\n",
       "      <td>2015-07-03 02:18:32</td>\n",
       "    </tr>\n",
       "    <tr>\n",
       "      <th>4</th>\n",
       "      <td>30995614</td>\n",
       "      <td>07/04/2015 12:03:27 AM</td>\n",
       "      <td>07/04/2015 03:33:09 AM</td>\n",
       "      <td>NYPD</td>\n",
       "      <td>New York City Police Department</td>\n",
       "      <td>Noise - Street/Sidewalk</td>\n",
       "      <td>Loud Talking</td>\n",
       "      <td>Street/Sidewalk</td>\n",
       "      <td>11216</td>\n",
       "      <td>1057 BERGEN STREET</td>\n",
       "      <td>...</td>\n",
       "      <td>NaN</td>\n",
       "      <td>NaN</td>\n",
       "      <td>NaN</td>\n",
       "      <td>NaN</td>\n",
       "      <td>NaN</td>\n",
       "      <td>NaN</td>\n",
       "      <td>40.676175</td>\n",
       "      <td>-73.951269</td>\n",
       "      <td>(40.67617516102934, -73.9512690004692)</td>\n",
       "      <td>2015-07-04 00:03:27</td>\n",
       "    </tr>\n",
       "  </tbody>\n",
       "</table>\n",
       "<p>5 rows × 54 columns</p>\n",
       "</div>"
      ],
      "text/plain": [
       "   Unique Key            Created Date             Closed Date Agency  \\\n",
       "0    31015465  07/06/2015 10:58:27 AM  07/22/2015 01:07:20 AM    DCA   \n",
       "1    30997660  07/03/2015 01:26:29 PM  07/03/2015 02:08:20 PM   NYPD   \n",
       "2    31950223  11/09/2015 03:55:09 AM  11/09/2015 08:08:57 AM   NYPD   \n",
       "3    31000038  07/03/2015 02:18:32 AM  07/03/2015 07:54:48 AM   NYPD   \n",
       "4    30995614  07/04/2015 12:03:27 AM  07/04/2015 03:33:09 AM   NYPD   \n",
       "\n",
       "                       Agency Name           Complaint Type  \\\n",
       "0   Department of Consumer Affairs       Consumer Complaint   \n",
       "1  New York City Police Department                  Vending   \n",
       "2  New York City Police Department         Blocked Driveway   \n",
       "3  New York City Police Department       Noise - Commercial   \n",
       "4  New York City Police Department  Noise - Street/Sidewalk   \n",
       "\n",
       "           Descriptor               Location Type Incident Zip  \\\n",
       "0     Demand for Cash                         NaN        11360   \n",
       "1  In Prohibited Area  Residential Building/House        10019   \n",
       "2           No Access             Street/Sidewalk        10453   \n",
       "3    Loud Music/Party         Club/Bar/Restaurant        11372   \n",
       "4        Loud Talking             Street/Sidewalk        11216   \n",
       "\n",
       "           Incident Address         ...         Bridge Highway Direction  \\\n",
       "0          27-16 203 STREET         ...                              NaN   \n",
       "1    200 CENTRAL PARK SOUTH         ...                              NaN   \n",
       "2         1993 GRAND AVENUE         ...                              NaN   \n",
       "3  84-16 NORTHERN BOULEVARD         ...                              NaN   \n",
       "4        1057 BERGEN STREET         ...                              NaN   \n",
       "\n",
       "  Road Ramp Bridge Highway Segment Garage Lot Name Ferry Direction  \\\n",
       "0       NaN                    NaN             NaN             NaN   \n",
       "1       NaN                    NaN             NaN             NaN   \n",
       "2       NaN                    NaN             NaN             NaN   \n",
       "3       NaN                    NaN             NaN             NaN   \n",
       "4       NaN                    NaN             NaN             NaN   \n",
       "\n",
       "  Ferry Terminal Name   Latitude  Longitude  \\\n",
       "0                 NaN  40.773540 -73.788237   \n",
       "1                 NaN  40.767021 -73.979448   \n",
       "2                 NaN  40.852671 -73.910608   \n",
       "3                 NaN  40.755774 -73.883262   \n",
       "4                 NaN  40.676175 -73.951269   \n",
       "\n",
       "                                   Location    created_datetime  \n",
       "0     (40.773539552542, -73.78823697228408) 2015-07-06 10:58:27  \n",
       "1   (40.76702142171206, -73.97944780718524) 2015-07-03 13:26:29  \n",
       "2   (40.85267061877697, -73.91060771362552) 2015-11-09 03:55:09  \n",
       "3  (40.755773786469966, -73.88326243225418) 2015-07-03 02:18:32  \n",
       "4    (40.67617516102934, -73.9512690004692) 2015-07-04 00:03:27  \n",
       "\n",
       "[5 rows x 54 columns]"
      ]
     },
     "execution_count": 8,
     "metadata": {},
     "output_type": "execute_result"
    }
   ],
   "source": [
    "def parse_date(str_date):\n",
    "    return dateutil.parser.parse(str_date)\n",
    "\n",
    "df['created_datetime'] = df['Created Date'].apply(parse_date)\n",
    "df.head()"
   ]
  },
  {
   "cell_type": "code",
   "execution_count": 9,
   "metadata": {
    "collapsed": true
   },
   "outputs": [],
   "source": [
    "df.index = df['created_datetime']"
   ]
  },
  {
   "cell_type": "code",
   "execution_count": 10,
   "metadata": {
    "collapsed": false
   },
   "outputs": [
    {
     "data": {
      "text/html": [
       "<div>\n",
       "<table border=\"1\" class=\"dataframe\">\n",
       "  <thead>\n",
       "    <tr style=\"text-align: right;\">\n",
       "      <th></th>\n",
       "      <th>Unique Key</th>\n",
       "      <th>Created Date</th>\n",
       "      <th>Closed Date</th>\n",
       "      <th>Agency</th>\n",
       "      <th>Agency Name</th>\n",
       "      <th>Complaint Type</th>\n",
       "      <th>Descriptor</th>\n",
       "      <th>Location Type</th>\n",
       "      <th>Incident Zip</th>\n",
       "      <th>Incident Address</th>\n",
       "      <th>...</th>\n",
       "      <th>Bridge Highway Direction</th>\n",
       "      <th>Road Ramp</th>\n",
       "      <th>Bridge Highway Segment</th>\n",
       "      <th>Garage Lot Name</th>\n",
       "      <th>Ferry Direction</th>\n",
       "      <th>Ferry Terminal Name</th>\n",
       "      <th>Latitude</th>\n",
       "      <th>Longitude</th>\n",
       "      <th>Location</th>\n",
       "      <th>created_datetime</th>\n",
       "    </tr>\n",
       "    <tr>\n",
       "      <th>created_datetime</th>\n",
       "      <th></th>\n",
       "      <th></th>\n",
       "      <th></th>\n",
       "      <th></th>\n",
       "      <th></th>\n",
       "      <th></th>\n",
       "      <th></th>\n",
       "      <th></th>\n",
       "      <th></th>\n",
       "      <th></th>\n",
       "      <th></th>\n",
       "      <th></th>\n",
       "      <th></th>\n",
       "      <th></th>\n",
       "      <th></th>\n",
       "      <th></th>\n",
       "      <th></th>\n",
       "      <th></th>\n",
       "      <th></th>\n",
       "      <th></th>\n",
       "      <th></th>\n",
       "    </tr>\n",
       "  </thead>\n",
       "  <tbody>\n",
       "    <tr>\n",
       "      <th>2015-07-06 10:58:27</th>\n",
       "      <td>31015465</td>\n",
       "      <td>07/06/2015 10:58:27 AM</td>\n",
       "      <td>07/22/2015 01:07:20 AM</td>\n",
       "      <td>DCA</td>\n",
       "      <td>Department of Consumer Affairs</td>\n",
       "      <td>Consumer Complaint</td>\n",
       "      <td>Demand for Cash</td>\n",
       "      <td>NaN</td>\n",
       "      <td>11360</td>\n",
       "      <td>27-16 203 STREET</td>\n",
       "      <td>...</td>\n",
       "      <td>NaN</td>\n",
       "      <td>NaN</td>\n",
       "      <td>NaN</td>\n",
       "      <td>NaN</td>\n",
       "      <td>NaN</td>\n",
       "      <td>NaN</td>\n",
       "      <td>40.773540</td>\n",
       "      <td>-73.788237</td>\n",
       "      <td>(40.773539552542, -73.78823697228408)</td>\n",
       "      <td>2015-07-06 10:58:27</td>\n",
       "    </tr>\n",
       "    <tr>\n",
       "      <th>2015-07-03 13:26:29</th>\n",
       "      <td>30997660</td>\n",
       "      <td>07/03/2015 01:26:29 PM</td>\n",
       "      <td>07/03/2015 02:08:20 PM</td>\n",
       "      <td>NYPD</td>\n",
       "      <td>New York City Police Department</td>\n",
       "      <td>Vending</td>\n",
       "      <td>In Prohibited Area</td>\n",
       "      <td>Residential Building/House</td>\n",
       "      <td>10019</td>\n",
       "      <td>200 CENTRAL PARK SOUTH</td>\n",
       "      <td>...</td>\n",
       "      <td>NaN</td>\n",
       "      <td>NaN</td>\n",
       "      <td>NaN</td>\n",
       "      <td>NaN</td>\n",
       "      <td>NaN</td>\n",
       "      <td>NaN</td>\n",
       "      <td>40.767021</td>\n",
       "      <td>-73.979448</td>\n",
       "      <td>(40.76702142171206, -73.97944780718524)</td>\n",
       "      <td>2015-07-03 13:26:29</td>\n",
       "    </tr>\n",
       "    <tr>\n",
       "      <th>2015-11-09 03:55:09</th>\n",
       "      <td>31950223</td>\n",
       "      <td>11/09/2015 03:55:09 AM</td>\n",
       "      <td>11/09/2015 08:08:57 AM</td>\n",
       "      <td>NYPD</td>\n",
       "      <td>New York City Police Department</td>\n",
       "      <td>Blocked Driveway</td>\n",
       "      <td>No Access</td>\n",
       "      <td>Street/Sidewalk</td>\n",
       "      <td>10453</td>\n",
       "      <td>1993 GRAND AVENUE</td>\n",
       "      <td>...</td>\n",
       "      <td>NaN</td>\n",
       "      <td>NaN</td>\n",
       "      <td>NaN</td>\n",
       "      <td>NaN</td>\n",
       "      <td>NaN</td>\n",
       "      <td>NaN</td>\n",
       "      <td>40.852671</td>\n",
       "      <td>-73.910608</td>\n",
       "      <td>(40.85267061877697, -73.91060771362552)</td>\n",
       "      <td>2015-11-09 03:55:09</td>\n",
       "    </tr>\n",
       "    <tr>\n",
       "      <th>2015-07-03 02:18:32</th>\n",
       "      <td>31000038</td>\n",
       "      <td>07/03/2015 02:18:32 AM</td>\n",
       "      <td>07/03/2015 07:54:48 AM</td>\n",
       "      <td>NYPD</td>\n",
       "      <td>New York City Police Department</td>\n",
       "      <td>Noise - Commercial</td>\n",
       "      <td>Loud Music/Party</td>\n",
       "      <td>Club/Bar/Restaurant</td>\n",
       "      <td>11372</td>\n",
       "      <td>84-16 NORTHERN BOULEVARD</td>\n",
       "      <td>...</td>\n",
       "      <td>NaN</td>\n",
       "      <td>NaN</td>\n",
       "      <td>NaN</td>\n",
       "      <td>NaN</td>\n",
       "      <td>NaN</td>\n",
       "      <td>NaN</td>\n",
       "      <td>40.755774</td>\n",
       "      <td>-73.883262</td>\n",
       "      <td>(40.755773786469966, -73.88326243225418)</td>\n",
       "      <td>2015-07-03 02:18:32</td>\n",
       "    </tr>\n",
       "    <tr>\n",
       "      <th>2015-07-04 00:03:27</th>\n",
       "      <td>30995614</td>\n",
       "      <td>07/04/2015 12:03:27 AM</td>\n",
       "      <td>07/04/2015 03:33:09 AM</td>\n",
       "      <td>NYPD</td>\n",
       "      <td>New York City Police Department</td>\n",
       "      <td>Noise - Street/Sidewalk</td>\n",
       "      <td>Loud Talking</td>\n",
       "      <td>Street/Sidewalk</td>\n",
       "      <td>11216</td>\n",
       "      <td>1057 BERGEN STREET</td>\n",
       "      <td>...</td>\n",
       "      <td>NaN</td>\n",
       "      <td>NaN</td>\n",
       "      <td>NaN</td>\n",
       "      <td>NaN</td>\n",
       "      <td>NaN</td>\n",
       "      <td>NaN</td>\n",
       "      <td>40.676175</td>\n",
       "      <td>-73.951269</td>\n",
       "      <td>(40.67617516102934, -73.9512690004692)</td>\n",
       "      <td>2015-07-04 00:03:27</td>\n",
       "    </tr>\n",
       "  </tbody>\n",
       "</table>\n",
       "<p>5 rows × 54 columns</p>\n",
       "</div>"
      ],
      "text/plain": [
       "                     Unique Key            Created Date  \\\n",
       "created_datetime                                          \n",
       "2015-07-06 10:58:27    31015465  07/06/2015 10:58:27 AM   \n",
       "2015-07-03 13:26:29    30997660  07/03/2015 01:26:29 PM   \n",
       "2015-11-09 03:55:09    31950223  11/09/2015 03:55:09 AM   \n",
       "2015-07-03 02:18:32    31000038  07/03/2015 02:18:32 AM   \n",
       "2015-07-04 00:03:27    30995614  07/04/2015 12:03:27 AM   \n",
       "\n",
       "                                Closed Date Agency  \\\n",
       "created_datetime                                     \n",
       "2015-07-06 10:58:27  07/22/2015 01:07:20 AM    DCA   \n",
       "2015-07-03 13:26:29  07/03/2015 02:08:20 PM   NYPD   \n",
       "2015-11-09 03:55:09  11/09/2015 08:08:57 AM   NYPD   \n",
       "2015-07-03 02:18:32  07/03/2015 07:54:48 AM   NYPD   \n",
       "2015-07-04 00:03:27  07/04/2015 03:33:09 AM   NYPD   \n",
       "\n",
       "                                         Agency Name           Complaint Type  \\\n",
       "created_datetime                                                                \n",
       "2015-07-06 10:58:27   Department of Consumer Affairs       Consumer Complaint   \n",
       "2015-07-03 13:26:29  New York City Police Department                  Vending   \n",
       "2015-11-09 03:55:09  New York City Police Department         Blocked Driveway   \n",
       "2015-07-03 02:18:32  New York City Police Department       Noise - Commercial   \n",
       "2015-07-04 00:03:27  New York City Police Department  Noise - Street/Sidewalk   \n",
       "\n",
       "                             Descriptor               Location Type  \\\n",
       "created_datetime                                                      \n",
       "2015-07-06 10:58:27     Demand for Cash                         NaN   \n",
       "2015-07-03 13:26:29  In Prohibited Area  Residential Building/House   \n",
       "2015-11-09 03:55:09           No Access             Street/Sidewalk   \n",
       "2015-07-03 02:18:32    Loud Music/Party         Club/Bar/Restaurant   \n",
       "2015-07-04 00:03:27        Loud Talking             Street/Sidewalk   \n",
       "\n",
       "                    Incident Zip          Incident Address  \\\n",
       "created_datetime                                             \n",
       "2015-07-06 10:58:27        11360          27-16 203 STREET   \n",
       "2015-07-03 13:26:29        10019    200 CENTRAL PARK SOUTH   \n",
       "2015-11-09 03:55:09        10453         1993 GRAND AVENUE   \n",
       "2015-07-03 02:18:32        11372  84-16 NORTHERN BOULEVARD   \n",
       "2015-07-04 00:03:27        11216        1057 BERGEN STREET   \n",
       "\n",
       "                            ...         Bridge Highway Direction Road Ramp  \\\n",
       "created_datetime            ...                                              \n",
       "2015-07-06 10:58:27         ...                              NaN       NaN   \n",
       "2015-07-03 13:26:29         ...                              NaN       NaN   \n",
       "2015-11-09 03:55:09         ...                              NaN       NaN   \n",
       "2015-07-03 02:18:32         ...                              NaN       NaN   \n",
       "2015-07-04 00:03:27         ...                              NaN       NaN   \n",
       "\n",
       "                    Bridge Highway Segment Garage Lot Name Ferry Direction  \\\n",
       "created_datetime                                                             \n",
       "2015-07-06 10:58:27                    NaN             NaN             NaN   \n",
       "2015-07-03 13:26:29                    NaN             NaN             NaN   \n",
       "2015-11-09 03:55:09                    NaN             NaN             NaN   \n",
       "2015-07-03 02:18:32                    NaN             NaN             NaN   \n",
       "2015-07-04 00:03:27                    NaN             NaN             NaN   \n",
       "\n",
       "                    Ferry Terminal Name   Latitude  Longitude  \\\n",
       "created_datetime                                                \n",
       "2015-07-06 10:58:27                 NaN  40.773540 -73.788237   \n",
       "2015-07-03 13:26:29                 NaN  40.767021 -73.979448   \n",
       "2015-11-09 03:55:09                 NaN  40.852671 -73.910608   \n",
       "2015-07-03 02:18:32                 NaN  40.755774 -73.883262   \n",
       "2015-07-04 00:03:27                 NaN  40.676175 -73.951269   \n",
       "\n",
       "                                                     Location  \\\n",
       "created_datetime                                                \n",
       "2015-07-06 10:58:27     (40.773539552542, -73.78823697228408)   \n",
       "2015-07-03 13:26:29   (40.76702142171206, -73.97944780718524)   \n",
       "2015-11-09 03:55:09   (40.85267061877697, -73.91060771362552)   \n",
       "2015-07-03 02:18:32  (40.755773786469966, -73.88326243225418)   \n",
       "2015-07-04 00:03:27    (40.67617516102934, -73.9512690004692)   \n",
       "\n",
       "                       created_datetime  \n",
       "created_datetime                         \n",
       "2015-07-06 10:58:27 2015-07-06 10:58:27  \n",
       "2015-07-03 13:26:29 2015-07-03 13:26:29  \n",
       "2015-11-09 03:55:09 2015-11-09 03:55:09  \n",
       "2015-07-03 02:18:32 2015-07-03 02:18:32  \n",
       "2015-07-04 00:03:27 2015-07-04 00:03:27  \n",
       "\n",
       "[5 rows x 54 columns]"
      ]
     },
     "execution_count": 10,
     "metadata": {},
     "output_type": "execute_result"
    }
   ],
   "source": [
    "df.head()"
   ]
  },
  {
   "cell_type": "code",
   "execution_count": null,
   "metadata": {
    "collapsed": true
   },
   "outputs": [],
   "source": []
  },
  {
   "cell_type": "markdown",
   "metadata": {},
   "source": [
    "What was the **most popular type of complaint**, and how many times was it filed?"
   ]
  },
  {
   "cell_type": "code",
   "execution_count": 3,
   "metadata": {
    "collapsed": false
   },
   "outputs": [
    {
     "data": {
      "text/plain": [
       "Blocked Driveway    21779\n",
       "Name: Complaint Type, dtype: int64"
      ]
     },
     "execution_count": 3,
     "metadata": {},
     "output_type": "execute_result"
    }
   ],
   "source": [
    "df['Complaint Type'].value_counts().head(1)"
   ]
  },
  {
   "cell_type": "markdown",
   "metadata": {},
   "source": [
    "Make a horizontal bar graph of the **top 5 most frequent complaint types**."
   ]
  },
  {
   "cell_type": "code",
   "execution_count": 6,
   "metadata": {
    "collapsed": false
   },
   "outputs": [
    {
     "data": {
      "text/plain": [
       "<matplotlib.axes._subplots.AxesSubplot at 0x108f9a5f8>"
      ]
     },
     "execution_count": 6,
     "metadata": {},
     "output_type": "execute_result"
    },
    {
     "data": {
      "image/png": "[encoded data removed]",
      "text/plain": [
       "<matplotlib.figure.Figure at 0x10980c9b0>"
      ]
     },
     "metadata": {},
     "output_type": "display_data"
    }
   ],
   "source": [
    "df['Complaint Type'].value_counts().head().sort_values().plot(kind='barh')"
   ]
  },
  {
   "cell_type": "markdown",
   "metadata": {},
   "source": [
    "Which borough has the **most complaints per capita?** Since it's only 5 boroughs, you can do the math manually."
   ]
  },
  {
   "cell_type": "code",
   "execution_count": 11,
   "metadata": {
    "collapsed": false
   },
   "outputs": [
    {
     "data": {
      "text/plain": [
       "BROOKLYN         57129\n",
       "QUEENS           46824\n",
       "MANHATTAN        42050\n",
       "BRONX            29610\n",
       "Unspecified      17000\n",
       "STATEN ISLAND     7387\n",
       "Name: Borough, dtype: int64"
      ]
     },
     "execution_count": 11,
     "metadata": {},
     "output_type": "execute_result"
    }
   ],
   "source": [
    "df['Borough'].value_counts()"
   ]
  },
  {
   "cell_type": "code",
   "execution_count": 12,
   "metadata": {
    "collapsed": false
   },
   "outputs": [],
   "source": [
    "brooklyn_population = 2636735\n",
    "manhattan_population = 1644518\n",
    "queens_population = 2339150\n",
    "bronx_population = 1455444\n",
    "staten_island_population = 474558\n",
    "\n",
    "#http://www1.nyc.gov/site/planning/data-maps/nyc-population/current-future-populations.page"
   ]
  },
  {
   "cell_type": "code",
   "execution_count": 13,
   "metadata": {
    "collapsed": false
   },
   "outputs": [
    {
     "name": "stdout",
     "output_type": "stream",
     "text": [
      "0.02166656869196184 0.0255698022156036 0.020344307304162854 0.02001752773443345 0.015566063579162083\n",
      "Manhattan whines the most\n"
     ]
    }
   ],
   "source": [
    "brooklyn_complaints_pc = 57129 / brooklyn_population\n",
    "manhattan_complaints_pc = 42050 / manhattan_population\n",
    "bronx_complaints_pc = 29610 / bronx_population\n",
    "queens_complaints_pc = 46824 / queens_population\n",
    "staten_island_complaints_pc = 7387 / staten_island_population\n",
    "\n",
    "print(brooklyn_complaints_pc, manhattan_complaints_pc, bronx_complaints_pc, queens_complaints_pc, staten_island_complaints_pc)\n",
    "print(\"Manhattan whines the most\")"
   ]
  },
  {
   "cell_type": "code",
   "execution_count": 7,
   "metadata": {
    "collapsed": false
   },
   "outputs": [
    {
     "data": {
      "text/html": [
       "<div>\n",
       "<table border=\"1\" class=\"dataframe\">\n",
       "  <thead>\n",
       "    <tr style=\"text-align: right;\">\n",
       "      <th></th>\n",
       "      <th>Borough</th>\n",
       "      <th>name</th>\n",
       "    </tr>\n",
       "  </thead>\n",
       "  <tbody>\n",
       "    <tr>\n",
       "      <th>BROOKLYN</th>\n",
       "      <td>57129</td>\n",
       "      <td>BROOKLYN</td>\n",
       "    </tr>\n",
       "    <tr>\n",
       "      <th>QUEENS</th>\n",
       "      <td>46824</td>\n",
       "      <td>QUEENS</td>\n",
       "    </tr>\n",
       "    <tr>\n",
       "      <th>MANHATTAN</th>\n",
       "      <td>42050</td>\n",
       "      <td>MANHATTAN</td>\n",
       "    </tr>\n",
       "    <tr>\n",
       "      <th>BRONX</th>\n",
       "      <td>29610</td>\n",
       "      <td>BRONX</td>\n",
       "    </tr>\n",
       "    <tr>\n",
       "      <th>Unspecified</th>\n",
       "      <td>17000</td>\n",
       "      <td>Unspecified</td>\n",
       "    </tr>\n",
       "    <tr>\n",
       "      <th>STATEN ISLAND</th>\n",
       "      <td>7387</td>\n",
       "      <td>STATEN ISLAND</td>\n",
       "    </tr>\n",
       "  </tbody>\n",
       "</table>\n",
       "</div>"
      ],
      "text/plain": [
       "               Borough           name\n",
       "BROOKLYN         57129       BROOKLYN\n",
       "QUEENS           46824         QUEENS\n",
       "MANHATTAN        42050      MANHATTAN\n",
       "BRONX            29610          BRONX\n",
       "Unspecified      17000    Unspecified\n",
       "STATEN ISLAND     7387  STATEN ISLAND"
      ]
     },
     "execution_count": 7,
     "metadata": {},
     "output_type": "execute_result"
    }
   ],
   "source": [
    "#Here's how to convert the data into a dataframe\n",
    "\n",
    "borough_counts = pd.DataFrame(df['Borough'].value_counts())\n",
    "borough_counts['name'] = borough_counts.index\n",
    "borough_counts"
   ]
  },
  {
   "cell_type": "markdown",
   "metadata": {},
   "source": [
    "According to your selection of data, **how many cases were filed in March?** How about May?"
   ]
  },
  {
   "cell_type": "code",
   "execution_count": 11,
   "metadata": {
    "collapsed": false,
    "scrolled": true
   },
   "outputs": [
    {
     "data": {
      "text/plain": [
       "15025"
      ]
     },
     "execution_count": 11,
     "metadata": {},
     "output_type": "execute_result"
    }
   ],
   "source": [
    "df['2015-03']['Unique Key'].count()"
   ]
  },
  {
   "cell_type": "code",
   "execution_count": 12,
   "metadata": {
    "collapsed": false
   },
   "outputs": [
    {
     "data": {
      "text/plain": [
       "49715"
      ]
     },
     "execution_count": 12,
     "metadata": {},
     "output_type": "execute_result"
    }
   ],
   "source": [
    "df['2015-05']['Unique Key'].count()"
   ]
  },
  {
   "cell_type": "markdown",
   "metadata": {},
   "source": [
    "I'd like to see all of the 311 complaints **called in on April 1st.**\n",
    "\n",
    "> **Surprise!** We couldn't do this in class, but it was just a limitation of our data set"
   ]
  },
  {
   "cell_type": "code",
   "execution_count": 13,
   "metadata": {
    "collapsed": false
   },
   "outputs": [
    {
     "data": {
      "text/plain": [
       "573"
      ]
     },
     "execution_count": 13,
     "metadata": {},
     "output_type": "execute_result"
    }
   ],
   "source": [
    "df['2015-04-01']['Unique Key'].count()"
   ]
  },
  {
   "cell_type": "markdown",
   "metadata": {},
   "source": [
    "What was the most popular type of complaint on April 1st?"
   ]
  },
  {
   "cell_type": "markdown",
   "metadata": {},
   "source": [
    "What were the **most popular three types of complaint** on April 1st"
   ]
  },
  {
   "cell_type": "code",
   "execution_count": 14,
   "metadata": {
    "collapsed": false
   },
   "outputs": [
    {
     "data": {
      "text/plain": [
       "Illegal Parking     67\n",
       "Street Condition    64\n",
       "Blocked Driveway    58\n",
       "Name: Complaint Type, dtype: int64"
      ]
     },
     "execution_count": 14,
     "metadata": {},
     "output_type": "execute_result"
    }
   ],
   "source": [
    "df['2015-04-01']['Complaint Type'].value_counts().head(3)"
   ]
  },
  {
   "cell_type": "code",
   "execution_count": null,
   "metadata": {
    "collapsed": true
   },
   "outputs": [],
   "source": []
  },
  {
   "cell_type": "markdown",
   "metadata": {},
   "source": [
    "**What month has the most reports filed?** How many? Graph it."
   ]
  },
  {
   "cell_type": "code",
   "execution_count": 18,
   "metadata": {
    "collapsed": false
   },
   "outputs": [
    {
     "data": {
      "text/plain": [
       "<matplotlib.text.Text at 0x1083ceda0>"
      ]
     },
     "execution_count": 18,
     "metadata": {},
     "output_type": "execute_result"
    },
    {
     "data": {
      "image/png": "[encoded data removed]",
      "text/plain": [
       "<matplotlib.figure.Figure at 0x104f043c8>"
      ]
     },
     "metadata": {},
     "output_type": "display_data"
    }
   ],
   "source": [
    "ax = df.resample('M')['Unique Key'].count().plot(kind='barh')\n",
    "ax.set_yticklabels(['Jan', 'Feb', 'Mar', 'Apr', 'May', 'Jun', 'Jul', 'Aug', 'Sep', 'Oct', 'Nov', 'Dec'])\n",
    "ax.set_ylabel(\"Month\")"
   ]
  },
  {
   "cell_type": "markdown",
   "metadata": {},
   "source": [
    "**What week of the year has the most reports filed?** How many? Graph the weekly complaints."
   ]
  },
  {
   "cell_type": "code",
   "execution_count": null,
   "metadata": {
    "collapsed": true
   },
   "outputs": [],
   "source": [
    "df.index.week"
   ]
  },
  {
   "cell_type": "code",
   "execution_count": 17,
   "metadata": {
    "collapsed": false
   },
   "outputs": [
    {
     "data": {
      "text/plain": [
       "<matplotlib.text.Text at 0x1098d0208>"
      ]
     },
     "execution_count": 17,
     "metadata": {},
     "output_type": "execute_result"
    },
    {
     "data": {
      "image/png": "[encoded data removed]",
      "text/plain": [
       "<matplotlib.figure.Figure at 0x109ab1e80>"
      ]
     },
     "metadata": {},
     "output_type": "display_data"
    }
   ],
   "source": [
    "ax = df.groupby(by=df.index.week)['Unique Key'].count().plot()\n",
    "ax.set_xlabel(\"Week\")"
   ]
  },
  {
   "cell_type": "code",
   "execution_count": 19,
   "metadata": {
    "collapsed": false
   },
   "outputs": [
    {
     "data": {
      "text/plain": [
       "<matplotlib.axes._subplots.AxesSubplot at 0x10a1cc160>"
      ]
     },
     "execution_count": 19,
     "metadata": {},
     "output_type": "execute_result"
    },
    {
     "data": {
      "image/png": "[encoded data removed]",
      "text/plain": [
       "<matplotlib.figure.Figure at 0x10a1b9f98>"
      ]
     },
     "metadata": {},
     "output_type": "display_data"
    }
   ],
   "source": [
    "df.resample('W')['Unique Key'].count().plot()"
   ]
  },
  {
   "cell_type": "code",
   "execution_count": null,
   "metadata": {
    "collapsed": false
   },
   "outputs": [],
   "source": []
  },
  {
   "cell_type": "markdown",
   "metadata": {},
   "source": [
    "Noise complaints are a big deal. Use `.str.contains` to select noise complaints, and make an chart of when they show up annually. **Then** make a chart about when they show up every day (cyclic)."
   ]
  },
  {
   "cell_type": "code",
   "execution_count": 20,
   "metadata": {
    "collapsed": false
   },
   "outputs": [
    {
     "data": {
      "image/png": "[encoded data removed]",
      "text/plain": [
       "<matplotlib.figure.Figure at 0x10847c4e0>"
      ]
     },
     "metadata": {},
     "output_type": "display_data"
    },
    {
     "data": {
      "image/png": "[encoded data removed]",
      "text/plain": [
       "<matplotlib.figure.Figure at 0x1084705c0>"
      ]
     },
     "metadata": {},
     "output_type": "display_data"
    }
   ],
   "source": [
    "is_noise_complaints = df['Complaint Type'].str.contains(\"Noise\")\n",
    "ax = df[is_noise_complaints].resample('M').count().plot(y='Unique Key')\n",
    "ax = df[is_noise_complaints].resample('D').count().plot(y='Unique Key')"
   ]
  },
  {
   "cell_type": "code",
   "execution_count": 21,
   "metadata": {
    "collapsed": false
   },
   "outputs": [],
   "source": [
    "#Using a noise df group by the hour \n",
    "\n",
    "#noise_df.groupby(by=noise_df.index.hour)['Unique Key'].count.plot()"
   ]
  },
  {
   "cell_type": "markdown",
   "metadata": {},
   "source": [
    "**Which were the top five days of the year for filing complaints?** How many on each of those days? Graph it."
   ]
  },
  {
   "cell_type": "code",
   "execution_count": 22,
   "metadata": {
    "collapsed": false
   },
   "outputs": [
    {
     "data": {
      "text/plain": [
       "<matplotlib.text.Text at 0x10baefc88>"
      ]
     },
     "execution_count": 22,
     "metadata": {},
     "output_type": "execute_result"
    },
    {
     "data": {
      "image/png": "[encoded data removed]",
      "text/plain": [
       "<matplotlib.figure.Figure at 0x10baa5b70>"
      ]
     },
     "metadata": {},
     "output_type": "display_data"
    }
   ],
   "source": [
    "ax = df['created_datetime'].value_counts().head().plot(kind='barh')\n",
    "ax.set_ylabel(\"Top 5 Days For Complaints\")"
   ]
  },
  {
   "cell_type": "markdown",
   "metadata": {},
   "source": [
    "**What hour of the day are the most complaints?** Graph a day of complaints."
   ]
  },
  {
   "cell_type": "code",
   "execution_count": null,
   "metadata": {
    "collapsed": false
   },
   "outputs": [
    {
     "data": {
      "text/plain": [
       "<matplotlib.axes._subplots.AxesSubplot at 0x10b845a58>"
      ]
     },
     "execution_count": 22,
     "metadata": {},
     "output_type": "execute_result"
    },
    {
     "data": {
      "image/png": "[encoded data removed]",
      "text/plain": [
       "<matplotlib.figure.Figure at 0x10b854f60>"
      ]
     },
     "metadata": {},
     "output_type": "display_data"
    }
   ],
   "source": [
    "#df['created_datetime'].resample('H').count()\n",
    "\n",
    "df.groupby(by=df.index.hour).count().plot(y='Unique Key')"
   ]
  },
  {
   "cell_type": "markdown",
   "metadata": {},
   "source": [
    "One of the hours has an odd number of complaints. What are the most common complaints at that hour, and what are the most common complaints the hour before and after?"
   ]
  },
  {
   "cell_type": "code",
   "execution_count": 25,
   "metadata": {
    "collapsed": false
   },
   "outputs": [
    {
     "data": {
      "text/html": [
       "<div>\n",
       "<table border=\"1\" class=\"dataframe\">\n",
       "  <thead>\n",
       "    <tr style=\"text-align: right;\">\n",
       "      <th></th>\n",
       "      <th>Unique Key</th>\n",
       "      <th>Created Date</th>\n",
       "      <th>Closed Date</th>\n",
       "      <th>Agency</th>\n",
       "      <th>Agency Name</th>\n",
       "      <th>Complaint Type</th>\n",
       "      <th>Descriptor</th>\n",
       "      <th>Location Type</th>\n",
       "      <th>Incident Zip</th>\n",
       "      <th>Incident Address</th>\n",
       "      <th>...</th>\n",
       "      <th>Bridge Highway Direction</th>\n",
       "      <th>Road Ramp</th>\n",
       "      <th>Bridge Highway Segment</th>\n",
       "      <th>Garage Lot Name</th>\n",
       "      <th>Ferry Direction</th>\n",
       "      <th>Ferry Terminal Name</th>\n",
       "      <th>Latitude</th>\n",
       "      <th>Longitude</th>\n",
       "      <th>Location</th>\n",
       "      <th>created_datetime</th>\n",
       "    </tr>\n",
       "    <tr>\n",
       "      <th>created_datetime</th>\n",
       "      <th></th>\n",
       "      <th></th>\n",
       "      <th></th>\n",
       "      <th></th>\n",
       "      <th></th>\n",
       "      <th></th>\n",
       "      <th></th>\n",
       "      <th></th>\n",
       "      <th></th>\n",
       "      <th></th>\n",
       "      <th></th>\n",
       "      <th></th>\n",
       "      <th></th>\n",
       "      <th></th>\n",
       "      <th></th>\n",
       "      <th></th>\n",
       "      <th></th>\n",
       "      <th></th>\n",
       "      <th></th>\n",
       "      <th></th>\n",
       "      <th></th>\n",
       "    </tr>\n",
       "  </thead>\n",
       "  <tbody>\n",
       "    <tr>\n",
       "      <th>2015-07-04 00:03:27</th>\n",
       "      <td>30995614</td>\n",
       "      <td>07/04/2015 12:03:27 AM</td>\n",
       "      <td>07/04/2015 03:33:09 AM</td>\n",
       "      <td>NYPD</td>\n",
       "      <td>New York City Police Department</td>\n",
       "      <td>Noise - Street/Sidewalk</td>\n",
       "      <td>Loud Talking</td>\n",
       "      <td>Street/Sidewalk</td>\n",
       "      <td>11216</td>\n",
       "      <td>1057 BERGEN STREET</td>\n",
       "      <td>...</td>\n",
       "      <td>NaN</td>\n",
       "      <td>NaN</td>\n",
       "      <td>NaN</td>\n",
       "      <td>NaN</td>\n",
       "      <td>NaN</td>\n",
       "      <td>NaN</td>\n",
       "      <td>40.676175</td>\n",
       "      <td>-73.951269</td>\n",
       "      <td>(40.67617516102934, -73.9512690004692)</td>\n",
       "      <td>2015-07-04 00:03:27</td>\n",
       "    </tr>\n",
       "    <tr>\n",
       "      <th>2015-07-09 00:00:00</th>\n",
       "      <td>31042454</td>\n",
       "      <td>07/09/2015 12:00:00 AM</td>\n",
       "      <td>07/20/2015 12:00:00 AM</td>\n",
       "      <td>DOHMH</td>\n",
       "      <td>Department of Health and Mental Hygiene</td>\n",
       "      <td>Standing Water</td>\n",
       "      <td>Other - Explain Below</td>\n",
       "      <td>Other</td>\n",
       "      <td>NaN</td>\n",
       "      <td>NaN</td>\n",
       "      <td>...</td>\n",
       "      <td>NaN</td>\n",
       "      <td>NaN</td>\n",
       "      <td>NaN</td>\n",
       "      <td>NaN</td>\n",
       "      <td>NaN</td>\n",
       "      <td>NaN</td>\n",
       "      <td>NaN</td>\n",
       "      <td>NaN</td>\n",
       "      <td>NaN</td>\n",
       "      <td>2015-07-09 00:00:00</td>\n",
       "    </tr>\n",
       "    <tr>\n",
       "      <th>2015-07-09 00:00:00</th>\n",
       "      <td>31037751</td>\n",
       "      <td>07/09/2015 12:00:00 AM</td>\n",
       "      <td>NaN</td>\n",
       "      <td>DOHMH</td>\n",
       "      <td>Department of Health and Mental Hygiene</td>\n",
       "      <td>Standing Water</td>\n",
       "      <td>Puddle in Ground</td>\n",
       "      <td>3+ Family Apartment Building</td>\n",
       "      <td>10016</td>\n",
       "      <td>379 THIRD AVENUE</td>\n",
       "      <td>...</td>\n",
       "      <td>NaN</td>\n",
       "      <td>NaN</td>\n",
       "      <td>NaN</td>\n",
       "      <td>NaN</td>\n",
       "      <td>NaN</td>\n",
       "      <td>NaN</td>\n",
       "      <td>40.741537</td>\n",
       "      <td>-73.981163</td>\n",
       "      <td>(40.741536747969185, -73.98116258383294)</td>\n",
       "      <td>2015-07-09 00:00:00</td>\n",
       "    </tr>\n",
       "    <tr>\n",
       "      <th>2015-06-29 00:26:39</th>\n",
       "      <td>30956584</td>\n",
       "      <td>06/29/2015 12:26:39 AM</td>\n",
       "      <td>06/29/2015 04:27:24 AM</td>\n",
       "      <td>NYPD</td>\n",
       "      <td>New York City Police Department</td>\n",
       "      <td>Noise - Park</td>\n",
       "      <td>Loud Talking</td>\n",
       "      <td>Park/Playground</td>\n",
       "      <td>11377</td>\n",
       "      <td>NaN</td>\n",
       "      <td>...</td>\n",
       "      <td>NaN</td>\n",
       "      <td>NaN</td>\n",
       "      <td>NaN</td>\n",
       "      <td>NaN</td>\n",
       "      <td>NaN</td>\n",
       "      <td>NaN</td>\n",
       "      <td>40.741280</td>\n",
       "      <td>-73.902565</td>\n",
       "      <td>(40.741280237793646, -73.90256544457489)</td>\n",
       "      <td>2015-06-29 00:26:39</td>\n",
       "    </tr>\n",
       "    <tr>\n",
       "      <th>2015-07-02 00:09:59</th>\n",
       "      <td>30986795</td>\n",
       "      <td>07/02/2015 12:09:59 AM</td>\n",
       "      <td>07/02/2015 12:37:47 AM</td>\n",
       "      <td>NYPD</td>\n",
       "      <td>New York City Police Department</td>\n",
       "      <td>Noise - Street/Sidewalk</td>\n",
       "      <td>Loud Music/Party</td>\n",
       "      <td>Street/Sidewalk</td>\n",
       "      <td>10035</td>\n",
       "      <td>20 PALADINO AVENUE</td>\n",
       "      <td>...</td>\n",
       "      <td>NaN</td>\n",
       "      <td>NaN</td>\n",
       "      <td>NaN</td>\n",
       "      <td>NaN</td>\n",
       "      <td>NaN</td>\n",
       "      <td>NaN</td>\n",
       "      <td>40.800365</td>\n",
       "      <td>-73.931212</td>\n",
       "      <td>(40.80036497064086, -73.9312115560449)</td>\n",
       "      <td>2015-07-02 00:09:59</td>\n",
       "    </tr>\n",
       "  </tbody>\n",
       "</table>\n",
       "<p>5 rows × 54 columns</p>\n",
       "</div>"
      ],
      "text/plain": [
       "                     Unique Key            Created Date  \\\n",
       "created_datetime                                          \n",
       "2015-07-04 00:03:27    30995614  07/04/2015 12:03:27 AM   \n",
       "2015-07-09 00:00:00    31042454  07/09/2015 12:00:00 AM   \n",
       "2015-07-09 00:00:00    31037751  07/09/2015 12:00:00 AM   \n",
       "2015-06-29 00:26:39    30956584  06/29/2015 12:26:39 AM   \n",
       "2015-07-02 00:09:59    30986795  07/02/2015 12:09:59 AM   \n",
       "\n",
       "                                Closed Date Agency  \\\n",
       "created_datetime                                     \n",
       "2015-07-04 00:03:27  07/04/2015 03:33:09 AM   NYPD   \n",
       "2015-07-09 00:00:00  07/20/2015 12:00:00 AM  DOHMH   \n",
       "2015-07-09 00:00:00                     NaN  DOHMH   \n",
       "2015-06-29 00:26:39  06/29/2015 04:27:24 AM   NYPD   \n",
       "2015-07-02 00:09:59  07/02/2015 12:37:47 AM   NYPD   \n",
       "\n",
       "                                                 Agency Name  \\\n",
       "created_datetime                                               \n",
       "2015-07-04 00:03:27          New York City Police Department   \n",
       "2015-07-09 00:00:00  Department of Health and Mental Hygiene   \n",
       "2015-07-09 00:00:00  Department of Health and Mental Hygiene   \n",
       "2015-06-29 00:26:39          New York City Police Department   \n",
       "2015-07-02 00:09:59          New York City Police Department   \n",
       "\n",
       "                              Complaint Type             Descriptor  \\\n",
       "created_datetime                                                      \n",
       "2015-07-04 00:03:27  Noise - Street/Sidewalk           Loud Talking   \n",
       "2015-07-09 00:00:00           Standing Water  Other - Explain Below   \n",
       "2015-07-09 00:00:00           Standing Water       Puddle in Ground   \n",
       "2015-06-29 00:26:39             Noise - Park           Loud Talking   \n",
       "2015-07-02 00:09:59  Noise - Street/Sidewalk       Loud Music/Party   \n",
       "\n",
       "                                    Location Type Incident Zip  \\\n",
       "created_datetime                                                 \n",
       "2015-07-04 00:03:27               Street/Sidewalk        11216   \n",
       "2015-07-09 00:00:00                         Other          NaN   \n",
       "2015-07-09 00:00:00  3+ Family Apartment Building        10016   \n",
       "2015-06-29 00:26:39               Park/Playground        11377   \n",
       "2015-07-02 00:09:59               Street/Sidewalk        10035   \n",
       "\n",
       "                       Incident Address         ...          \\\n",
       "created_datetime                                ...           \n",
       "2015-07-04 00:03:27  1057 BERGEN STREET         ...           \n",
       "2015-07-09 00:00:00                 NaN         ...           \n",
       "2015-07-09 00:00:00    379 THIRD AVENUE         ...           \n",
       "2015-06-29 00:26:39                 NaN         ...           \n",
       "2015-07-02 00:09:59  20 PALADINO AVENUE         ...           \n",
       "\n",
       "                    Bridge Highway Direction Road Ramp Bridge Highway Segment  \\\n",
       "created_datetime                                                                \n",
       "2015-07-04 00:03:27                      NaN       NaN                    NaN   \n",
       "2015-07-09 00:00:00                      NaN       NaN                    NaN   \n",
       "2015-07-09 00:00:00                      NaN       NaN                    NaN   \n",
       "2015-06-29 00:26:39                      NaN       NaN                    NaN   \n",
       "2015-07-02 00:09:59                      NaN       NaN                    NaN   \n",
       "\n",
       "                    Garage Lot Name Ferry Direction Ferry Terminal Name  \\\n",
       "created_datetime                                                          \n",
       "2015-07-04 00:03:27             NaN             NaN                 NaN   \n",
       "2015-07-09 00:00:00             NaN             NaN                 NaN   \n",
       "2015-07-09 00:00:00             NaN             NaN                 NaN   \n",
       "2015-06-29 00:26:39             NaN             NaN                 NaN   \n",
       "2015-07-02 00:09:59             NaN             NaN                 NaN   \n",
       "\n",
       "                      Latitude  Longitude  \\\n",
       "created_datetime                            \n",
       "2015-07-04 00:03:27  40.676175 -73.951269   \n",
       "2015-07-09 00:00:00        NaN        NaN   \n",
       "2015-07-09 00:00:00  40.741537 -73.981163   \n",
       "2015-06-29 00:26:39  40.741280 -73.902565   \n",
       "2015-07-02 00:09:59  40.800365 -73.931212   \n",
       "\n",
       "                                                     Location  \\\n",
       "created_datetime                                                \n",
       "2015-07-04 00:03:27    (40.67617516102934, -73.9512690004692)   \n",
       "2015-07-09 00:00:00                                       NaN   \n",
       "2015-07-09 00:00:00  (40.741536747969185, -73.98116258383294)   \n",
       "2015-06-29 00:26:39  (40.741280237793646, -73.90256544457489)   \n",
       "2015-07-02 00:09:59    (40.80036497064086, -73.9312115560449)   \n",
       "\n",
       "                       created_datetime  \n",
       "created_datetime                         \n",
       "2015-07-04 00:03:27 2015-07-04 00:03:27  \n",
       "2015-07-09 00:00:00 2015-07-09 00:00:00  \n",
       "2015-07-09 00:00:00 2015-07-09 00:00:00  \n",
       "2015-06-29 00:26:39 2015-06-29 00:26:39  \n",
       "2015-07-02 00:09:59 2015-07-02 00:09:59  \n",
       "\n",
       "[5 rows x 54 columns]"
      ]
     },
     "execution_count": 25,
     "metadata": {},
     "output_type": "execute_result"
    }
   ],
   "source": [
    "#df.sort_values(by=df.index.hour).head()\n",
    "\n",
    "midnight_df = df[df.index.hour == 0]\n",
    "midnight_df.head()"
   ]
  },
  {
   "cell_type": "code",
   "execution_count": 28,
   "metadata": {
    "collapsed": false
   },
   "outputs": [
    {
     "data": {
      "text/plain": [
       "HEAT/HOT WATER    4534\n",
       "Rodent            2112\n",
       "PAINT/PLASTER     1946\n",
       "Name: Complaint Type, dtype: int64"
      ]
     },
     "execution_count": 28,
     "metadata": {},
     "output_type": "execute_result"
    }
   ],
   "source": [
    "midnight_df['Complaint Type'].value_counts().head(3)"
   ]
  },
  {
   "cell_type": "code",
   "execution_count": 29,
   "metadata": {
    "collapsed": false
   },
   "outputs": [
    {
     "data": {
      "text/plain": [
       "Noise - Street/Sidewalk    1599\n",
       "Noise - Commercial         1503\n",
       "Blocked Driveway            973\n",
       "Name: Complaint Type, dtype: int64"
      ]
     },
     "execution_count": 29,
     "metadata": {},
     "output_type": "execute_result"
    }
   ],
   "source": [
    "df[df.index.hour == 23]['Complaint Type'].value_counts().head(3)"
   ]
  },
  {
   "cell_type": "code",
   "execution_count": 30,
   "metadata": {
    "collapsed": false
   },
   "outputs": [
    {
     "data": {
      "text/plain": [
       "Noise - Commercial         1025\n",
       "Noise - Street/Sidewalk     897\n",
       "Blocked Driveway            479\n",
       "Name: Complaint Type, dtype: int64"
      ]
     },
     "execution_count": 30,
     "metadata": {},
     "output_type": "execute_result"
    }
   ],
   "source": [
    "df[df.index.hour == 1]['Complaint Type'].value_counts().head(3)"
   ]
  },
  {
   "cell_type": "markdown",
   "metadata": {},
   "source": [
    "So odd. What's the **per-minute breakdown** of complaints between 12am and 1am? You don't need to include 1am."
   ]
  },
  {
   "cell_type": "code",
   "execution_count": 31,
   "metadata": {
    "collapsed": false
   },
   "outputs": [
    {
     "data": {
      "text/plain": [
       "<matplotlib.axes._subplots.AxesSubplot at 0x10bb4bf28>"
      ]
     },
     "execution_count": 31,
     "metadata": {},
     "output_type": "execute_result"
    },
    {
     "data": {
      "image/png": "[encoded data removed]",
      "text/plain": [
       "<matplotlib.figure.Figure at 0x10bad6c50>"
      ]
     },
     "metadata": {},
     "output_type": "display_data"
    }
   ],
   "source": [
    "#Wrong becuase we don't want every minute of every day\n",
    "#midnight_df.resample('T')['Unique Key'].count().plot()\n",
    "\n",
    "midnight_df.groupby(by=midnight_df.index.minute)['Unique Key'].count().plot()"
   ]
  },
  {
   "cell_type": "markdown",
   "metadata": {},
   "source": [
    "Looks like midnight is a little bit of an outlier. Why might that be? Take the 5 most common agencies and graph the times they file reports at (all day, not just midnight)."
   ]
  },
  {
   "cell_type": "code",
   "execution_count": 36,
   "metadata": {
    "collapsed": false
   },
   "outputs": [
    {
     "data": {
      "text/plain": [
       "17015"
      ]
     },
     "execution_count": 36,
     "metadata": {},
     "output_type": "execute_result"
    }
   ],
   "source": [
    "real_midnight = df[(df.index.hour == 0) & (df.index.minute == 0) & (df.index.second == 0)]\n",
    "len(real_midnight)"
   ]
  },
  {
   "cell_type": "code",
   "execution_count": 39,
   "metadata": {
    "collapsed": false
   },
   "outputs": [
    {
     "data": {
      "text/plain": [
       "3"
      ]
     },
     "execution_count": 39,
     "metadata": {},
     "output_type": "execute_result"
    }
   ],
   "source": [
    "twelve_and_one_sec = df[(df.index.hour == 0) & (df.index.minute == 0) & (df.index.second == 1)]\n",
    "len(twelve_and_one_sec)"
   ]
  },
  {
   "cell_type": "code",
   "execution_count": 40,
   "metadata": {
    "collapsed": false
   },
   "outputs": [
    {
     "data": {
      "text/plain": [
       "5"
      ]
     },
     "execution_count": 40,
     "metadata": {},
     "output_type": "execute_result"
    }
   ],
   "source": [
    "twelve_o_one = df[(df.index.hour == 0) & (df.index.minute == 2) & (df.index.second == 0)]\n",
    "len(twelve_o_one)"
   ]
  },
  {
   "cell_type": "code",
   "execution_count": 41,
   "metadata": {
    "collapsed": false
   },
   "outputs": [
    {
     "data": {
      "text/plain": [
       "HPD      14492\n",
       "DOHMH     2505\n",
       "DOT         18\n",
       "Name: Agency, dtype: int64"
      ]
     },
     "execution_count": 41,
     "metadata": {},
     "output_type": "execute_result"
    }
   ],
   "source": [
    "real_midnight['Agency'].value_counts()"
   ]
  },
  {
   "cell_type": "code",
   "execution_count": 43,
   "metadata": {
    "collapsed": false
   },
   "outputs": [
    {
     "data": {
      "text/plain": [
       "NYPD     80000\n",
       "HPD      39388\n",
       "DOT      22308\n",
       "DPR      15505\n",
       "DOHMH     8250\n",
       "Name: Agency, dtype: int64"
      ]
     },
     "execution_count": 43,
     "metadata": {},
     "output_type": "execute_result"
    }
   ],
   "source": [
    "df['Agency'].value_counts().head()"
   ]
  },
  {
   "cell_type": "code",
   "execution_count": null,
   "metadata": {
    "collapsed": true
   },
   "outputs": [],
   "source": []
  },
  {
   "cell_type": "markdown",
   "metadata": {},
   "source": [
    "Graph those same agencies on an annual basis - make it **weekly**. When do people like to complain? When does the NYPD have an odd number of complaints?"
   ]
  },
  {
   "cell_type": "code",
   "execution_count": null,
   "metadata": {
    "collapsed": false
   },
   "outputs": [],
   "source": []
  },
  {
   "cell_type": "markdown",
   "metadata": {},
   "source": [
    "Maybe the NYPD deals with different issues at different times? Check the most popular complaints in July and August vs the month of May. Also check the most common complaints for the Housing Preservation Bureau (HPD) in winter vs. summer."
   ]
  },
  {
   "cell_type": "code",
   "execution_count": 45,
   "metadata": {
    "collapsed": false
   },
   "outputs": [
    {
     "data": {
      "text/plain": [
       "Illegal Parking            3444\n",
       "Blocked Driveway           3258\n",
       "Noise - Street/Sidewalk    3165\n",
       "Noise - Commercial         1201\n",
       "Noise - Vehicle             942\n",
       "Name: Complaint Type, dtype: int64"
      ]
     },
     "execution_count": 45,
     "metadata": {},
     "output_type": "execute_result"
    }
   ],
   "source": [
    "df[df['Agency'] == 'NYPD']['2015-7':'2015-8']['Complaint Type'].value_counts().head()"
   ]
  },
  {
   "cell_type": "code",
   "execution_count": 46,
   "metadata": {
    "collapsed": false
   },
   "outputs": [
    {
     "data": {
      "text/plain": [
       "Blocked Driveway           4114\n",
       "Illegal Parking            3975\n",
       "Noise - Street/Sidewalk    3385\n",
       "Noise - Commercial         2263\n",
       "Noise - Vehicle            1232\n",
       "Name: Complaint Type, dtype: int64"
      ]
     },
     "execution_count": 46,
     "metadata": {},
     "output_type": "execute_result"
    }
   ],
   "source": [
    "df[df['Agency'] == 'NYPD']['2015-5']['Complaint Type'].value_counts().head()"
   ]
  },
  {
   "cell_type": "code",
   "execution_count": 47,
   "metadata": {
    "collapsed": false
   },
   "outputs": [
    {
     "data": {
      "text/plain": [
       "Blocked Driveway           318\n",
       "Illegal Parking            219\n",
       "Noise - Commercial          80\n",
       "Derelict Vehicle            51\n",
       "Noise - Street/Sidewalk     43\n",
       "Name: Complaint Type, dtype: int64"
      ]
     },
     "execution_count": 47,
     "metadata": {},
     "output_type": "execute_result"
    }
   ],
   "source": [
    "df[df['Agency'] == 'HPD']['2015-01':'2015-02']['Complaint Type'].value_counts().head()"
   ]
  },
  {
   "cell_type": "code",
   "execution_count": 48,
   "metadata": {
    "collapsed": false,
    "scrolled": true
   },
   "outputs": [
    {
     "data": {
      "text/plain": [
       "HEAT/HOT WATER            4200\n",
       "HPD Literature Request    2424\n",
       "UNSANITARY CONDITION      2063\n",
       "PAINT/PLASTER             2015\n",
       "PLUMBING                  1555\n",
       "Name: Complaint Type, dtype: int64"
      ]
     },
     "execution_count": 48,
     "metadata": {},
     "output_type": "execute_result"
    }
   ],
   "source": [
    "df[df['Agency'] == 'HPD']['2015-05':'2015-08']['Complaint Type'].value_counts().head()"
   ]
  },
  {
   "cell_type": "code",
   "execution_count": null,
   "metadata": {
    "collapsed": true
   },
   "outputs": [],
   "source": []
  }
 ],
 "metadata": {
  "kernelspec": {
   "display_name": "Python 3",
   "language": "python",
   "name": "python3"
  },
  "language_info": {
   "codemirror_mode": {
    "name": "ipython",
    "version": 3
   },
   "file_extension": ".py",
   "mimetype": "text/x-python",
   "name": "python",
   "nbconvert_exporter": "python",
   "pygments_lexer": "ipython3",
   "version": "3.5.1"
  }
 },
 "nbformat": 4,
 "nbformat_minor": 0
}
