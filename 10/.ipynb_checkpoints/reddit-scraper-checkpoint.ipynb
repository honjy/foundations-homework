{
 "cells": [
  {
   "cell_type": "markdown",
   "metadata": {},
   "source": [
    "## MISSION PART ONE: GETTING DATA\n",
    "* You are going to scrape the front page of reddit every 4 hours, saving a CSV file that includes:\n",
    "1. The title of the post\n",
    "2. The number of votes it has (the number between the up and down arrows)\n",
    "3. The number of comments it has\n",
    "4. What subreddit it is from (e.g. /r/AskReddit, /r/todayilearned)\n",
    "5. When it was posted (get a TIMESTAMP, e.g. 2016-06-22T12:33:58+00:00, not \"4 hours ago\")\n",
    "6. The URL to the post itself\n",
    "7. The URL of the thumbnail image associated with the post"
   ]
  },
  {
   "cell_type": "markdown",
   "metadata": {},
   "source": [
    "For the purposes of this exercise I shall be scraping https://www.reddit.com/r/funny/ because who doesn't want funny e-mails coming in at 8am every morning? I am going to regret this aren't I."
   ]
  },
  {
   "cell_type": "code",
   "execution_count": 1,
   "metadata": {
    "collapsed": true
   },
   "outputs": [],
   "source": [
    "import requests\n",
    "from bs4 import BeautifulSoup"
   ]
  },
  {
   "cell_type": "code",
   "execution_count": 2,
   "metadata": {
    "collapsed": true
   },
   "outputs": [],
   "source": [
    "headers = {'User-Agent': 'Mozilla/5.0 (Macintosh; Intel Mac OS X 10_10_1) AppleWebKit/537.36 (KHTML, like Gecko) Chrome/39.0.2171.95 Safari/537.36'}"
   ]
  },
  {
   "cell_type": "code",
   "execution_count": 3,
   "metadata": {
    "collapsed": true
   },
   "outputs": [],
   "source": [
    "#Grab the reddit site\n",
    "response = requests.get(\"https://www.reddit.com/r/funny/\", headers=headers)"
   ]
  },
  {
   "cell_type": "code",
   "execution_count": 4,
   "metadata": {
    "collapsed": true
   },
   "outputs": [],
   "source": [
    "doc = BeautifulSoup(response.text, 'html.parser')"
   ]
  },
  {
   "cell_type": "code",
   "execution_count": 5,
   "metadata": {
    "collapsed": false
   },
   "outputs": [],
   "source": [
    "#doc"
   ]
  },
  {
   "cell_type": "code",
   "execution_count": 6,
   "metadata": {
    "collapsed": false
   },
   "outputs": [],
   "source": [
    "#Grab the posts\n",
    "\n",
    "posts = doc.find_all('div', {'class': 'thing'})\n",
    "#len(posts)"
   ]
  },
  {
   "cell_type": "code",
   "execution_count": 7,
   "metadata": {
    "collapsed": false
   },
   "outputs": [],
   "source": [
    "#posts"
   ]
  },
  {
   "cell_type": "code",
   "execution_count": 8,
   "metadata": {
    "collapsed": false
   },
   "outputs": [
    {
     "data": {
      "text/plain": [
       "[{'comments': '129 comments',\n",
       "  'link': 'https://www.reddit.com/r/unfortunateplacement',\n",
       "  'thumbnail': 'http://a.thumbs.redditmedia.com/ExQ61Q54Z-aAuJpkFNcC0viWh-2iQcEc9HrocEZcxw8.jpg',\n",
       "  'timestamp': '2016-06-01T16:08:54+00:00',\n",
       "  'title': 'Subreddit Of The Month [June 2016]: /r/unfortunateplacement, \"(Un)fortunate Ad Placement\". Know of a small (under 10,000 subscribers) humor-based subreddit that deserves a month in the spotlight? Link it inside!',\n",
       "  'votes': '406'},\n",
       " {'comments': '378 comments',\n",
       "  'link': '/r/funny/comments/4j1nln/irs_phone_scams_and_similar_posts_tldr_dont_post/',\n",
       "  'thumbnail': None,\n",
       "  'timestamp': '2016-05-12T16:57:43+00:00',\n",
       "  'title': \"IRS phone scams, and similar posts. tldr - DON'T POST PHONE NUMBERS ON REDDIT\",\n",
       "  'votes': '1304'},\n",
       " {'comments': '2694 comments',\n",
       "  'link': 'http://imgur.com/WQ9f3g0',\n",
       "  'thumbnail': 'http://b.thumbs.redditmedia.com/1ZRp2v23jOSqkzRmfcqjR5fthye4Iz1dRPwea7Bz9YQ.jpg',\n",
       "  'timestamp': '2016-06-23T12:41:33+00:00',\n",
       "  'title': 'Army Specialist was denied leave to go to a baby shower because his CO said \"Men don\\'t go to baby showers\", so he changed his reason',\n",
       "  'votes': '9292'},\n",
       " {'comments': '834 comments',\n",
       "  'link': 'http://i.imgur.com/m0xCyiI.jpg',\n",
       "  'thumbnail': 'http://b.thumbs.redditmedia.com/sXji7NpPLobngCcxOQUs0z6SvB_z-sH-629dgDQn3qk.jpg',\n",
       "  'timestamp': '2016-06-23T03:43:15+00:00',\n",
       "  'title': 'A girl at the fire station after getting stuck in a Barney head',\n",
       "  'votes': '5853'},\n",
       " {'comments': '145 comments',\n",
       "  'link': 'http://i.imgur.com/tw02cpV.jpg',\n",
       "  'thumbnail': 'http://b.thumbs.redditmedia.com/ZuCNEoY9po1AeTNf9D3F2ZhfG3gU_RwqY0O4i4fwOVA.jpg',\n",
       "  'timestamp': '2016-06-23T10:50:10+00:00',\n",
       "  'title': 'This is it. No more arguing.',\n",
       "  'votes': '1304'},\n",
       " {'comments': '261 comments',\n",
       "  'link': '/r/funny/comments/4pep0t/turns_out_michael_scott_is_the_original/',\n",
       "  'thumbnail': 'http://b.thumbs.redditmedia.com/QRzzvyYU6Fa8b-cHOpd9ifHiBr6u-7kSD0CBQLEvjvE.jpg',\n",
       "  'timestamp': '2016-06-23T03:20:45+00:00',\n",
       "  'title': 'Turns out Michael Scott is the original r/explainlikeimfive',\n",
       "  'votes': '3781'},\n",
       " {'comments': '84 comments',\n",
       "  'link': 'http://i.imgur.com/02oarlg.jpg',\n",
       "  'thumbnail': 'http://b.thumbs.redditmedia.com/BXeCXhbWikrOOMN1Yj-2C3xA_GnCNb6pMxp-o5VUp0Q.jpg',\n",
       "  'timestamp': '2016-06-23T14:19:23+00:00',\n",
       "  'title': 'How American people shower.',\n",
       "  'votes': '484'},\n",
       " {'comments': '30 comments',\n",
       "  'link': 'https://s-media-cache-ak0.pinimg.com/originals/ce/a6/a3/cea6a36743adc33bc438ae97a47e665e.gif',\n",
       "  'thumbnail': 'http://b.thumbs.redditmedia.com/4A3qbHni8uMYgsFQ6REI2Af10o6rzwnKEoAgP2iekcY.jpg',\n",
       "  'timestamp': '2016-06-23T09:08:09+00:00',\n",
       "  'title': 'Oh sorry I booped you',\n",
       "  'votes': '1046'},\n",
       " {'comments': '443 comments',\n",
       "  'link': 'http://i.imgur.com/cOYywLL.png',\n",
       "  'thumbnail': 'http://b.thumbs.redditmedia.com/IULOVQ_EUnPJswMuMtv-yGY6tnokrekYhORH9VFT0pU.jpg',\n",
       "  'timestamp': '2016-06-23T01:08:43+00:00',\n",
       "  'title': 'Swing and a piss',\n",
       "  'votes': '4064'},\n",
       " {'comments': '88 comments',\n",
       "  'link': '/r/funny/comments/4peg03/sometimes_its_just_way_too_hot_for_pants/',\n",
       "  'thumbnail': 'http://b.thumbs.redditmedia.com/jl37vldlXaeTWZfXphMfMflai-EgM_P4PTu0Sja8AAo.jpg',\n",
       "  'timestamp': '2016-06-23T02:20:29+00:00',\n",
       "  'title': 'Sometimes its just way too hot for pants',\n",
       "  'votes': '2809'},\n",
       " {'comments': '27 comments',\n",
       "  'link': 'http://i.imgur.com/fKCs7Ub.gifv',\n",
       "  'thumbnail': 'http://b.thumbs.redditmedia.com/Hw6vMqip29DOeo7VRP87OWST1f7zXVwd8TuqkKb1UzI.jpg',\n",
       "  'timestamp': '2016-06-23T13:42:51+00:00',\n",
       "  'title': '\"I have no regrets.\"',\n",
       "  'votes': '313'},\n",
       " {'comments': '16 comments',\n",
       "  'link': 'http://i.imgur.com/DRqBzIw.png',\n",
       "  'thumbnail': 'http://b.thumbs.redditmedia.com/t2EW0e5yLtySiUFzVAaIgTwmTlxBo8yLzNbtLtNwssU.jpg',\n",
       "  'timestamp': '2016-06-23T07:29:44+00:00',\n",
       "  'title': 'Lara Croft cosplay',\n",
       "  'votes': '794'},\n",
       " {'comments': '39 comments',\n",
       "  'link': '/r/funny/comments/4phjkg/what_math_we_should_teach/',\n",
       "  'thumbnail': 'http://b.thumbs.redditmedia.com/tMZn_vA8eoCrMFSplue8q5mGosNL36Pg4urpgBqWxbI.jpg',\n",
       "  'timestamp': '2016-06-23T16:19:01+00:00',\n",
       "  'title': 'What Math We Should Teach',\n",
       "  'votes': '•'},\n",
       " {'comments': '38 comments',\n",
       "  'link': 'http://imgur.com/qPWL49l',\n",
       "  'thumbnail': 'http://b.thumbs.redditmedia.com/o6lpw4gGkzHE7M5bP-Tc_NXcZPJPRRVpCZmIS4ol76g.jpg',\n",
       "  'timestamp': '2016-06-23T03:16:03+00:00',\n",
       "  'title': 'Dog Rules-A sign at our local animal hospital',\n",
       "  'votes': '1415'},\n",
       " {'comments': '508 comments',\n",
       "  'link': 'http://i.imgur.com/sStCbCE.jpg',\n",
       "  'thumbnail': 'http://b.thumbs.redditmedia.com/Ta38y4xziatD6l-mBFfHerFrZpP4wgRGnkyv9zSF4go.jpg',\n",
       "  'timestamp': '2016-06-22T20:18:34+00:00',\n",
       "  'title': 'T-Rex Arms',\n",
       "  'votes': '4947'},\n",
       " {'comments': '356 comments',\n",
       "  'link': 'http://i.imgur.com/c1R6xUM.gifv',\n",
       "  'thumbnail': 'http://b.thumbs.redditmedia.com/wXo_mv40rGfq5u__pFsOA5XIi2A-o_ZgMBh2bTEoDpo.jpg',\n",
       "  'timestamp': '2016-06-22T20:59:24+00:00',\n",
       "  'title': 'Animals reacting to themselves in a mirror.',\n",
       "  'votes': '4324'},\n",
       " {'comments': '7 comments',\n",
       "  'link': 'http://i.imgur.com/2mrlTUf.jpg',\n",
       "  'thumbnail': 'http://b.thumbs.redditmedia.com/pd-mCpdNQ9DL6ba5piU4vg_RKZEoTK1G55jSxFjIXRE.jpg',\n",
       "  'timestamp': '2016-06-23T13:53:31+00:00',\n",
       "  'title': 'Instructions unclear',\n",
       "  'votes': '195'},\n",
       " {'comments': '152 comments',\n",
       "  'link': '/r/funny/comments/4pcmpc/cat_sitter_recieves_accurate_descriptions/',\n",
       "  'thumbnail': 'http://b.thumbs.redditmedia.com/5D3u5d2DrYpOhyfJrviiquafXk76Rb6nhg6nhsTAyWk.jpg',\n",
       "  'timestamp': '2016-06-22T19:46:19+00:00',\n",
       "  'title': 'Cat sitter recieves accurate descriptions',\n",
       "  'votes': '4944'},\n",
       " {'comments': '15 comments',\n",
       "  'link': 'http://funnyasduck.net/wp-content/uploads/2013/02/funny-simpsons-tv-scene-recycled-paper-zero-is-a-percent-pics.jpg',\n",
       "  'thumbnail': 'http://a.thumbs.redditmedia.com/LkV5JfCyZ7FX4PhBAGjXPW2_sa80K8jIc3RwlvaSoW8.jpg',\n",
       "  'timestamp': '2016-06-23T01:12:53+00:00',\n",
       "  'title': 'Simpsons Episode shows how to recycle and profit!!',\n",
       "  'votes': '1670'},\n",
       " {'comments': '559 comments',\n",
       "  'link': 'http://i.imgur.com/nuRZv1O.gifv',\n",
       "  'thumbnail': 'http://a.thumbs.redditmedia.com/qT7PkIVnsieQ39kCxbnzf2NucgBHDExsa6bcJTR2oz8.jpg',\n",
       "  'timestamp': '2016-06-22T18:31:02+00:00',\n",
       "  'title': '\"I\\'m stuck...I\\'m stuck! Never mind...I got it!\"',\n",
       "  'votes': '5419'},\n",
       " {'comments': '17 comments',\n",
       "  'link': 'http://i.imgur.com/4HN0O12.jpg',\n",
       "  'thumbnail': 'http://a.thumbs.redditmedia.com/3X5XKMvOKHzavfEk4YIzX-vCZ9wBvEc8MDlVSXJb7Z0.jpg',\n",
       "  'timestamp': '2016-06-23T12:15:10+00:00',\n",
       "  'title': \"Disgusting! This once proud animal was killed by a teenage girl, and now she's posing with its head as a trophy.\",\n",
       "  'votes': '206'},\n",
       " {'comments': '121 comments',\n",
       "  'link': 'https://i.reddituploads.com/534a3bbc66d04ea7a088de5b840dbb34?fit=max&h=1536&w=1536&s=a2a0be88cc6f6c0440fdaaad65cea89d',\n",
       "  'thumbnail': 'http://b.thumbs.redditmedia.com/WNowB3YREiAn73XpHGfZj74ZCWIaaXrOlT12VeRnhTU.jpg',\n",
       "  'timestamp': '2016-06-22T20:55:48+00:00',\n",
       "  'title': 'This happened when Ireland scored.',\n",
       "  'votes': '3001'},\n",
       " {'comments': '14 comments',\n",
       "  'link': 'http://imgur.com/qbGPsTh.gifv',\n",
       "  'thumbnail': 'http://b.thumbs.redditmedia.com/eZnOUb_CY2GnCBsKvH4F2FHdSsjf4MHqzcPO3qjB2yI.jpg',\n",
       "  'timestamp': '2016-06-23T12:15:39+00:00',\n",
       "  'title': 'Cannonball!',\n",
       "  'votes': '177'},\n",
       " {'comments': '10 comments',\n",
       "  'link': 'http://www.pidjin.net/2012/11/27/vampires-pirates/',\n",
       "  'thumbnail': 'http://b.thumbs.redditmedia.com/g20tDXb4uYRfakqwHFT9fQIS8dlyuETW0Vv2O5jaX8Y.jpg',\n",
       "  'timestamp': '2016-06-23T12:48:02+00:00',\n",
       "  'title': 'Vampires and pirates',\n",
       "  'votes': '156'},\n",
       " {'comments': '458 comments',\n",
       "  'link': 'http://i.imgur.com/E3xp4jR.jpg',\n",
       "  'thumbnail': 'http://b.thumbs.redditmedia.com/bTxp_JjGpl1SQ5ODuWQehvRTK6HK3HoEIjnj70DFxdw.jpg',\n",
       "  'timestamp': '2016-06-22T17:51:17+00:00',\n",
       "  'title': \"My girlfriend recently started working nights. I've been waking up to a lot of worrying texts.\",\n",
       "  'votes': '4983'},\n",
       " {'comments': '20 comments',\n",
       "  'link': 'http://imgur.com/IEnq1HT',\n",
       "  'thumbnail': 'http://b.thumbs.redditmedia.com/qJEfNjo76_-X2BeFucL9Nr_wreDpFh2svkklUUSH49k.jpg',\n",
       "  'timestamp': '2016-06-23T03:57:15+00:00',\n",
       "  'title': 'Slimey yet satisfying',\n",
       "  'votes': '752'},\n",
       " {'comments': '15 comments',\n",
       "  'link': 'http://i.imgur.com/C6CQ9iX.jpg',\n",
       "  'thumbnail': 'http://b.thumbs.redditmedia.com/H7MgulvDhBAKEvAPY6r4X-rGyY3ne8xD-A7dVlHQDuY.jpg',\n",
       "  'timestamp': '2016-06-23T12:47:57+00:00',\n",
       "  'title': 'Week 1 of Fatherhood (2016)',\n",
       "  'votes': '148'}]"
      ]
     },
     "execution_count": 8,
     "metadata": {},
     "output_type": "execute_result"
    }
   ],
   "source": [
    "all_posts = []\n",
    "\n",
    "#Let's grab the title of the posts\n",
    "for post in posts:\n",
    "    #Titles are <a> and title\n",
    "    title = post.find('a', {'class': 'title'})\n",
    "    title_text = title.text.strip()\n",
    "    #Votes are <div> <score>\n",
    "    vote = post.find('div', {'class': 'score'})\n",
    "    vote_text = vote.text.strip()\n",
    "    #Comments are <a> and bylink\n",
    "    comment = post.find('a', {'class': 'bylink'})\n",
    "    comment_text = comment.text.strip()\n",
    "    #When it was posted <time> datetime\n",
    "    time = post.find('time', {'class': 'live-timestamp'})['datetime']\n",
    "    #URL\n",
    "    link = post.find('a', {'class': 'title'})['href']\n",
    "    #URL link\n",
    "    thumbnail = post.find('img')\n",
    "    if thumbnail:\n",
    "        thumbnail = \"http:\" + (thumbnail['src'])\n",
    "    funny_posts = {'title': title_text, 'votes': vote_text, 'comments': comment_text, 'timestamp': time, 'link': link, 'thumbnail': thumbnail}\n",
    "    all_posts.append(funny_posts)\n",
    "all_posts\n",
    "    \n",
    "#QUESTION: How to replace /r/ with link? Do we use regular expressions?"
   ]
  },
  {
   "cell_type": "code",
   "execution_count": 9,
   "metadata": {
    "collapsed": false
   },
   "outputs": [],
   "source": [
    "#len(all_posts)"
   ]
  },
  {
   "cell_type": "code",
   "execution_count": 10,
   "metadata": {
    "collapsed": true
   },
   "outputs": [],
   "source": [
    "import pandas as pd"
   ]
  },
  {
   "cell_type": "code",
   "execution_count": 11,
   "metadata": {
    "collapsed": false
   },
   "outputs": [
    {
     "data": {
      "text/html": [
       "<div>\n",
       "<table border=\"1\" class=\"dataframe\">\n",
       "  <thead>\n",
       "    <tr style=\"text-align: right;\">\n",
       "      <th></th>\n",
       "      <th>comments</th>\n",
       "      <th>link</th>\n",
       "      <th>thumbnail</th>\n",
       "      <th>timestamp</th>\n",
       "      <th>title</th>\n",
       "      <th>votes</th>\n",
       "    </tr>\n",
       "  </thead>\n",
       "  <tbody>\n",
       "    <tr>\n",
       "      <th>0</th>\n",
       "      <td>129 comments</td>\n",
       "      <td>https://www.reddit.com/r/unfortunateplacement</td>\n",
       "      <td>http://a.thumbs.redditmedia.com/ExQ61Q54Z-aAuJ...</td>\n",
       "      <td>2016-06-01T16:08:54+00:00</td>\n",
       "      <td>Subreddit Of The Month [June 2016]: /r/unfortu...</td>\n",
       "      <td>406</td>\n",
       "    </tr>\n",
       "    <tr>\n",
       "      <th>1</th>\n",
       "      <td>378 comments</td>\n",
       "      <td>/r/funny/comments/4j1nln/irs_phone_scams_and_s...</td>\n",
       "      <td>None</td>\n",
       "      <td>2016-05-12T16:57:43+00:00</td>\n",
       "      <td>IRS phone scams, and similar posts. tldr - DON...</td>\n",
       "      <td>1304</td>\n",
       "    </tr>\n",
       "    <tr>\n",
       "      <th>2</th>\n",
       "      <td>2694 comments</td>\n",
       "      <td>http://imgur.com/WQ9f3g0</td>\n",
       "      <td>http://b.thumbs.redditmedia.com/1ZRp2v23jOSqkz...</td>\n",
       "      <td>2016-06-23T12:41:33+00:00</td>\n",
       "      <td>Army Specialist was denied leave to go to a ba...</td>\n",
       "      <td>9292</td>\n",
       "    </tr>\n",
       "    <tr>\n",
       "      <th>3</th>\n",
       "      <td>834 comments</td>\n",
       "      <td>http://i.imgur.com/m0xCyiI.jpg</td>\n",
       "      <td>http://b.thumbs.redditmedia.com/sXji7NpPLobngC...</td>\n",
       "      <td>2016-06-23T03:43:15+00:00</td>\n",
       "      <td>A girl at the fire station after getting stuck...</td>\n",
       "      <td>5853</td>\n",
       "    </tr>\n",
       "    <tr>\n",
       "      <th>4</th>\n",
       "      <td>145 comments</td>\n",
       "      <td>http://i.imgur.com/tw02cpV.jpg</td>\n",
       "      <td>http://b.thumbs.redditmedia.com/ZuCNEoY9po1AeT...</td>\n",
       "      <td>2016-06-23T10:50:10+00:00</td>\n",
       "      <td>This is it. No more arguing.</td>\n",
       "      <td>1304</td>\n",
       "    </tr>\n",
       "  </tbody>\n",
       "</table>\n",
       "</div>"
      ],
      "text/plain": [
       "        comments                                               link  \\\n",
       "0   129 comments      https://www.reddit.com/r/unfortunateplacement   \n",
       "1   378 comments  /r/funny/comments/4j1nln/irs_phone_scams_and_s...   \n",
       "2  2694 comments                           http://imgur.com/WQ9f3g0   \n",
       "3   834 comments                     http://i.imgur.com/m0xCyiI.jpg   \n",
       "4   145 comments                     http://i.imgur.com/tw02cpV.jpg   \n",
       "\n",
       "                                           thumbnail  \\\n",
       "0  http://a.thumbs.redditmedia.com/ExQ61Q54Z-aAuJ...   \n",
       "1                                               None   \n",
       "2  http://b.thumbs.redditmedia.com/1ZRp2v23jOSqkz...   \n",
       "3  http://b.thumbs.redditmedia.com/sXji7NpPLobngC...   \n",
       "4  http://b.thumbs.redditmedia.com/ZuCNEoY9po1AeT...   \n",
       "\n",
       "                   timestamp  \\\n",
       "0  2016-06-01T16:08:54+00:00   \n",
       "1  2016-05-12T16:57:43+00:00   \n",
       "2  2016-06-23T12:41:33+00:00   \n",
       "3  2016-06-23T03:43:15+00:00   \n",
       "4  2016-06-23T10:50:10+00:00   \n",
       "\n",
       "                                               title votes  \n",
       "0  Subreddit Of The Month [June 2016]: /r/unfortu...   406  \n",
       "1  IRS phone scams, and similar posts. tldr - DON...  1304  \n",
       "2  Army Specialist was denied leave to go to a ba...  9292  \n",
       "3  A girl at the fire station after getting stuck...  5853  \n",
       "4                       This is it. No more arguing.  1304  "
      ]
     },
     "execution_count": 11,
     "metadata": {},
     "output_type": "execute_result"
    }
   ],
   "source": [
    "posts_df = pd.DataFrame(all_posts)\n",
    "posts_df.head()"
   ]
  },
  {
   "cell_type": "code",
   "execution_count": 12,
   "metadata": {
    "collapsed": true
   },
   "outputs": [],
   "source": [
    "import time"
   ]
  },
  {
   "cell_type": "code",
   "execution_count": 13,
   "metadata": {
    "collapsed": false
   },
   "outputs": [
    {
     "data": {
      "text/plain": [
       "'2016-06-23-13-16'"
      ]
     },
     "execution_count": 13,
     "metadata": {},
     "output_type": "execute_result"
    }
   ],
   "source": [
    "datestring = time.strftime(\"%Y-%m-%d-%H-%M\")\n",
    "datestring"
   ]
  },
  {
   "cell_type": "code",
   "execution_count": 14,
   "metadata": {
    "collapsed": false
   },
   "outputs": [],
   "source": [
    "filename = \"reddit-data\" + datestring + \".csv\"\n",
    "posts_df.to_csv(filename, index=False)"
   ]
  },
  {
   "cell_type": "code",
   "execution_count": null,
   "metadata": {
    "collapsed": true
   },
   "outputs": [],
   "source": []
  }
 ],
 "metadata": {
  "kernelspec": {
   "display_name": "Python 3",
   "language": "python",
   "name": "python3"
  },
  "language_info": {
   "codemirror_mode": {
    "name": "ipython",
    "version": 3
   },
   "file_extension": ".py",
   "mimetype": "text/x-python",
   "name": "python",
   "nbconvert_exporter": "python",
   "pygments_lexer": "ipython3",
   "version": "3.5.1"
  }
 },
 "nbformat": 4,
 "nbformat_minor": 0
}
