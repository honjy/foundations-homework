{
 "cells": [
  {
   "cell_type": "markdown",
   "metadata": {},
   "source": [
    "1) Make a request from the Forecast.io API for where you were born (or lived, or want to visit!)."
   ]
  },
  {
   "cell_type": "code",
   "execution_count": 30,
   "metadata": {
    "collapsed": true
   },
   "outputs": [],
   "source": [
    "import requests"
   ]
  },
  {
   "cell_type": "code",
   "execution_count": 42,
   "metadata": {
    "collapsed": false
   },
   "outputs": [],
   "source": [
    "response = requests.get('https://api.forecast.io/forecast/2720ff846cb70aeec085c402d31c3ea2/40.7128,-74.0059')\n",
    "data = response.json()"
   ]
  },
  {
   "cell_type": "code",
   "execution_count": 43,
   "metadata": {
    "collapsed": false
   },
   "outputs": [
    {
     "data": {
      "text/plain": [
       "dict_keys(['minutely', 'daily', 'timezone', 'latitude', 'currently', 'hourly', 'longitude', 'offset', 'flags'])"
      ]
     },
     "execution_count": 43,
     "metadata": {},
     "output_type": "execute_result"
    }
   ],
   "source": [
    "type(data)\n",
    "data.keys()"
   ]
  },
  {
   "cell_type": "code",
   "execution_count": 44,
   "metadata": {
    "collapsed": false
   },
   "outputs": [
    {
     "name": "stdout",
     "output_type": "stream",
     "text": [
      "America/New_York\n"
     ]
    }
   ],
   "source": [
    "#Check the timezone\n",
    "print(data['timezone'])\n",
    "#Yay!\n",
    "#I chose New York so I'll know when to bring my umbrella to class"
   ]
  },
  {
   "cell_type": "markdown",
   "metadata": {},
   "source": [
    "2) What's the current wind speed? How much warmer does it feel than it actually is?"
   ]
  },
  {
   "cell_type": "code",
   "execution_count": 52,
   "metadata": {
    "collapsed": false,
    "scrolled": true
   },
   "outputs": [
    {
     "data": {
      "text/plain": [
       "dict_keys(['humidity', 'time', 'windBearing', 'windSpeed', 'temperature', 'precipType', 'precipIntensity', 'precipProbability', 'apparentTemperature', 'precipIntensityError', 'nearestStormDistance', 'dewPoint', 'cloudCover', 'icon', 'ozone', 'visibility', 'pressure', 'summary'])"
      ]
     },
     "execution_count": 52,
     "metadata": {},
     "output_type": "execute_result"
    }
   ],
   "source": [
    "#Where is the wind speed? Maybe it's in 'currently' updates.\n",
    "current = data['currently']\n",
    "type(current)\n",
    "current.keys()"
   ]
  },
  {
   "cell_type": "code",
   "execution_count": 66,
   "metadata": {
    "collapsed": false
   },
   "outputs": [
    {
     "name": "stdout",
     "output_type": "stream",
     "text": [
      "The current wind speed is 8.95\n",
      "It feels as warm as it actually is.\n"
     ]
    }
   ],
   "source": [
    "#We need windspeed, temperature and apparent temperature\n",
    "print(\"The current wind speed is\", current['windSpeed'])\n",
    "\n",
    "current_temp = current['temperature']\n",
    "apparent_temp = current['apparentTemperature']\n",
    "cold_temp = current_temp - apparent_temp\n",
    "warm_temp = apparent_temp - current_temp\n",
    "\n",
    "if current_temp - apparent_temp == 0:\n",
    "    print(\"It feels as warm as it actually is.\")\n",
    "if current_temp - apparent_temp > 0:\n",
    "    print(\"It currently feels\", cold_temp, \"degrees colder\")\n",
    "if current_temp - apparent_temp < 0:\n",
    "    print(\"It currently feels\", warm_temp, \"degrees colder\")"
   ]
  },
  {
   "cell_type": "markdown",
   "metadata": {},
   "source": [
    "3) The first daily forecast is the forecast for today. \n",
    "or the place you decided on up above, how much of the moon is currently visible?\n",
    "\n",
    "#From the documentation: moonPhase (only defined on daily data points): A number representing the fractional part of the lunation number of the given day: a value of 0 corresponds to a new moon, 0.25 to a first quarter moon, 0.5 to a full moon, and 0.75 to a last quarter moon. (The ranges in between these represent waxing crescent, waxing gibbous, waning gibbous, and waning crescent moons, respectively.)"
   ]
  },
  {
   "cell_type": "code",
   "execution_count": 140,
   "metadata": {
    "collapsed": false
   },
   "outputs": [
    {
     "name": "stdout",
     "output_type": "stream",
     "text": [
      "0.13 of the moon is currently visible\n"
     ]
    }
   ],
   "source": [
    "#We are looking for moonphase, which is only available in daily and represent weather that will\n",
    "#occur over the entire day\n",
    "daily = data['daily']\n",
    "#print(daily)\n",
    "daily.keys()\n",
    "#print(daily['data'])\n",
    "daily_info = daily['data']\n",
    "\n",
    "#Looks like a list of dictionaries\n",
    "#We have to look for the moonphase and the time\n",
    "\n",
    "for info in daily_info:\n",
    "    #print(info['moonPhase'], info['time'])\n",
    "    if info['time'] == 1465358400:\n",
    "        print(info['moonPhase'], \"of the moon is currently visible\")\n",
    "    \n",
    "#from datetime import datetime\n",
    "#datetime.fromtimestamp(1465444800)\n",
    "\n",
    "#okay I gotta find the human timings to see how much of the moon I can see now\n",
    "#okay so these are daily timings, so I just need the first one"
   ]
  },
  {
   "cell_type": "markdown",
   "metadata": {},
   "source": [
    "#Question: Why doesn't this work?\n",
    "for info in daily_info:\n",
    "    print(info['moonPhase'], info['time'])\n",
    "    daily_time = info['time']\n",
    "    from datetime import datetime\n",
    "    print datetime.fromtimestamp('dailytime')"
   ]
  },
  {
   "cell_type": "markdown",
   "metadata": {},
   "source": [
    "4) What's the difference between the high and low temperatures for today?\n",
    "\n",
    "#Once again, according to the documentation: temperatureMin, temperatureMinTime, temperatureMax, and temperatureMaxTime (only defined on daily data points): numerical values representing the minimum and maximumum temperatures (and the UNIX times at which they occur) on the given day in degrees Fahrenheit."
   ]
  },
  {
   "cell_type": "code",
   "execution_count": 151,
   "metadata": {
    "collapsed": false
   },
   "outputs": [
    {
     "name": "stdout",
     "output_type": "stream",
     "text": [
      "The difference between the high and low temperatures for today is 10.740000000000002 degrees\n"
     ]
    }
   ],
   "source": [
    "for temp in daily_info:\n",
    "    #print(temp['temperatureMin'], temp['temperatureMax'], temp['time'])\n",
    "    temp_diff = temp['temperatureMax'] - temp['temperatureMin']\n",
    "    if temp['time'] == 1465358400:\n",
    "        print(\"The difference between the high and low temperatures for today is\", temp_diff, \"degrees\")"
   ]
  },
  {
   "cell_type": "markdown",
   "metadata": {},
   "source": [
    "5) Loop through the daily forecast, printing out the next week's worth of predictions. \n",
    "I'd like to know the high temperature for each day, and whether it's hot, warm, or cold, \n",
    "based on what temperatures you think are hot, warm or cold."
   ]
  },
  {
   "cell_type": "code",
   "execution_count": 167,
   "metadata": {
    "collapsed": false
   },
   "outputs": [
    {
     "name": "stdout",
     "output_type": "stream",
     "text": [
      "The high temperature for 2016-06-08 00:00:00 is 66.45 degrees\n",
      "Damn I hope they don't turn on the ac because it's going to be cold\n",
      "The high temperature for 2016-06-09 00:00:00 is 73.82 degrees\n",
      "I guess I'll wear a t-shirt because it's going to be warm\n",
      "The high temperature for 2016-06-10 00:00:00 is 76.5 degrees\n",
      "I guess I'll wear a t-shirt because it's going to be warm\n",
      "The high temperature for 2016-06-11 00:00:00 is 74.66 degrees\n",
      "I guess I'll wear a t-shirt because it's going to be warm\n",
      "The high temperature for 2016-06-12 00:00:00 is 77.77 degrees\n",
      "I guess I'll wear a t-shirt because it's going to be warm\n",
      "The high temperature for 2016-06-13 00:00:00 is 72.88 degrees\n",
      "I guess I'll wear a t-shirt because it's going to be warm\n",
      "The high temperature for 2016-06-14 00:00:00 is 75.21 degrees\n",
      "I guess I'll wear a t-shirt because it's going to be warm\n",
      "The high temperature for 2016-06-15 00:00:00 is 77.56 degrees\n",
      "I guess I'll wear a t-shirt because it's going to be warm\n"
     ]
    }
   ],
   "source": [
    "#Here's what we need: daily forecasts for the next week, \n",
    "#temperatureMax, my definition of hot and cold temperatures\n",
    "\n",
    "for heat in daily_info:\n",
    "    #print(heat['temperatureMax'], heat['time'])\n",
    "    from datetime import datetime\n",
    "    datetime = datetime.fromtimestamp(heat['time'])\n",
    "    print(\"The high temperature for\", datetime, \"is\", heat['temperatureMax'], \"degrees\")\n",
    "    if heat['temperatureMax'] >= 80:\n",
    "        print(\"Damn it's gonna be hot\")\n",
    "    if 70 <= heat['temperatureMax'] <= 79:\n",
    "        print(\"I guess I'll wear a t-shirt because it's going to be warm\")\n",
    "    if heat['temperatureMax'] <= 69:\n",
    "        print(\"Damn I hope they don't turn on the ac because it's going to be cold\")"
   ]
  },
  {
   "cell_type": "markdown",
   "metadata": {},
   "source": [
    "6) What's the weather looking like for the rest of today in Miami, Florida? \n",
    "I'd like to know the temperature for every hour, and if it's going to have cloud cover of \n",
    "more than 0.5 say \"{temperature} and cloudy\" instead of just the temperature.\n",
    "\n",
    "#Miami Coordinates: 25.7617° N, 80.1918° W\n",
    "#From the documentation: cloudCover: A numerical value between 0 and 1 (inclusive) representing the percentage of sky occluded by clouds."
   ]
  },
  {
   "cell_type": "code",
   "execution_count": 174,
   "metadata": {
    "collapsed": true
   },
   "outputs": [],
   "source": [
    "response = requests.get('https://api.forecast.io/forecast/2720ff846cb70aeec085c402d31c3ea2/25.7617,-80.1918')"
   ]
  },
  {
   "cell_type": "code",
   "execution_count": 172,
   "metadata": {
    "collapsed": true
   },
   "outputs": [],
   "source": [
    "miami = response.json()"
   ]
  },
  {
   "cell_type": "code",
   "execution_count": 208,
   "metadata": {
    "collapsed": false
   },
   "outputs": [
    {
     "name": "stdout",
     "output_type": "stream",
     "text": [
      "The temperature at 2016-06-08 17:00:00 is 81.19 degrees and it is cloudy\n",
      "The temperature at 2016-06-08 18:00:00 is 80.76 degrees and it is cloudy\n",
      "The temperature at 2016-06-08 19:00:00 is 80.59 degrees and it is cloudy\n",
      "The temperature at 2016-06-08 20:00:00 is 79.96 degrees and it is cloudy\n",
      "The temperature at 2016-06-08 21:00:00 is 78.8 degrees and it is cloudy\n",
      "The temperature at 2016-06-08 22:00:00 is 78.02 degrees and it is cloudy\n",
      "The temperature at 2016-06-08 23:00:00 is 78.14 degrees and it is cloudy\n"
     ]
    }
   ],
   "source": [
    "#What I need: hourly, icon\n",
    "\n",
    "miami.keys()\n",
    "miami_hourly = miami['hourly']\n",
    "miami_hourly.keys()\n",
    "#print(miami_hourly['data'])\n",
    "miami_hourly_data = miami_hourly['data']\n",
    "\n",
    "for temp in miami_hourly_data:\n",
    "    #print(temp['time'], temp['cloudCover'], temp['temperature'])\n",
    "    from datetime import datetime\n",
    "    todaytime = datetime.fromtimestamp(temp['time'])\n",
    "    if temp['time'] < 1465444800 and temp['cloudCover'] <= 0.5:\n",
    "        print(\"The temperature at\", todaytime, \"is\", temp['temperature'], \"degrees\")\n",
    "    if  temp['time'] < 1465444800 and temp['cloudCover'] > 0.5:\n",
    "        print(\"The temperature at\", todaytime, \"is\", temp['temperature'], \"degrees and it is cloudy\")"
   ]
  },
  {
   "cell_type": "markdown",
   "metadata": {},
   "source": [
    "7) What was the temperature in Central Park on Christmas Day, 1980? How about 1990? 2000?\n",
    "\n",
    "Tip: You'll need to use UNIX time, which is the number of seconds since January 1, 1970. Google can help you convert a normal date!\n",
    "Tip: You'll want to use Forecast.io's \"time machine\" API at https://developer.forecast.io/docs/v2"
   ]
  },
  {
   "cell_type": "code",
   "execution_count": 214,
   "metadata": {
    "collapsed": true
   },
   "outputs": [],
   "source": [
    "response = requests.get('https://api.forecast.io/forecast/2720ff846cb70aeec085c402d31c3ea2/40.7829,-73.9654,346550400')\n",
    "xmas_1980 = response.json()"
   ]
  },
  {
   "cell_type": "code",
   "execution_count": 216,
   "metadata": {
    "collapsed": false
   },
   "outputs": [],
   "source": [
    "response = requests.get('https://api.forecast.io/forecast/2720ff846cb70aeec085c402d31c3ea2/40.7829,-73.9654,662083200')\n",
    "xmas_1990 = response.json()"
   ]
  },
  {
   "cell_type": "code",
   "execution_count": 217,
   "metadata": {
    "collapsed": true
   },
   "outputs": [],
   "source": [
    "response = requests.get('https://api.forecast.io/forecast/2720ff846cb70aeec085c402d31c3ea2/40.7829,-73.9654,662083200')\n",
    "xmas_2000 = response.json()"
   ]
  },
  {
   "cell_type": "code",
   "execution_count": 240,
   "metadata": {
    "collapsed": false
   },
   "outputs": [
    {
     "name": "stdout",
     "output_type": "stream",
     "text": [
      "The temperature on Christmas day at Central Park was 33.96 degrees in 1980 36.74 degrees in 1990 and 36.74 degrees in 2000.\n"
     ]
    }
   ],
   "source": [
    "#I need the temperature from current because it's not in daily\n",
    "current_1980 = xmas_1980['currently']\n",
    "#current_1980.keys()\n",
    "current_1990 = xmas_1990['currently']\n",
    "current_2000 = xmas_2000['currently']\n",
    "\n",
    "print(\"The temperature on Christmas day at Central Park was\", current_1980['temperature'], \"degrees in 1980\",\n",
    "     current_1990['temperature'], \"degrees in 1990 and\", current_2000['temperature'], \"degrees in 2000.\")\n"
   ]
  },
  {
   "cell_type": "code",
   "execution_count": null,
   "metadata": {
    "collapsed": true
   },
   "outputs": [],
   "source": []
  }
 ],
 "metadata": {
  "kernelspec": {
   "display_name": "Python 3",
   "language": "python",
   "name": "python3"
  },
  "language_info": {
   "codemirror_mode": {
    "name": "ipython",
    "version": 3
   },
   "file_extension": ".py",
   "mimetype": "text/x-python",
   "name": "python",
   "nbconvert_exporter": "python",
   "pygments_lexer": "ipython3",
   "version": "3.5.1"
  }
 },
 "nbformat": 4,
 "nbformat_minor": 0
}
