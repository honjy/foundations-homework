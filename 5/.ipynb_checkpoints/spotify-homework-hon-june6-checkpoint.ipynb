{
 "cells": [
  {
   "cell_type": "code",
   "execution_count": 1,
   "metadata": {
    "collapsed": true
   },
   "outputs": [],
   "source": [
    "#1) With \"Lil Wayne\" and \"Lil Kim\" there are a lot of \"Lil\" musicians. \n",
    "#Do a search and print a list of 50 that are playable in the USA \n",
    "#(or the country of your choice), along with their popularity score."
   ]
  },
  {
   "cell_type": "code",
   "execution_count": 2,
   "metadata": {
    "collapsed": false
   },
   "outputs": [],
   "source": [
    "import requests"
   ]
  },
  {
   "cell_type": "code",
   "execution_count": 3,
   "metadata": {
    "collapsed": false
   },
   "outputs": [],
   "source": [
    "response = requests.get('https://api.spotify.com/v1/search?query=lil&type=artist&market=US&limit=50')"
   ]
  },
  {
   "cell_type": "markdown",
   "metadata": {},
   "source": [
    "& for multiple parameters"
   ]
  },
  {
   "cell_type": "code",
   "execution_count": 4,
   "metadata": {
    "collapsed": true
   },
   "outputs": [],
   "source": [
    "data = response.json()"
   ]
  },
  {
   "cell_type": "code",
   "execution_count": 5,
   "metadata": {
    "collapsed": false
   },
   "outputs": [
    {
     "data": {
      "text/plain": [
       "dict_keys(['artists'])"
      ]
     },
     "execution_count": 5,
     "metadata": {},
     "output_type": "execute_result"
    }
   ],
   "source": [
    "data.keys()"
   ]
  },
  {
   "cell_type": "code",
   "execution_count": 6,
   "metadata": {
    "collapsed": false
   },
   "outputs": [],
   "source": [
    "artist_data = data['artists']"
   ]
  },
  {
   "cell_type": "code",
   "execution_count": 7,
   "metadata": {
    "collapsed": false
   },
   "outputs": [
    {
     "data": {
      "text/plain": [
       "dict_keys(['previous', 'total', 'offset', 'items', 'href', 'next', 'limit'])"
      ]
     },
     "execution_count": 7,
     "metadata": {},
     "output_type": "execute_result"
    }
   ],
   "source": [
    "artist_data.keys()"
   ]
  },
  {
   "cell_type": "code",
   "execution_count": 8,
   "metadata": {
    "collapsed": false
   },
   "outputs": [],
   "source": [
    "lil_names = artist_data['items']\n",
    "#lil_names = list of dictionaries = list of artist name, popularity, type, genres etc"
   ]
  },
  {
   "cell_type": "markdown",
   "metadata": {
    "collapsed": true
   },
   "source": [
    "#2) What genres are most represented in the search results? \n",
    "Edit your previous printout to also display a list of their genres in the format \n",
    "GENRE_1, GENRE_2, GENRE_3\". If there are no genres, print \"No genres listed\".\n",
    "Tip: \"how to join a list Python\" might be a helpful search"
   ]
  },
  {
   "cell_type": "code",
   "execution_count": 9,
   "metadata": {
    "collapsed": false
   },
   "outputs": [
    {
     "name": "stdout",
     "output_type": "stream",
     "text": [
      "Lil Wayne 86 ['dirty south rap', 'pop rap', 'southern hip hop', 'trap music']\n",
      "Lil Yachty 74 there are no genres listed\n",
      "Lil Uzi Vert 74 there are no genres listed\n",
      "Lil Dicky 69 there are no genres listed\n",
      "Boosie Badazz 67 there are no genres listed\n",
      "Lil Jon 72 ['crunk', 'dirty south rap', 'southern hip hop']\n",
      "King Lil G 61 there are no genres listed\n",
      "Lil Durk 60 there are no genres listed\n",
      "Lil Jon & The East Side Boyz 60 there are no genres listed\n",
      "Lil Bibby 54 there are no genres listed\n",
      "G Herbo 53 there are no genres listed\n",
      "Lil Rob 50 ['chicano rap', 'latin hip hop']\n",
      "Lil Reese 50 there are no genres listed\n",
      "Lil Scrappy 50 ['crunk', 'dirty south rap', 'southern hip hop', 'trap music']\n",
      "Bow Wow 57 ['hip pop', 'pop rap']\n",
      "Lil Keke 48 there are no genres listed\n",
      "Lil Wyte 50 ['juggalo']\n",
      "Lil Blood 46 there are no genres listed\n",
      "Lil Snupe 45 there are no genres listed\n",
      "Lil Mama 45 ['hip pop']\n",
      "Lil Boom 46 there are no genres listed\n",
      "Lil B 44 there are no genres listed\n",
      "Lil' Kim 62 ['hip pop']\n",
      "Lil Cuete 40 ['chicano rap']\n",
      "Lil Phat 40 there are no genres listed\n",
      "Lil Debbie 43 there are no genres listed\n",
      "Lil Twist 40 ['jerk']\n",
      "Lil Trill 37 ['deep trap']\n",
      "Lil Goofy 36 there are no genres listed\n",
      "Lil Lonnie 37 there are no genres listed\n",
      "Lil AJ 37 there are no genres listed\n",
      "Lil Haiti 38 there are no genres listed\n",
      "Lil Cray 36 there are no genres listed\n",
      "Lil Twon 36 there are no genres listed\n",
      "Mr. Lil One 36 ['chicano rap']\n",
      "Lil Mouse 35 there are no genres listed\n",
      "Lil Silva 43 there are no genres listed\n",
      "Lil Yase 34 there are no genres listed\n",
      "Lil Flash 38 there are no genres listed\n",
      "Lil Suzy 34 ['freestyle']\n",
      "Lil Eddie 41 there are no genres listed\n",
      "Lil Rue 34 there are no genres listed\n",
      "Lil Kesh 39 there are no genres listed\n",
      "Lil Wayne, DJ Drama 35 there are no genres listed\n",
      "Lil C 33 there are no genres listed\n",
      "Lil Rick 39 ['soca']\n",
      "Lil E 35 there are no genres listed\n",
      "Lil June 32 there are no genres listed\n",
      "Lil Fate 34 there are no genres listed\n",
      "Lil' Flip 50 ['crunk', 'dirty south rap']\n"
     ]
    }
   ],
   "source": [
    "for names in lil_names:\n",
    "    if not names['genres']:\n",
    "        print(names['name'], names['popularity'], \"there are no genres listed\")\n",
    "    else:\n",
    "        print(names['name'], names['popularity'], names[\"genres\"])\n",
    "\n",
    "#Join all the lists of genres in the dictionary and then count the number of elements in it"
   ]
  },
  {
   "cell_type": "markdown",
   "metadata": {},
   "source": [
    "ANSWER:\n",
    "    for artist in artists:\n",
    "        print(artist['name'], artist['popularity'])\n",
    "        if len(artist['genres']) > 0:\n",
    "            genres = \", \".join(artist['genres'])\n",
    "            print(\"Genre list: \", genres\n",
    "        else:\n",
    "            print(\"No genres listed\")\n",
    "\n",
    "                  OR\n",
    "        if len(artist['name']) == 0:\n",
    "                  \n",
    "                  OR\n",
    "        if not len(artist['genres']) == 0:\n",
    "                  \n",
    "                  \n",
    "# \"-\".join(your_list) to join lists"
   ]
  },
  {
   "cell_type": "code",
   "execution_count": 14,
   "metadata": {
    "collapsed": false
   },
   "outputs": [
    {
     "ename": "NameError",
     "evalue": "name 'artists' is not defined",
     "output_type": "error",
     "traceback": [
      "\u001b[0;31m---------------------------------------------------------------------------\u001b[0m",
      "\u001b[0;31mNameError\u001b[0m                                 Traceback (most recent call last)",
      "\u001b[0;32m<ipython-input-14-a4a39527746a>\u001b[0m in \u001b[0;36m<module>\u001b[0;34m()\u001b[0m\n\u001b[1;32m      2\u001b[0m \u001b[0mall_genres\u001b[0m \u001b[0;34m=\u001b[0m \u001b[0;34m[\u001b[0m\u001b[0;34m]\u001b[0m\u001b[0;34m\u001b[0m\u001b[0m\n\u001b[1;32m      3\u001b[0m \u001b[0;34m\u001b[0m\u001b[0m\n\u001b[0;32m----> 4\u001b[0;31m \u001b[0;32mfor\u001b[0m \u001b[0martist\u001b[0m \u001b[0;32min\u001b[0m \u001b[0martists\u001b[0m\u001b[0;34m:\u001b[0m\u001b[0;34m\u001b[0m\u001b[0m\n\u001b[0m\u001b[1;32m      5\u001b[0m     \u001b[0mprint\u001b[0m\u001b[0;34m(\u001b[0m\u001b[0;34m\"All genres we've heard of:\"\u001b[0m\u001b[0;34m,\u001b[0m \u001b[0mall_genres\u001b[0m\u001b[0;34m)\u001b[0m\u001b[0;34m\u001b[0m\u001b[0m\n\u001b[1;32m      6\u001b[0m     \u001b[0;31m#The conditional: None\u001b[0m\u001b[0;34m\u001b[0m\u001b[0;34m\u001b[0m\u001b[0m\n",
      "\u001b[0;31mNameError\u001b[0m: name 'artists' is not defined"
     ]
    }
   ],
   "source": [
    "#ANSWER:\n",
    "all_genres = []    \n",
    "    \n",
    "for artist in artists:\n",
    "    print(\"All genres we've heard of:\", all_genres)\n",
    "    #The conditional: None\n",
    "    print(\"Current artist has:\", artist['genres'])\n",
    "    all_genres = all_genres + artist['genres']\n",
    "\n",
    "    #genre_list = \", \".join(artist['genres'])\n",
    "    #print(artist['name'], \":\", genre_list)\n",
    "\n",
    "    all_genre.count('dirty soup rap')\n",
    "    all_genre.count('crunk')\n",
    "\n",
    "#This is bad because dirty south rap shows up four times. We need a unique list of genres\n",
    "    for genre in all_genres:\n",
    "        genre_count = all_genres.count(genre)\n",
    "        print(genre, \"shows up\", genre_count, \"times\")\n",
    "\n",
    "#To remove duplicates. You need to turn a list into a set.\n",
    "unique_genres = set(list_with_duplicates)\n",
    "for genre in unique_genres:\n",
    "    genre_count = all_genres.count(genre)\n",
    "    print(genre, \"shows up\", genre_count, \"times\")"
   ]
  },
  {
   "cell_type": "code",
   "execution_count": 11,
   "metadata": {
    "collapsed": false
   },
   "outputs": [
    {
     "ename": "NameError",
     "evalue": "name 'all_genres' is not defined",
     "output_type": "error",
     "traceback": [
      "\u001b[0;31m---------------------------------------------------------------------------\u001b[0m",
      "\u001b[0;31mNameError\u001b[0m                                 Traceback (most recent call last)",
      "\u001b[0;32m<ipython-input-11-bd2048aff2ff>\u001b[0m in \u001b[0;36m<module>\u001b[0;34m()\u001b[0m\n\u001b[1;32m      7\u001b[0m \u001b[0;31m#all_genres is a list of strings of genrs with duplicates\u001b[0m\u001b[0;34m\u001b[0m\u001b[0;34m\u001b[0m\u001b[0m\n\u001b[1;32m      8\u001b[0m \u001b[0;31m#counter will count all te genres for us\u001b[0m\u001b[0;34m\u001b[0m\u001b[0;34m\u001b[0m\u001b[0m\n\u001b[0;32m----> 9\u001b[0;31m \u001b[0mcounts\u001b[0m \u001b[0;34m=\u001b[0m \u001b[0mcollections\u001b[0m\u001b[0;34m.\u001b[0m\u001b[0mCounter\u001b[0m\u001b[0;34m(\u001b[0m\u001b[0mall_genres\u001b[0m\u001b[0;34m)\u001b[0m\u001b[0;34m\u001b[0m\u001b[0m\n\u001b[0m\u001b[1;32m     10\u001b[0m \u001b[0mcounts\u001b[0m\u001b[0;34m.\u001b[0m\u001b[0mmost_common\u001b[0m\u001b[0;34m(\u001b[0m\u001b[0;36m4\u001b[0m\u001b[0;34m)\u001b[0m \u001b[0;31m#will give you the four most common genres\u001b[0m\u001b[0;34m\u001b[0m\u001b[0m\n",
      "\u001b[0;31mNameError\u001b[0m: name 'all_genres' is not defined"
     ]
    }
   ],
   "source": [
    "#There is a library that comes with Python called Collections\n",
    "#Inside of it is a magic thing called Counter.\n",
    "\n",
    "import collections # will import the whole collections\n",
    "#you can also type\n",
    "from collections import Counter\n",
    "#all_genres is a list of strings of genrs with duplicates\n",
    "#counter will count all te genres for us\n",
    "counts = collections.Counter(all_genres)\n",
    "counts.most_common(4) #will give you the four most common genres"
   ]
  },
  {
   "cell_type": "code",
   "execution_count": null,
   "metadata": {
    "collapsed": true
   },
   "outputs": [],
   "source": [
    "#HOW TO AUTOMATE GETTING ALL THE RESULTS\n",
    "\n",
    "response = requests.get(\"https://api.spotify.com/v1/search?query=lil&type=artist&market=US&limit=10\")\n",
    "small_data = response.json()"
   ]
  },
  {
   "cell_type": "code",
   "execution_count": null,
   "metadata": {
    "collapsed": false
   },
   "outputs": [],
   "source": [
    "small_data['artists']\n",
    "print(len(small_data['artists']['items'])) #We only get 10 artists\n",
    "print(data['artists']['total'])\n",
    "\n",
    "import math\n",
    "page_count = math.ceil(4502/50)\n",
    "#math.ceil rounds up\n",
    "#math.ceil(page_count)\n",
    "page_count"
   ]
  },
  {
   "cell_type": "code",
   "execution_count": null,
   "metadata": {
    "collapsed": false
   },
   "outputs": [],
   "source": [
    "#First page artists 1-50: \n",
    "#https://api.spotify.com/v1/search?query=lil&type=artist&market=US&limit=50\n",
    "#Second page artists 51-100: \n",
    "#https://api.spotify.com/v1/search?query=lil&type=artist&market=US&limit=50&offset=50\n",
    "#Third page artists 101-150: \n",
    "#https://api.spotify.com/v1/search?query=lil&type=artist&market=US&limit=50&offset=100\n",
    "#Fourth page artists 151-200: \n",
    "#https://api.spotify.com/v1/search?query=lil&type=artist&market=US&limit=50&offset=150\n",
    "\n",
    "for page in [0, 1, 2, 3, 4]:\n",
    "    offset = (page) * 50 #because page 2 is 50 and 2-1 = 1 x 50 = 50\n",
    "    print(\"We are on page\", page, \"with an offset of\", offset)"
   ]
  },
  {
   "cell_type": "code",
   "execution_count": null,
   "metadata": {
    "collapsed": false
   },
   "outputs": [],
   "source": [
    "for page in range(91):\n",
    "    #Get a page\n",
    "    offset = page * 50\n",
    "    print(\"We are on page\", page, \"with an offset of\", offset)\n",
    "    \n",
    "    #Make the request with a changed offset ?offset [offset]\n",
    "    #data = response.json()\n",
    "    #add all our new artists to our list of existing artists\n",
    "    #all_artists = all_artists + data['artists]['items]\n",
    "    \n",
    "print(\"Successfully retrieved\", len(all_artists), \"artists\")"
   ]
  },
  {
   "cell_type": "markdown",
   "metadata": {
    "collapsed": true
   },
   "source": [
    "#3) Use a for loop to determine who BESIDES Lil Wayne has the highest popularity rating. \n",
    "#Is it the same artist who has the largest number of followers?"
   ]
  },
  {
   "cell_type": "code",
   "execution_count": null,
   "metadata": {
    "collapsed": false
   },
   "outputs": [],
   "source": [
    "for popularity in lil_names:\n",
    "    print(popularity['name'], popularity['popularity'], popularity['followers'])\n",
    "print(\"Lil Yachty, Lil Uzi Vert, Lil Jon have the highest popularity ratings besides Lil Wayne, and they do not have the largest number of followers.\")"
   ]
  },
  {
   "cell_type": "markdown",
   "metadata": {},
   "source": [
    "ANSWER:\n",
    "    #jonathansoma.com/site/lede/foundations/python-patterns/looping-problems/\n",
    "    \n",
    "second_most_popular_name = \"\"\n",
    "second_most_popular_score = 0\n",
    "for artist in artists:\n",
    "    print(\"Looking at\", artist['name]', \"who has a popularity score of\", artist['popularity'])\n",
    "    #THE CONDITIONAL aka what you are testing\n",
    "    print(\"Comparing\", artist['popularity'], \"to\", most_popular_score)\n",
    "    if artist['popularity'] > most_popular_score and artist['name'] != 'Lil Wayne':\n",
    "                               \n",
    "                               OR\n",
    "    if artist['popularity'] > most_popular_score:\n",
    "        if artist['name'] == \"Lil Wayne\":\n",
    "            print(\"Nice try, Lil Wayne, we don't care\")\n",
    "        else:\n",
    "            print(\"Not Lil Wayne, updating our notebook\")\n",
    "                  \n",
    "        #The change, aka what you are keeping track of\n",
    "        most_popular_name = artist['name']\n",
    "        most_popular_score = artist['popularity']\n",
    "\n",
    "print(most_popular_name, most_popular_score)\n",
    "                               \n",
    "#But what if more than one person has the highest score?\n",
    "                               \n",
    "\n",
    "#Aggregation Problem. When you're looping through a series of objects and sometimes you \n",
    "#want to add one of those objects to a different list.\n",
    "\n",
    "target score = 72\n",
    "#initial condition\n",
    "\n",
    "second_best_artist = []\n",
    "\n",
    "for artist in artists:\n",
    "    print(\"Looking at\", artist['name'], \"who has a popularity of\", )\n",
    "    #2: Conditional. When we want to add someone to our list\n",
    "                               if artist['popularity'] == 72:\n",
    "                               print(\"!!! The artist's popularity is 72\")\n",
    "                               #The Change\n",
    "                               #Add that artist to our list\n",
    "                               #.append(newthing) is how we do that in Python\n",
    "                               second_best_artists.append(artist['name'])\n",
    "                               \n",
    "    print(\"Our second best artists are:\")\n",
    "                               for artist in second_best_artist:\n",
    "                               print(artist)"
   ]
  },
  {
   "cell_type": "markdown",
   "metadata": {
    "collapsed": true
   },
   "source": [
    "Print a list of Lil's that are more popular than Lil' Kim."
   ]
  },
  {
   "cell_type": "code",
   "execution_count": null,
   "metadata": {
    "collapsed": false
   },
   "outputs": [],
   "source": [
    "for kim in lil_names:\n",
    "    print(kim['name'], kim['id'])"
   ]
  },
  {
   "cell_type": "code",
   "execution_count": null,
   "metadata": {
    "collapsed": false
   },
   "outputs": [],
   "source": [
    "response = requests.get(\"https://api.spotify.com/v1/artists/5tth2a3v0sWwV1C7bApBdX/\")\n",
    "kim_data = response.json()"
   ]
  },
  {
   "cell_type": "code",
   "execution_count": null,
   "metadata": {
    "collapsed": false
   },
   "outputs": [],
   "source": [
    "#print(kim_data)\n",
    "kim_followers = kim_data['followers']\n",
    "total_kim_followers = kim_followers['total']\n",
    "#print(total_kim_followers)\n",
    "\n",
    "for artists in lil_names:\n",
    "    if artists[\"followers\"][\"total\"] > total_kim_followers:\n",
    "        print(artists['name'], artists['popularity'])"
   ]
  },
  {
   "cell_type": "code",
   "execution_count": null,
   "metadata": {
    "collapsed": true
   },
   "outputs": [],
   "source": [
    "ANSWER:\n",
    "    \n",
    "for artist in artists:\n",
    "    #print(\"Looking at\", artist['name'])\n",
    "    if artist['name'] == \"Lil' Kim\":\n",
    "        print(\"Found Lil Kim\")\n",
    "        print(artist['popularity'])\n",
    "    else:\n",
    "        pass\n",
    "        #print(\"Not Lil Kim\")\n",
    "\n",
    "lil_kim_popularity = 62\n",
    "\n",
    "for artist in artists:\n",
    "    if artist['popularity'] > lil_kim_popularity:\n",
    "        print(artist['name'], \"is more popular with a score of\", artist['popularity'])\n",
    "        more_popular_than_lil_kim.append(artist['name'])\n",
    "    else:\n",
    "        print(artist['name'], \"is less popular with a score of\", artist['popularity'])\n",
    "print(\"#### More popular than Lil Kim ####\"):\n",
    "    print(artist_name)\n",
    "    \n",
    "    more_popular_string = \", \".join(more_popular_than_lil_kim)\n",
    "    print(\"Artists mroe popular than Lil Kim are:\", more_popular_string)"
   ]
  },
  {
   "cell_type": "markdown",
   "metadata": {
    "collapsed": true
   },
   "source": [
    "5) Pick two of your favorite Lils to fight it out, and use their IDs to print out their top tracks."
   ]
  },
  {
   "cell_type": "code",
   "execution_count": null,
   "metadata": {
    "collapsed": false
   },
   "outputs": [],
   "source": [
    "#Let's pick Lil Wayne and Lil Mama because I don't know who most of these people are\n",
    "wayne_id = \"55Aa2cqylxrFIXC767Z865\"\n",
    "\n",
    "response = requests.get(\"https://api.spotify.com/v1/artists/\" + wayne_id + \"/top-tracks?country=US\")\n",
    "wayne_data = response.json()\n",
    "top_wayne_tracks = wayne_data['tracks']\n",
    "for track in top_wayne_tracks:\n",
    "    print(track[\"name\"])"
   ]
  },
  {
   "cell_type": "code",
   "execution_count": null,
   "metadata": {
    "collapsed": false
   },
   "outputs": [],
   "source": [
    "mama_id = \"5qK5bOC6wLtuLhG5KvU17c\"\n",
    "response = requests.get(\"https://api.spotify.com/v1/artists/\" + mama_id + \"/top-tracks?country=US\")\n",
    "mama_data = response.json()\n",
    "\n",
    "top_mama_tracks = mama_data['tracks']\n",
    "for track in top_mama_tracks:\n",
    "    print(track[\"name\"])"
   ]
  },
  {
   "cell_type": "markdown",
   "metadata": {},
   "source": [
    "Will the world explode if a musician swears? \n",
    "Get an average popularity for their explicit songs vs. their non-explicit songs. \n",
    "How many minutes of explicit songs do they have? Non-explicit?"
   ]
  },
  {
   "cell_type": "code",
   "execution_count": null,
   "metadata": {
    "collapsed": false
   },
   "outputs": [],
   "source": [
    "wayne_explicit_count = 0\n",
    "wayne_exp_popularity_count = 0\n",
    "wayne_ok_count = 0\n",
    "wayne_ok_popularity_count = 0\n",
    "wayne_explicit_len = 0\n",
    "wayne_ok_len = 0\n",
    "for track in top_wayne_tracks:\n",
    "    print(track['name'], track['explicit'], track['popularity'], track[\"duration_ms\"])\n",
    "    if True:\n",
    "        wayne_explicit_count = wayne_explicit_count + 1\n",
    "        wayne_exp_popularity_count = wayne_exp_popularity_count + int(track['popularity'])\n",
    "        wayne_avg_pop = wayne_exp_popularity_count / wayne_explicit_count\n",
    "        wayne_explicit_len = wayne_explicit_len + int(track[\"duration_ms\"])\n",
    "    if not track['explicit']:\n",
    "        wayne_ok_count = wayne_ok_count + 1\n",
    "        wayne_ok_popularity_count = wayne_ok_popularity_count + track['popularity']\n",
    "        wayne_ok_avg_pop = wayne_ok_popularity_count / wayne_ok_count\n",
    "        wayne_ok_len = wayne_ok_len + track[\"duration_ms\"]\n",
    "\n",
    "if wayne_explicit_count > 0:\n",
    "    print(\"The average popularity for Lil Wayne's explicit songs is\", wayne_avg_pop)\n",
    "    #1 minute is 60000 milliseconds, who knew?\n",
    "    wayne_explicit_mins = int(wayne_explicit_len) / 60000\n",
    "    print(\"Lil Wayne has\", wayne_explicit_mins, \"minutes of explicit songs\")\n",
    "if wayne_ok_count > 0:\n",
    "    print(\"The average popularity for Lil Wayne's non-explicit songs is\", wayne_ok_avg_pop)\n",
    "    wayne_ok_mins = int(wayne_ok_len) / 60000\n",
    "    print(\"Lil Wayne has\", wayne_ok_mins, \"minutes of explicit songs\")"
   ]
  },
  {
   "cell_type": "markdown",
   "metadata": {},
   "source": [
    "#QUESTION: Why does this return both true and not true statements for non-explicit statements?\n",
    "for track in top_mama_tracks:\n",
    "    print(track['name'], track['explicit'])\n",
    "    if True:\n",
    "        print(track['name'], \"is explicit and has a popularity of\", track['popularity'])\n",
    "    if not track['explicit']:\n",
    "        print(track['name'], \"is not explicit and has a popularity of\", track['popularity'])"
   ]
  },
  {
   "cell_type": "code",
   "execution_count": null,
   "metadata": {
    "collapsed": false
   },
   "outputs": [],
   "source": [
    "mama_exp_count = 0\n",
    "mama_exp_pop_count = 0\n",
    "mama_ok_count = 0\n",
    "mama_ok_pop_count = 0\n",
    "mama_exp_len = 0\n",
    "mama_ok_len = 0\n",
    "\n",
    "for track in top_mama_tracks:\n",
    "    print(track['name'], track['explicit'], track['popularity'], track[\"duration_ms\"])\n",
    "    if True:\n",
    "        mama_exp_count = mama_exp_count + 1\n",
    "        mama_exp_pop_count = mama_exp_pop_count + int(track['popularity'])\n",
    "        mama_avg_pop = int(mama_exp_pop_count) / int(mama_exp_count)\n",
    "        mama_exp_len = mama_exp_len + int(track[\"duration_ms\"])\n",
    "    if not track['explicit']:\n",
    "        mama_ok_count = mama_ok_count + 1\n",
    "        mama_ok_pop_count = mama_ok_pop_count + int(track['popularity'])\n",
    "        mama_ok_avg_pop = int(mama_ok_pop_count) / int(mama_ok_count)\n",
    "        mama_ok_len = mama_ok_len + int(track[\"duration_ms\"])\n",
    "\n",
    "if mama_exp_count > 0:\n",
    "       #1 minute is 60000 milliseconds, who knew?\n",
    "    print(\"The average popularity for Lil Mama's xplicit songs is\", mama_avg_pop)\n",
    "    mama_exp_mins = int(mama_exp_len) / 60000\n",
    "    print(\"Lil Mama has\", mama_exp_mins, \"minutes of explicit songs\")\n",
    "if mama_ok_count > 0:\n",
    "    print(\"The average popularity for Lil Mama's non-explicit songs is\", mama_ok_avg_pop)\n",
    "    mama_ok_mins = int(mama_ok_len) / 60000\n",
    "    print(\"Lil Mama has\", mama_ok_mins, \"minutes of non-explicit songs\")"
   ]
  },
  {
   "cell_type": "markdown",
   "metadata": {},
   "source": [
    "7) Since we're talking about Lils, what about Biggies? \n",
    "How many total \"Biggie\" artists are there? How many total \"Lil\"s? \n",
    "If you made 1 request every 5 seconds, \n",
    "how long would it take to download information on all the Lils vs the Biggies?"
   ]
  },
  {
   "cell_type": "code",
   "execution_count": null,
   "metadata": {
    "collapsed": true
   },
   "outputs": [],
   "source": [
    "#We need to bypass the limit. And find out "
   ]
  },
  {
   "cell_type": "code",
   "execution_count": null,
   "metadata": {
    "collapsed": false
   },
   "outputs": [],
   "source": [
    "response = requests.get('https://api.spotify.com/v1/search?query=biggie&type=artist')"
   ]
  },
  {
   "cell_type": "code",
   "execution_count": null,
   "metadata": {
    "collapsed": true
   },
   "outputs": [],
   "source": [
    "biggie_data = response.json()"
   ]
  },
  {
   "cell_type": "code",
   "execution_count": null,
   "metadata": {
    "collapsed": false
   },
   "outputs": [],
   "source": [
    "biggie_artists = biggie_data['artists']\n",
    "biggie_names = biggie_artists['items']\n",
    "biggie_count= 0\n",
    "\n",
    "for name in biggie_names:\n",
    "    print(name['name'])\n",
    "    biggie_count = biggie_count + 1\n",
    "print(\"There are a total number of\", biggie_count, \"biggie artists\")"
   ]
  },
  {
   "cell_type": "code",
   "execution_count": null,
   "metadata": {
    "collapsed": true
   },
   "outputs": [],
   "source": [
    "response = requests.get('https://api.spotify.com/v1/search?query=lil&type=artist')"
   ]
  },
  {
   "cell_type": "code",
   "execution_count": null,
   "metadata": {
    "collapsed": true
   },
   "outputs": [],
   "source": [
    "lil_data = response.json()"
   ]
  },
  {
   "cell_type": "code",
   "execution_count": null,
   "metadata": {
    "collapsed": false
   },
   "outputs": [],
   "source": [
    "lil_x_artists = lil_data['artists']\n",
    "lil_x_names = lil_x_artists['items']\n",
    "lil_x_count= 0\n",
    "\n",
    "for name in lil_x_names:\n",
    "    print(name['name'])\n",
    "    lil_x_count = biggie_count + 1\n",
    "print(\"There are a total number of\", lil_x_count, \"lil artists\")"
   ]
  },
  {
   "cell_type": "markdown",
   "metadata": {},
   "source": [
    "8) Out of the top 50 \"Lil\"s and the top 50 \"Biggie\"s, who is more popular on average?"
   ]
  },
  {
   "cell_type": "code",
   "execution_count": null,
   "metadata": {
    "collapsed": true
   },
   "outputs": [],
   "source": [
    "response = requests.get('https://api.spotify.com/v1/search?query=biggie&type=artist&limit=50')"
   ]
  },
  {
   "cell_type": "code",
   "execution_count": null,
   "metadata": {
    "collapsed": true
   },
   "outputs": [],
   "source": [
    "b_data = response.json()"
   ]
  },
  {
   "cell_type": "code",
   "execution_count": null,
   "metadata": {
    "collapsed": false
   },
   "outputs": [],
   "source": [
    "b_artists = b_data['artists']\n",
    "b_names = b_artists['items']\n",
    "b_pop_count = 0\n",
    "b_number = 0\n",
    "\n",
    "for names in b_names:\n",
    "    print(names['name'], names['popularity'])\n",
    "    b_number = b_number + 1\n",
    "    b_pop_count = b_pop_count + int(names['popularity'])\n",
    "    avg_b_pop = b_pop_count / int(b_number)\n",
    "print(\"The Biggies' average popularity is\", avg_b_pop)"
   ]
  },
  {
   "cell_type": "code",
   "execution_count": null,
   "metadata": {
    "collapsed": false
   },
   "outputs": [],
   "source": [
    "lil_pop_count = 0\n",
    "lil_number = 0\n",
    "\n",
    "for names in lil_names:\n",
    "    print(names['name'], names['popularity'])\n",
    "    lil_number = lil_number + 1\n",
    "    lil_pop_count = lil_pop_count + int(names['popularity'])\n",
    "    avg_lil_pop = lil_pop_count / int(lil_number)\n",
    "print(\"The Lils average popularity is\", avg_lil_pop)"
   ]
  },
  {
   "cell_type": "code",
   "execution_count": null,
   "metadata": {
    "collapsed": false
   },
   "outputs": [],
   "source": [
    "print(\"The Lils are far more popular\")"
   ]
  },
  {
   "cell_type": "code",
   "execution_count": null,
   "metadata": {
    "collapsed": true
   },
   "outputs": [],
   "source": []
  }
 ],
 "metadata": {
  "kernelspec": {
   "display_name": "Python 3",
   "language": "python",
   "name": "python3"
  },
  "language_info": {
   "codemirror_mode": {
    "name": "ipython",
    "version": 3
   },
   "file_extension": ".py",
   "mimetype": "text/x-python",
   "name": "python",
   "nbconvert_exporter": "python",
   "pygments_lexer": "ipython3",
   "version": "3.5.1"
  }
 },
 "nbformat": 4,
 "nbformat_minor": 0
}
