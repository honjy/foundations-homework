{
 "cells": [
  {
   "cell_type": "code",
   "execution_count": 1,
   "metadata": {
    "collapsed": false
   },
   "outputs": [],
   "source": [
    "import requests"
   ]
  },
  {
   "cell_type": "markdown",
   "metadata": {},
   "source": [
    "1) What books topped the Hardcover Fiction NYT best-sellers list on Mother's Day in 2009 and 2010? How about Father's Day?"
   ]
  },
  {
   "cell_type": "code",
   "execution_count": 26,
   "metadata": {
    "collapsed": false
   },
   "outputs": [],
   "source": [
    "#Mother's Day in 2009 was May 10, 2009\n",
    "response = requests.get(\"http://api.nytimes.com/svc/books/v2/lists/2009-05-10/hardcover-fiction.json?api-key=2ca9e983dcfd4b1ba330521af1c9c2b2\")\n",
    "mom_09_data = response.json()"
   ]
  },
  {
   "cell_type": "code",
   "execution_count": 50,
   "metadata": {
    "collapsed": false
   },
   "outputs": [
    {
     "name": "stdout",
     "output_type": "stream",
     "text": [
      "FIRST FAMILY\n",
      "TEA TIME FOR THE TRADITIONALLY BUILT\n",
      "LOITERING WITH INTENT\n",
      "JUST TAKE MY HEART\n",
      "THE PERFECT POISON\n",
      "THE HOST\n",
      "LOOK AGAIN\n",
      "DEADLOCK\n",
      "LONG LOST\n",
      "TURN COAT\n",
      "THE ASSOCIATE\n",
      "HANDLE WITH CARE\n",
      "THE HELP\n",
      "THE GUERNSEY LITERARY AND POTATO PEEL PIE SOCIETY\n",
      "FATALLY FLAKY\n",
      "ARTHAS\n",
      "A RELIABLE WIFE\n",
      "BORDERLINE\n",
      "ONE SECOND AFTER\n",
      "BONEMAN'S DAUGHTERS\n"
     ]
    }
   ],
   "source": [
    "#print(mom_09_data)\n",
    "#mom_09_data.keys()\n",
    "#print(mom_09_data['results'])\n",
    "for item in mom_09_data['results']:\n",
    "    for title in item['book_details']:\n",
    "        print(title['title'])\n",
    "        \n",
    "#Q: Is this the only way to get into a dictionary in a list in a dictionary in a list? To do another for loop?"
   ]
  },
  {
   "cell_type": "code",
   "execution_count": 51,
   "metadata": {
    "collapsed": true
   },
   "outputs": [],
   "source": [
    "#Mother's Day in 2010 was May 9, 2010\n",
    "response = requests.get(\"http://api.nytimes.com/svc/books/v2/lists/2010-05-09/hardcover-fiction.json?api-key=2ca9e983dcfd4b1ba330521af1c9c2b2\")\n",
    "mom_10_data = response.json()"
   ]
  },
  {
   "cell_type": "code",
   "execution_count": 53,
   "metadata": {
    "collapsed": false
   },
   "outputs": [
    {
     "name": "stdout",
     "output_type": "stream",
     "text": [
      "DELIVER US FROM EVIL\n",
      "THE HELP\n",
      "THE DOUBLE COMFORT SAFARI CLUB\n",
      "THIS BODY OF DEATH\n",
      "LUCID INTERVALS\n",
      "THE SHADOW OF YOUR SMILE\n",
      "BURNING LAMP\n",
      "EVERY LAST ONE\n",
      "EIGHT DAYS TO LIVE\n",
      "CHANGES\n",
      "CAUGHT\n",
      "HOUSE RULES\n",
      "MATTERHORN\n",
      "THE WALK\n",
      "DECEPTION\n",
      "BEATRICE AND VIRGIL\n",
      "WRECKED\n",
      "SILVER BORNE\n",
      "ABRAHAM LINCOLN: VAMPIRE HUNTER\n",
      "A RIVER IN THE SKY\n"
     ]
    }
   ],
   "source": [
    "#print(mom_10_data)\n",
    "for item in mom_10_data['results']:\n",
    "    for title in item['book_details']:\n",
    "        print(title['title'])"
   ]
  },
  {
   "cell_type": "code",
   "execution_count": 55,
   "metadata": {
    "collapsed": false
   },
   "outputs": [],
   "source": [
    "#Father's Day in 2009 was June 21, 2009\n",
    "response = requests.get(\"http://api.nytimes.com/svc/books/v2/lists/2009-06-21/hardcover-fiction.json?api-key=2ca9e983dcfd4b1ba330521af1c9c2b2\")\n",
    "dad_09_data = response.json()"
   ]
  },
  {
   "cell_type": "code",
   "execution_count": 56,
   "metadata": {
    "collapsed": false
   },
   "outputs": [
    {
     "name": "stdout",
     "output_type": "stream",
     "text": [
      "SKIN TRADE\n",
      "MEDUSA\n",
      "THE SCARECROW\n",
      "SHANGHAI GIRLS\n",
      "MATTERS OF THE HEART\n",
      "GONE TOMORROW\n",
      "DEAD AND GONE\n",
      "THE 8TH CONFESSION\n",
      "THE STRAIN\n",
      "WICKED PREY\n",
      "THE HOST\n",
      "FIRST FAMILY\n",
      "CEMETERY DANCE\n",
      "UNDEAD AND UNWELCOME\n",
      "THE HELP\n",
      "PYGMY\n",
      "MY FATHER'S TEARS AND OTHER STORIES\n",
      "ROAD DOGS\n",
      "THE STORY SISTERS\n",
      "HEARTLESS\n"
     ]
    }
   ],
   "source": [
    "for item in dad_09_data['results']:\n",
    "    for title in item['book_details']:\n",
    "        print(title['title'])"
   ]
  },
  {
   "cell_type": "code",
   "execution_count": 102,
   "metadata": {
    "collapsed": true
   },
   "outputs": [],
   "source": [
    "#Father's Day in 2010 was June 20, 2010\n",
    "response = requests.get(\"http://api.nytimes.com/svc/books/v2/lists/2010-06-20/hardcover-fiction.json?api-key=2ca9e983dcfd4b1ba330521af1c9c2b2\")\n",
    "dad_10_data = response.json()"
   ]
  },
  {
   "cell_type": "code",
   "execution_count": 103,
   "metadata": {
    "collapsed": false
   },
   "outputs": [
    {
     "name": "stdout",
     "output_type": "stream",
     "text": [
      "THE GIRL WHO KICKED THE HORNET’S NEST\n",
      "BULLET\n",
      "THE SPY\n",
      "THE HELP\n",
      "DEAD IN THE FAMILY\n",
      "61 HOURS\n",
      "THE BURNING WIRE\n",
      "STORM PREY\n",
      "THE BOURNE OBJECTIVE\n",
      "INNOCENT\n",
      "HEART OF THE MATTER\n",
      "THE 9TH JUDGMENT\n",
      "BLOCKADE BILLY\n",
      "ALLIES\n",
      "THE RULE OF NINE\n",
      "FEVER DREAM\n",
      "DELIVER US FROM EVIL\n",
      "MATTERHORN\n",
      "THE PARTICULAR SADNESS OF LEMON CAKE\n",
      "DANGEROUS\n"
     ]
    }
   ],
   "source": [
    "for item in dad_10_data['results']:\n",
    "    for title in item['book_details']:\n",
    "        print(title['title'])"
   ]
  },
  {
   "cell_type": "markdown",
   "metadata": {},
   "source": [
    "2) What are all the different book categories the NYT ranked in June 6, 2009? How about June 6, 2015?\n",
    "\n",
    "Question: To specify a date, include it in the URI path. To specify a response-format, add it as an extension. The other parameters in this table are specified as name-value pairs in a query string.\n",
    "(What is the difference between putting it in the URI path and putting it as a query?)"
   ]
  },
  {
   "cell_type": "code",
   "execution_count": 125,
   "metadata": {
    "collapsed": true
   },
   "outputs": [],
   "source": [
    "response = requests.get(\"http://api.nytimes.com/svc/books/v2/lists/names.json?date=2009-06-06&api-key=2ca9e983dcfd4b1ba330521af1c9c2b2\")\n",
    "june6_09_data = response.json()"
   ]
  },
  {
   "cell_type": "code",
   "execution_count": 136,
   "metadata": {
    "collapsed": false
   },
   "outputs": [
    {
     "name": "stdout",
     "output_type": "stream",
     "text": [
      "Hardcover Fiction\n",
      "Hardcover Nonfiction\n",
      "Trade Fiction Paperback\n",
      "Mass Market Paperback\n",
      "Paperback Nonfiction\n",
      "Hardcover Advice\n",
      "Paperback Advice\n",
      "Chapter Books\n",
      "Paperback Books\n",
      "Picture Books\n",
      "Series Books\n",
      "Hardcover Graphic Books\n",
      "Paperback Graphic Books\n",
      "Manga\n"
     ]
    }
   ],
   "source": [
    "#print(june6_09_data)\n",
    "#Looks all right?\n",
    "\n",
    "june6_09_data.keys()\n",
    "#print(june6_09_data['results'])\n",
    "#Looks like the categories are under display name and list name. I'll just go for list name.\n",
    "#I hope I got the right list, I am actually not very sure.\n",
    "\n",
    "for category in june6_09_data['results']:\n",
    "    print(category['list_name'])"
   ]
  },
  {
   "cell_type": "code",
   "execution_count": 137,
   "metadata": {
    "collapsed": true
   },
   "outputs": [],
   "source": [
    "response = requests.get(\"http://api.nytimes.com/svc/books/v2/lists/names.json?date=2015-06-06&api-key=2ca9e983dcfd4b1ba330521af1c9c2b2\")\n",
    "june6_15_data = response.json()"
   ]
  },
  {
   "cell_type": "code",
   "execution_count": 139,
   "metadata": {
    "collapsed": false
   },
   "outputs": [],
   "source": [
    "#print(june6_15_data)"
   ]
  },
  {
   "cell_type": "code",
   "execution_count": 143,
   "metadata": {
    "collapsed": false
   },
   "outputs": [
    {
     "name": "stdout",
     "output_type": "stream",
     "text": [
      "Combined Print and E-Book Fiction\n",
      "Combined Print and E-Book Nonfiction\n",
      "Hardcover Fiction\n",
      "Hardcover Nonfiction\n",
      "Trade Fiction Paperback\n",
      "Mass Market Paperback\n",
      "Paperback Nonfiction\n",
      "E-Book Fiction\n",
      "E-Book Nonfiction\n",
      "Advice How-To and Miscellaneous\n",
      "Childrens Middle Grade\n",
      "Picture Books\n",
      "Series Books\n",
      "Young Adult\n",
      "Hardcover Graphic Books\n",
      "Paperback Graphic Books\n",
      "Manga\n",
      "Animals\n",
      "Business Books\n",
      "Celebrities\n",
      "Crime and Punishment\n",
      "Culture\n",
      "Education\n",
      "Espionage\n",
      "Expeditions Disasters and Adventures\n",
      "Fashion Manners and Customs\n",
      "Food and Fitness\n",
      "Games and Activities\n",
      "Health\n",
      "Humor\n",
      "Indigenous Americans\n",
      "Relationships\n",
      "Family\n",
      "Hardcover Political Books\n",
      "Race and Civil Rights\n",
      "Religion Spirituality and Faith\n",
      "Science\n",
      "Sports\n",
      "Travel\n"
     ]
    }
   ],
   "source": [
    "for category in june6_15_data['results']:\n",
    "    print(category['list_name'])"
   ]
  },
  {
   "cell_type": "markdown",
   "metadata": {},
   "source": [
    "3) Muammar Gaddafi's name can be transliterated many many ways. His last name is often a source of a million and one versions - Gadafi, Gaddafi, Kadafi, and Qaddafi to name a few. How many times has the New York Times referred to him by each of those names?\n",
    "\n",
    "Tip: Add \"Libya\" to your search to make sure (-ish) you're talking about the right guy."
   ]
  },
  {
   "cell_type": "code",
   "execution_count": 182,
   "metadata": {
    "collapsed": false
   },
   "outputs": [],
   "source": [
    "#Gadafi\n",
    "response = requests.get(\"http://api.nytimes.com/svc/search/v2/articlesearch.json?fq=Gadafi&glocations=Libya&api-key=2ca9e983dcfd4b1ba330521af1c9c2b2\")\n",
    "gadafi_data = response.json()"
   ]
  },
  {
   "cell_type": "code",
   "execution_count": 187,
   "metadata": {
    "collapsed": false
   },
   "outputs": [
    {
     "name": "stdout",
     "output_type": "stream",
     "text": [
      "The NYT has referred to him by 'Gadafi' a total of 0 times\n"
     ]
    }
   ],
   "source": [
    "#print(gadafi_data)\n",
    "print(\"The NYT has referred to him by 'Gadafi' a total of\", gadafi_data['response']['meta']['hits'], \"times\")"
   ]
  },
  {
   "cell_type": "code",
   "execution_count": 180,
   "metadata": {
    "collapsed": true
   },
   "outputs": [],
   "source": [
    "#Gaddafi\n",
    "response = requests.get(\"http://api.nytimes.com/svc/search/v2/articlesearch.json?fq=Gaddafi&glocations=Libya&api-key=2ca9e983dcfd4b1ba330521af1c9c2b2\")\n",
    "gaddafi_data = response.json()"
   ]
  },
  {
   "cell_type": "code",
   "execution_count": 189,
   "metadata": {
    "collapsed": false
   },
   "outputs": [
    {
     "name": "stdout",
     "output_type": "stream",
     "text": [
      "The NYT has referred to him by 'Gaddafi' a total of 1156 times\n"
     ]
    }
   ],
   "source": [
    "#print(gaddafi_data)\n",
    "print(\"The NYT has referred to him by 'Gaddafi' a total of\", gaddafi_data['response']['meta']['hits'], \"times\")"
   ]
  },
  {
   "cell_type": "code",
   "execution_count": 178,
   "metadata": {
    "collapsed": true
   },
   "outputs": [],
   "source": [
    "#Kadafi\n",
    "response = requests.get(\"http://api.nytimes.com/svc/search/v2/articlesearch.json?fq=Kadafi&glocations=Libya&api-key=2ca9e983dcfd4b1ba330521af1c9c2b2\")\n",
    "kadafi_data = response.json()"
   ]
  },
  {
   "cell_type": "code",
   "execution_count": 190,
   "metadata": {
    "collapsed": false
   },
   "outputs": [
    {
     "name": "stdout",
     "output_type": "stream",
     "text": [
      "The NYT has referred to him by 'Kadafi' a total of 4 times\n"
     ]
    }
   ],
   "source": [
    "#print(kadafi_data)\n",
    "print(\"The NYT has referred to him by 'Kadafi' a total of\", kadafi_data['response']['meta']['hits'], \"times\")"
   ]
  },
  {
   "cell_type": "code",
   "execution_count": 176,
   "metadata": {
    "collapsed": false
   },
   "outputs": [],
   "source": [
    "#Qaddafi\n",
    "response = requests.get(\"http://api.nytimes.com/svc/search/v2/articlesearch.json?fq=qaddafi&glocations=Libya&api-key=2ca9e983dcfd4b1ba330521af1c9c2b2\")\n",
    "qaddafi_data = response.json()"
   ]
  },
  {
   "cell_type": "code",
   "execution_count": 192,
   "metadata": {
    "collapsed": false
   },
   "outputs": [
    {
     "name": "stdout",
     "output_type": "stream",
     "text": [
      "The NYT has referred to him by 'Qaddafi' a total of 6699 times\n"
     ]
    }
   ],
   "source": [
    "#print(qaddafi_data)\n",
    "print(\"The NYT has referred to him by 'Qaddafi' a total of\", qaddafi_data['response']['meta']['hits'], \"times\")"
   ]
  },
  {
   "cell_type": "markdown",
   "metadata": {},
   "source": [
    "4) What's the title of the first story to mention the word 'hipster' in 1995? What's the first paragraph?\n",
    "\n",
    "Question: What is the difference between query and filter query?"
   ]
  },
  {
   "cell_type": "code",
   "execution_count": 203,
   "metadata": {
    "collapsed": true
   },
   "outputs": [],
   "source": [
    "#hipster\n",
    "response = requests.get(\"http://api.nytimes.com/svc/search/v2/articlesearch.json?fq=hipster&begin_date=19950101&end_date=19951231&sort=oldest&api-key=2ca9e983dcfd4b1ba330521af1c9c2b2\")\n",
    "hipster_data = response.json()"
   ]
  },
  {
   "cell_type": "code",
   "execution_count": 221,
   "metadata": {
    "collapsed": false
   },
   "outputs": [
    {
     "name": "stdout",
     "output_type": "stream",
     "text": [
      "The title of the first story to mention the word 'hipster' is SOUND\n"
     ]
    }
   ],
   "source": [
    "#print(hipster_data)\n",
    "hipster_data.keys()\n",
    "#print(hipster_data['response']['docs'][0]) #The first story\n",
    "hipster_data['response']['docs'][0].keys()\n",
    "print(\"The title of the first story to mention the word 'hipster' is\", hipster_data['response']['docs'][0]['headline']['main'])"
   ]
  },
  {
   "cell_type": "markdown",
   "metadata": {},
   "source": [
    "5) How many times was gay marriage mentioned in the NYT between 1950-1959, 1960-1969, 1970-1978, 1980-1989, 1990-2099, 2000-2009, and 2010-present?\n",
    "\n",
    "Tip: You'll want to put quotes around the search term so it isn't just looking for \"gay\" and \"marriage\" in the same article.\n",
    "\n",
    "Tip: Write code to find the number of mentions between Jan 1, 1950 and Dec 31, 1959."
   ]
  },
  {
   "cell_type": "code",
   "execution_count": 249,
   "metadata": {
    "collapsed": false
   },
   "outputs": [],
   "source": [
    "#gaymarriage\n",
    "response = requests.get(\"http://api.nytimes.com/svc/search/v2/articlesearch.json?q=%22gay%20marriage%22&begin_date=19500101&end_date=19591231&api-key=2ca9e983dcfd4b1ba330521af1c9c2b2\")\n",
    "gay_50_data = response.json()"
   ]
  },
  {
   "cell_type": "code",
   "execution_count": 250,
   "metadata": {
    "collapsed": false
   },
   "outputs": [
    {
     "name": "stdout",
     "output_type": "stream",
     "text": [
      "The number of times gay marriage is mentioned between 1950 and 1959 is 0 times\n"
     ]
    }
   ],
   "source": [
    "#print(gay_50_data)\n",
    "print(\"The number of times gay marriage is mentioned between 1950 and 1959 is\", gay_50_data['response']['meta']['hits'], \"times\")"
   ]
  },
  {
   "cell_type": "code",
   "execution_count": 251,
   "metadata": {
    "collapsed": true
   },
   "outputs": [],
   "source": [
    "response = requests.get(\"http://api.nytimes.com/svc/search/v2/articlesearch.json?q=%22gay%20marriage%22&begin_date=19600101&end_date=19691231&api-key=2ca9e983dcfd4b1ba330521af1c9c2b2\")\n",
    "gay_60_data = response.json()"
   ]
  },
  {
   "cell_type": "code",
   "execution_count": 252,
   "metadata": {
    "collapsed": false
   },
   "outputs": [
    {
     "name": "stdout",
     "output_type": "stream",
     "text": [
      "The number of times gay marriage is mentioned between 1960 and 1969 is 0 times\n"
     ]
    }
   ],
   "source": [
    "print(\"The number of times gay marriage is mentioned between 1960 and 1969 is\", gay_60_data['response']['meta']['hits'], \"times\")"
   ]
  },
  {
   "cell_type": "code",
   "execution_count": 253,
   "metadata": {
    "collapsed": true
   },
   "outputs": [],
   "source": [
    "response = requests.get(\"http://api.nytimes.com/svc/search/v2/articlesearch.json?q=%22gay%20marriage%22&begin_date=19700101&end_date=19791231&api-key=2ca9e983dcfd4b1ba330521af1c9c2b2\")\n",
    "gay_70_data = response.json()"
   ]
  },
  {
   "cell_type": "code",
   "execution_count": 254,
   "metadata": {
    "collapsed": false
   },
   "outputs": [
    {
     "name": "stdout",
     "output_type": "stream",
     "text": [
      "The number of times gay marriage is mentioned between 1970 and 1979 is 0 times\n"
     ]
    }
   ],
   "source": [
    "print(\"The number of times gay marriage is mentioned between 1970 and 1979 is\", gay_70_data['response']['meta']['hits'], \"times\")"
   ]
  },
  {
   "cell_type": "code",
   "execution_count": 255,
   "metadata": {
    "collapsed": true
   },
   "outputs": [],
   "source": [
    "response = requests.get(\"http://api.nytimes.com/svc/search/v2/articlesearch.json?q=%22gay%20marriage%22&begin_date=19800101&end_date=19891231&api-key=2ca9e983dcfd4b1ba330521af1c9c2b2\")\n",
    "gay_80_data = response.json()"
   ]
  },
  {
   "cell_type": "code",
   "execution_count": 256,
   "metadata": {
    "collapsed": false
   },
   "outputs": [
    {
     "name": "stdout",
     "output_type": "stream",
     "text": [
      "The number of times gay marriage is mentioned between 1980 and 1989 is 3 times\n"
     ]
    }
   ],
   "source": [
    "print(\"The number of times gay marriage is mentioned between 1980 and 1989 is\", gay_80_data['response']['meta']['hits'], \"times\")"
   ]
  },
  {
   "cell_type": "code",
   "execution_count": 257,
   "metadata": {
    "collapsed": true
   },
   "outputs": [],
   "source": [
    "response = requests.get(\"http://api.nytimes.com/svc/search/v2/articlesearch.json?q=%22gay%20marriage%22&begin_date=19900101&end_date=19991231&api-key=2ca9e983dcfd4b1ba330521af1c9c2b2\")\n",
    "gay_90_data = response.json()"
   ]
  },
  {
   "cell_type": "code",
   "execution_count": 258,
   "metadata": {
    "collapsed": false
   },
   "outputs": [
    {
     "name": "stdout",
     "output_type": "stream",
     "text": [
      "The number of times gay marriage is mentioned between 1990 and 1999 is 137 times\n"
     ]
    }
   ],
   "source": [
    "print(\"The number of times gay marriage is mentioned between 1990 and 1999 is\", gay_90_data['response']['meta']['hits'], \"times\")"
   ]
  },
  {
   "cell_type": "code",
   "execution_count": 277,
   "metadata": {
    "collapsed": true
   },
   "outputs": [],
   "source": [
    "response = requests.get(\"http://api.nytimes.com/svc/search/v2/articlesearch.json?q=%22gay%20marriage%22&begin_date=20000101&end_date=20091231&api-key=2ca9e983dcfd4b1ba330521af1c9c2b2\")\n",
    "gay_00_data = response.json()"
   ]
  },
  {
   "cell_type": "code",
   "execution_count": 280,
   "metadata": {
    "collapsed": false
   },
   "outputs": [
    {
     "name": "stdout",
     "output_type": "stream",
     "text": [
      "The number of times gay marriage is mentioned between 2000 and 2001 is 2510 times\n"
     ]
    }
   ],
   "source": [
    "print(\"The number of times gay marriage is mentioned between 2000 and 2001 is\", gay_00_data['response']['meta']['hits'], \"times\")"
   ]
  },
  {
   "cell_type": "code",
   "execution_count": 265,
   "metadata": {
    "collapsed": true
   },
   "outputs": [],
   "source": [
    "response = requests.get(\"http://api.nytimes.com/svc/search/v2/articlesearch.json?q=%22gay%20marriage%22&begin_date=20100101&api-key=2ca9e983dcfd4b1ba330521af1c9c2b2\")\n",
    "gay_10_data = response.json()"
   ]
  },
  {
   "cell_type": "code",
   "execution_count": 281,
   "metadata": {
    "collapsed": false
   },
   "outputs": [
    {
     "name": "stdout",
     "output_type": "stream",
     "text": [
      "The number of times gay marriage is mentioned between 2010 and now is 4756 times\n"
     ]
    }
   ],
   "source": [
    "print(\"The number of times gay marriage is mentioned between 2010 and now is\", gay_10_data['response']['meta']['hits'], \"times\")"
   ]
  },
  {
   "cell_type": "markdown",
   "metadata": {},
   "source": [
    "6) What section talks about motorcycles the most?\n",
    "\n",
    "Tip: You'll be using facets"
   ]
  },
  {
   "cell_type": "code",
   "execution_count": 282,
   "metadata": {
    "collapsed": true
   },
   "outputs": [],
   "source": [
    "response = requests.get(\"http://api.nytimes.com/svc/search/v2/articlesearch.json?q=motorcycle&facet_field=section_name&api-key=2ca9e983dcfd4b1ba330521af1c9c2b2\")\n",
    "motor_data = response.json()"
   ]
  },
  {
   "cell_type": "code",
   "execution_count": 304,
   "metadata": {
    "collapsed": false
   },
   "outputs": [
    {
     "name": "stdout",
     "output_type": "stream",
     "text": [
      "World 1739\n",
      "U.S. 1264\n",
      "Sports 1115\n",
      "New York and Region 1016\n",
      "Arts 921\n",
      "The section that mentions motorcycles the most is the World section with 1739 mentions\n"
     ]
    }
   ],
   "source": [
    "top_motor = motor_data['response']['facets']['section_name']['terms']\n",
    "for item in top_motor:\n",
    "    print(item['term'], item['count'])\n",
    "print(\"The section that mentions motorcycles the most is the World section with 1739 mentions\")\n",
    "\n",
    "#QUESTION: Why can't I do this?\n",
    "#Question: Is there a way to automatically tell you highest value?\n",
    "#top_motor = (motor_data['response']['facets']['section_name']['terms'][0])\n",
    "#for item in top_motor:\n",
    "    #print(\"The section that mentions motorcycles the most is the\", item['term'], \"section with\", item['count'], \"mentions\")"
   ]
  },
  {
   "cell_type": "markdown",
   "metadata": {},
   "source": [
    "7) How many of the last 20 movies reviewed by the NYT were Critics' Picks? How about the last 40? The last 60?\n",
    "\n",
    "Tip: You really don't want to do this 3 separate times (1-20, 21-40 and 41-60) and add them together. What if, perhaps, you were able to figure out how to combine two lists? Then you could have a 1-20 list, a 1-40 list, and a 1-60 list, and then just run similar code for each of them."
   ]
  },
  {
   "cell_type": "code",
   "execution_count": 316,
   "metadata": {
    "collapsed": true
   },
   "outputs": [],
   "source": [
    "response = requests.get(\"http://api.nytimes.com/svc/movies/v2/reviews/search.json?resource-type=all&api-key=2ca9e983dcfd4b1ba330521af1c9c2b2\")\n",
    "movie20_data = response.json()"
   ]
  },
  {
   "cell_type": "code",
   "execution_count": 330,
   "metadata": {
    "collapsed": false
   },
   "outputs": [
    {
     "name": "stdout",
     "output_type": "stream",
     "text": [
      "There are 6 Critics' Picks movies in the last 20 movies reviewed by the NYT\n"
     ]
    }
   ],
   "source": [
    "#print(movie20_data)\n",
    "#movie20_data.keys()\n",
    "#print(movie20_data['results'])\n",
    "#I am assuming critics_pick = 0 means no and critics_pick = 1 means yes\n",
    "\n",
    "movie_count = 0\n",
    "for movie in movie20_data['results']:\n",
    "    #print(movie['display_title'], movie['critics_pick'])\n",
    "    if movie['critics_pick'] > 0:\n",
    "        movie_count = movie_count + 1\n",
    "print(\"There are\", movie_count, \"Critics' Picks movies in the last 20 movies reviewed by the NYT\")        "
   ]
  },
  {
   "cell_type": "code",
   "execution_count": 331,
   "metadata": {
    "collapsed": true
   },
   "outputs": [],
   "source": [
    "response = requests.get(\"http://api.nytimes.com/svc/movies/v2/reviews/search.json?resource-type=all&offset=20&api-key=2ca9e983dcfd4b1ba330521af1c9c2b2\")\n",
    "movie40_data = response.json()"
   ]
  },
  {
   "cell_type": "code",
   "execution_count": 337,
   "metadata": {
    "collapsed": false
   },
   "outputs": [
    {
     "name": "stdout",
     "output_type": "stream",
     "text": [
      "There are 15 Critics' Picks movies in the last 40 movies reviewed by the NYT\n"
     ]
    }
   ],
   "source": [
    "#print(movie40_data)\n",
    "movie40 = movie40_data['results'] + movie20_data['results']\n",
    "#print(movie40)\n",
    "\n",
    "movie_count = 0\n",
    "for pie in movie40:\n",
    "    if pie['critics_pick'] > 0:\n",
    "        movie_count = movie_count + 1\n",
    "print(\"There are\", movie_count, \"Critics' Picks movies in the last 40 movies reviewed by the NYT\")"
   ]
  },
  {
   "cell_type": "code",
   "execution_count": 338,
   "metadata": {
    "collapsed": true
   },
   "outputs": [],
   "source": [
    "response = requests.get(\"http://api.nytimes.com/svc/movies/v2/reviews/search.json?resource-type=all&offset=40&api-key=2ca9e983dcfd4b1ba330521af1c9c2b2\")\n",
    "movie60_data = response.json()"
   ]
  },
  {
   "cell_type": "code",
   "execution_count": 342,
   "metadata": {
    "collapsed": false
   },
   "outputs": [
    {
     "name": "stdout",
     "output_type": "stream",
     "text": [
      "There are 20 Critics' Picks movies in the last 60 movies reviewed by the NYT\n"
     ]
    }
   ],
   "source": [
    "movie60 = movie60_data['results'] + movie40_data['results'] + movie20_data['results']\n",
    "\n",
    "movie_count = 0\n",
    "for berry in movie60:\n",
    "    if berry['critics_pick'] > 0:\n",
    "        movie_count = movie_count + 1\n",
    "print(\"There are\", movie_count, \"Critics' Picks movies in the last 60 movies reviewed by the NYT\")"
   ]
  },
  {
   "cell_type": "markdown",
   "metadata": {},
   "source": [
    "8) Out of the last 40 movie reviews from the NYT, which critic has written the most reviews?"
   ]
  },
  {
   "cell_type": "code",
   "execution_count": 381,
   "metadata": {
    "collapsed": false
   },
   "outputs": [
    {
     "data": {
      "text/plain": [
       "[('GLENN KENNY', 4)]"
      ]
     },
     "execution_count": 381,
     "metadata": {},
     "output_type": "execute_result"
    }
   ],
   "source": [
    "byline_count = []\n",
    "from collections import Counter\n",
    "#print(movie40_data['results'])\n",
    "for stuff in movie40_data['results']:\n",
    "    byline = stuff['byline']\n",
    "    #print(byline)\n",
    "    byline_count.append(byline)\n",
    "counts = Counter(byline_count)\n",
    "counts.most_common(1)"
   ]
  },
  {
   "cell_type": "code",
   "execution_count": null,
   "metadata": {
    "collapsed": true
   },
   "outputs": [],
   "source": []
  }
 ],
 "metadata": {
  "kernelspec": {
   "display_name": "Python 3",
   "language": "python",
   "name": "python3"
  },
  "language_info": {
   "codemirror_mode": {
    "name": "ipython",
    "version": 3
   },
   "file_extension": ".py",
   "mimetype": "text/x-python",
   "name": "python",
   "nbconvert_exporter": "python",
   "pygments_lexer": "ipython3",
   "version": "3.5.1"
  }
 },
 "nbformat": 4,
 "nbformat_minor": 0
}
