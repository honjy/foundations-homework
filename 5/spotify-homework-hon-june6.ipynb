{
 "cells": [
  {
   "cell_type": "code",
   "execution_count": 5,
   "metadata": {
    "collapsed": true
   },
   "outputs": [],
   "source": [
    "#1) With \"Lil Wayne\" and \"Lil Kim\" there are a lot of \"Lil\" musicians. \n",
    "#Do a search and print a list of 50 that are playable in the USA \n",
    "#(or the country of your choice), along with their popularity score."
   ]
  },
  {
   "cell_type": "code",
   "execution_count": 4,
   "metadata": {
    "collapsed": false
   },
   "outputs": [],
   "source": [
    "import requests"
   ]
  },
  {
   "cell_type": "code",
   "execution_count": 5,
   "metadata": {
    "collapsed": false
   },
   "outputs": [],
   "source": [
    "response = requests.get('https://api.spotify.com/v1/search?query=lil&type=artist&market=US&limit=50')"
   ]
  },
  {
   "cell_type": "markdown",
   "metadata": {},
   "source": [
    "& for multiple parameters"
   ]
  },
  {
   "cell_type": "code",
   "execution_count": 7,
   "metadata": {
    "collapsed": true
   },
   "outputs": [],
   "source": [
    "data = response.json()"
   ]
  },
  {
   "cell_type": "code",
   "execution_count": 8,
   "metadata": {
    "collapsed": false
   },
   "outputs": [
    {
     "data": {
      "text/plain": [
       "dict_keys(['artists'])"
      ]
     },
     "execution_count": 8,
     "metadata": {},
     "output_type": "execute_result"
    }
   ],
   "source": [
    "data.keys()"
   ]
  },
  {
   "cell_type": "code",
   "execution_count": 9,
   "metadata": {
    "collapsed": false
   },
   "outputs": [],
   "source": [
    "artist_data = data['artists']"
   ]
  },
  {
   "cell_type": "code",
   "execution_count": 10,
   "metadata": {
    "collapsed": false
   },
   "outputs": [
    {
     "data": {
      "text/plain": [
       "dict_keys(['previous', 'limit', 'items', 'offset', 'href', 'next', 'total'])"
      ]
     },
     "execution_count": 10,
     "metadata": {},
     "output_type": "execute_result"
    }
   ],
   "source": [
    "artist_data.keys()"
   ]
  },
  {
   "cell_type": "code",
   "execution_count": 11,
   "metadata": {
    "collapsed": false
   },
   "outputs": [],
   "source": [
    "lil_names = artist_data['items']\n",
    "#lil_names = list of dictionaries = list of artist name, popularity, type, genres etc"
   ]
  },
  {
   "cell_type": "markdown",
   "metadata": {
    "collapsed": true
   },
   "source": [
    "#2) What genres are most represented in the search results? \n",
    "Edit your previous printout to also display a list of their genres in the format \n",
    "GENRE_1, GENRE_2, GENRE_3\". If there are no genres, print \"No genres listed\".\n",
    "Tip: \"how to join a list Python\" might be a helpful search"
   ]
  },
  {
   "cell_type": "code",
   "execution_count": 13,
   "metadata": {
    "collapsed": false
   },
   "outputs": [
    {
     "name": "stdout",
     "output_type": "stream",
     "text": [
      "Lil Wayne 86 ['dirty south rap', 'pop rap', 'southern hip hop', 'trap music']\n",
      "Lil Yachty 72 there are no genres listed\n",
      "Lil Uzi Vert 72 there are no genres listed\n",
      "Lil Dicky 68 there are no genres listed\n",
      "Boosie Badazz 67 there are no genres listed\n",
      "Lil Jon 72 ['crunk', 'dirty south rap', 'southern hip hop']\n",
      "King Lil G 61 there are no genres listed\n",
      "Lil Durk 60 there are no genres listed\n",
      "Lil Jon & The East Side Boyz 60 there are no genres listed\n",
      "Lil Bibby 54 there are no genres listed\n",
      "G Herbo 53 there are no genres listed\n",
      "Lil Rob 50 ['chicano rap', 'latin hip hop']\n",
      "Lil Reese 50 there are no genres listed\n",
      "Lil Keke 48 there are no genres listed\n",
      "Bow Wow 57 ['hip pop', 'pop rap']\n",
      "Lil Scrappy 48 ['crunk', 'dirty south rap', 'southern hip hop', 'trap music']\n",
      "Lil Wyte 50 ['juggalo']\n",
      "Lil Blood 45 there are no genres listed\n",
      "Lil Snupe 45 there are no genres listed\n",
      "Lil Mama 45 ['hip pop']\n",
      "Lil B 44 there are no genres listed\n",
      "Lil' Kim 62 ['hip pop']\n",
      "Lil Cuete 40 ['chicano rap']\n",
      "Lil Phat 39 there are no genres listed\n",
      "Lil Debbie 43 there are no genres listed\n",
      "Lil Twist 39 ['jerk']\n",
      "Lil Trill 37 ['deep trap']\n",
      "Lil Twon 38 there are no genres listed\n",
      "Lil AJ 37 there are no genres listed\n",
      "Lil Lonnie 37 there are no genres listed\n",
      "Lil Boom 35 there are no genres listed\n",
      "Lil Goofy 35 there are no genres listed\n",
      "Mr. Lil One 36 ['chicano rap']\n",
      "Lil Haiti 36 there are no genres listed\n",
      "Lil Flash 38 there are no genres listed\n",
      "Lil Kesh 39 there are no genres listed\n",
      "Lil Cray 35 there are no genres listed\n",
      "Lil Silva 43 there are no genres listed\n",
      "Lil Rue 34 there are no genres listed\n",
      "Lil Eddie 41 there are no genres listed\n",
      "Lil Yase 33 there are no genres listed\n",
      "Lil Wayne, DJ Drama 35 there are no genres listed\n",
      "Lil Suzy 34 ['freestyle']\n",
      "Lil Mouse 34 there are no genres listed\n",
      "Lil C 33 there are no genres listed\n",
      "Lil Rick 39 ['soca']\n",
      "Lil June 32 there are no genres listed\n",
      "Lil E 34 there are no genres listed\n",
      "Lil Fate 34 there are no genres listed\n",
      "Lil' Flip 49 ['crunk', 'dirty south rap']\n"
     ]
    }
   ],
   "source": [
    "for names in lil_names:\n",
    "    if not names['genres']:\n",
    "        print(names['name'], names['popularity'], \"there are no genres listed\")\n",
    "    else:\n",
    "        print(names['name'], names['popularity'], names[\"genres\"])\n",
    "\n",
    "#Join all the lists of genres in the dictionary and then count the number of elements in it"
   ]
  },
  {
   "cell_type": "markdown",
   "metadata": {},
   "source": [
    "ANSWER:\n",
    "    for artist in artists:\n",
    "        print(artist['name'], artist['popularity'])\n",
    "        if len(artist['genres']) > 0:\n",
    "            genres = \", \".join(artist['genres'])\n",
    "            print(\"Genre list: \", genres\n",
    "        else:\n",
    "            print(\"No genres listed\")\n",
    "\n",
    "                  OR\n",
    "        if len(artist['name']) == 0:\n",
    "                  \n",
    "                  OR\n",
    "        if not len(artist['genres']) == 0:\n",
    "                  \n",
    "                  \n",
    "# \"-\".join(your_list) to join lists"
   ]
  },
  {
   "cell_type": "code",
   "execution_count": null,
   "metadata": {
    "collapsed": true
   },
   "outputs": [],
   "source": [
    "ANSWER:\n",
    "all_genres = []    \n",
    "    \n",
    "    for artist in artists:\n",
    "        print(\"All genres we've heard of:\", all_genres)\n",
    "        #The conditional: None\n",
    "        print(\"Current artist has:\", artist['genres'])\n",
    "        all_genres = all_genres + artist['genres']\n",
    "        \n",
    "        #genre_list = \", \".join(artist['genres'])\n",
    "        #print(artist['name'], \":\", genre_list)\n",
    "        \n",
    "        all_genre.count('dirty soup rap')\n",
    "        all_genre.count('crunk')\n",
    "\n",
    "#This is bad because dirty south rap shows up four times. We need a unique list of genres\n",
    "        for genre in all_genres:\n",
    "            genre_count = all_genres.count(genre)\n",
    "            print(genre, \"shows up\", genre_count, \"times\")\n",
    "\n",
    "#To remove duplicates. You need to turn a list into a set.\n",
    "unique_genres = set(list_with_duplicates)\n",
    "for genre in unique_genres:\n",
    "    genre_count = all_genres.count(genre)\n",
    "    print(genre, \"shows up\", genre_count, \"times\")"
   ]
  },
  {
   "cell_type": "code",
   "execution_count": null,
   "metadata": {
    "collapsed": true
   },
   "outputs": [],
   "source": [
    "#There is a library that comes with Python called Collections\n",
    "#Inside of it is a magic thing called Counter.\n",
    "\n",
    "import collections # will import the whole collections\n",
    "#you can also type\n",
    "from collections import Counter\n",
    "#all_genres is a list of strings of genrs with duplicates\n",
    "#counter will count all te genres for us\n",
    "counts = collections.Counter(all_genres)\n",
    "counts.most_common(4) #will give you the four most common genres"
   ]
  },
  {
   "cell_type": "code",
   "execution_count": 33,
   "metadata": {
    "collapsed": true
   },
   "outputs": [],
   "source": [
    "#HOW TO AUTOMATE GETTING ALL THE RESULTS\n",
    "\n",
    "response = requests.get(\"https://api.spotify.com/v1/search?query=lil&type=artist&market=US&limit=10\")\n",
    "small_data = response.json()"
   ]
  },
  {
   "cell_type": "code",
   "execution_count": 41,
   "metadata": {
    "collapsed": false
   },
   "outputs": [
    {
     "name": "stdout",
     "output_type": "stream",
     "text": [
      "10\n",
      "4502\n"
     ]
    },
    {
     "data": {
      "text/plain": [
       "91"
      ]
     },
     "execution_count": 41,
     "metadata": {},
     "output_type": "execute_result"
    }
   ],
   "source": [
    "small_data['artists']\n",
    "print(len(small_data['artists']['items'])) #We only get 10 artists\n",
    "print(data['artists']['total'])\n",
    "\n",
    "import math\n",
    "page_count = math.ceil(4502/50)\n",
    "#math.ceil rounds up\n",
    "#math.ceil(page_count)\n",
    "page_count"
   ]
  },
  {
   "cell_type": "code",
   "execution_count": 36,
   "metadata": {
    "collapsed": false
   },
   "outputs": [
    {
     "name": "stdout",
     "output_type": "stream",
     "text": [
      "We are on page 0 with an offset of 0\n",
      "We are on page 1 with an offset of 50\n",
      "We are on page 2 with an offset of 100\n",
      "We are on page 3 with an offset of 150\n",
      "We are on page 4 with an offset of 200\n"
     ]
    }
   ],
   "source": [
    "#First page artists 1-50: \n",
    "#https://api.spotify.com/v1/search?query=lil&type=artist&market=US&limit=50\n",
    "#Second page artists 51-100: \n",
    "#https://api.spotify.com/v1/search?query=lil&type=artist&market=US&limit=50&offset=50\n",
    "#Third page artists 101-150: \n",
    "#https://api.spotify.com/v1/search?query=lil&type=artist&market=US&limit=50&offset=100\n",
    "#Fourth page artists 151-200: \n",
    "#https://api.spotify.com/v1/search?query=lil&type=artist&market=US&limit=50&offset=150\n",
    "\n",
    "for page in [0, 1, 2, 3, 4]:\n",
    "    offset = (page) * 50 #because page 2 is 50 and 2-1 = 1 x 50 = 50\n",
    "    print(\"We are on page\", page, \"with an offset of\", offset)"
   ]
  },
  {
   "cell_type": "code",
   "execution_count": 42,
   "metadata": {
    "collapsed": false
   },
   "outputs": [
    {
     "name": "stdout",
     "output_type": "stream",
     "text": [
      "We are on page 0 with an offset of 0\n",
      "We are on page 1 with an offset of 50\n",
      "We are on page 2 with an offset of 100\n",
      "We are on page 3 with an offset of 150\n",
      "We are on page 4 with an offset of 200\n",
      "We are on page 5 with an offset of 250\n",
      "We are on page 6 with an offset of 300\n",
      "We are on page 7 with an offset of 350\n",
      "We are on page 8 with an offset of 400\n",
      "We are on page 9 with an offset of 450\n",
      "We are on page 10 with an offset of 500\n",
      "We are on page 11 with an offset of 550\n",
      "We are on page 12 with an offset of 600\n",
      "We are on page 13 with an offset of 650\n",
      "We are on page 14 with an offset of 700\n",
      "We are on page 15 with an offset of 750\n",
      "We are on page 16 with an offset of 800\n",
      "We are on page 17 with an offset of 850\n",
      "We are on page 18 with an offset of 900\n",
      "We are on page 19 with an offset of 950\n",
      "We are on page 20 with an offset of 1000\n",
      "We are on page 21 with an offset of 1050\n",
      "We are on page 22 with an offset of 1100\n",
      "We are on page 23 with an offset of 1150\n",
      "We are on page 24 with an offset of 1200\n",
      "We are on page 25 with an offset of 1250\n",
      "We are on page 26 with an offset of 1300\n",
      "We are on page 27 with an offset of 1350\n",
      "We are on page 28 with an offset of 1400\n",
      "We are on page 29 with an offset of 1450\n",
      "We are on page 30 with an offset of 1500\n",
      "We are on page 31 with an offset of 1550\n",
      "We are on page 32 with an offset of 1600\n",
      "We are on page 33 with an offset of 1650\n",
      "We are on page 34 with an offset of 1700\n",
      "We are on page 35 with an offset of 1750\n",
      "We are on page 36 with an offset of 1800\n",
      "We are on page 37 with an offset of 1850\n",
      "We are on page 38 with an offset of 1900\n",
      "We are on page 39 with an offset of 1950\n",
      "We are on page 40 with an offset of 2000\n",
      "We are on page 41 with an offset of 2050\n",
      "We are on page 42 with an offset of 2100\n",
      "We are on page 43 with an offset of 2150\n",
      "We are on page 44 with an offset of 2200\n",
      "We are on page 45 with an offset of 2250\n",
      "We are on page 46 with an offset of 2300\n",
      "We are on page 47 with an offset of 2350\n",
      "We are on page 48 with an offset of 2400\n",
      "We are on page 49 with an offset of 2450\n",
      "We are on page 50 with an offset of 2500\n",
      "We are on page 51 with an offset of 2550\n",
      "We are on page 52 with an offset of 2600\n",
      "We are on page 53 with an offset of 2650\n",
      "We are on page 54 with an offset of 2700\n",
      "We are on page 55 with an offset of 2750\n",
      "We are on page 56 with an offset of 2800\n",
      "We are on page 57 with an offset of 2850\n",
      "We are on page 58 with an offset of 2900\n",
      "We are on page 59 with an offset of 2950\n",
      "We are on page 60 with an offset of 3000\n",
      "We are on page 61 with an offset of 3050\n",
      "We are on page 62 with an offset of 3100\n",
      "We are on page 63 with an offset of 3150\n",
      "We are on page 64 with an offset of 3200\n",
      "We are on page 65 with an offset of 3250\n",
      "We are on page 66 with an offset of 3300\n",
      "We are on page 67 with an offset of 3350\n",
      "We are on page 68 with an offset of 3400\n",
      "We are on page 69 with an offset of 3450\n",
      "We are on page 70 with an offset of 3500\n",
      "We are on page 71 with an offset of 3550\n",
      "We are on page 72 with an offset of 3600\n",
      "We are on page 73 with an offset of 3650\n",
      "We are on page 74 with an offset of 3700\n",
      "We are on page 75 with an offset of 3750\n",
      "We are on page 76 with an offset of 3800\n",
      "We are on page 77 with an offset of 3850\n",
      "We are on page 78 with an offset of 3900\n",
      "We are on page 79 with an offset of 3950\n",
      "We are on page 80 with an offset of 4000\n",
      "We are on page 81 with an offset of 4050\n",
      "We are on page 82 with an offset of 4100\n",
      "We are on page 83 with an offset of 4150\n",
      "We are on page 84 with an offset of 4200\n",
      "We are on page 85 with an offset of 4250\n",
      "We are on page 86 with an offset of 4300\n",
      "We are on page 87 with an offset of 4350\n",
      "We are on page 88 with an offset of 4400\n",
      "We are on page 89 with an offset of 4450\n",
      "We are on page 90 with an offset of 4500\n"
     ]
    }
   ],
   "source": [
    "for page in range(91):\n",
    "    #Get a page\n",
    "    offset = page * 50\n",
    "    print(\"We are on page\", page, \"with an offset of\", offset)\n",
    "    \n",
    "    #Make the request with a changed offset ?offset [offset]\n",
    "    #data = response.json()\n",
    "    #add all our new artists to our list of existing artists\n",
    "    #all_artists = all_artists + data['artists]['items]\n",
    "    \n",
    "print(\"Successfully retrieved\", len(all_artists), \"artists\")"
   ]
  },
  {
   "cell_type": "markdown",
   "metadata": {
    "collapsed": true
   },
   "source": [
    "#3) Use a for loop to determine who BESIDES Lil Wayne has the highest popularity rating. \n",
    "#Is it the same artist who has the largest number of followers?"
   ]
  },
  {
   "cell_type": "code",
   "execution_count": 14,
   "metadata": {
    "collapsed": false
   },
   "outputs": [
    {
     "name": "stdout",
     "output_type": "stream",
     "text": [
      "Lil Wayne 86 {'href': None, 'total': 2623705}\n",
      "Lil Yachty 72 {'href': None, 'total': 37877}\n",
      "Lil Uzi Vert 72 {'href': None, 'total': 54986}\n",
      "Lil Dicky 68 {'href': None, 'total': 224686}\n",
      "Boosie Badazz 67 {'href': None, 'total': 220122}\n",
      "Lil Jon 72 {'href': None, 'total': 256024}\n",
      "King Lil G 61 {'href': None, 'total': 64182}\n",
      "Lil Durk 60 {'href': None, 'total': 134060}\n",
      "Lil Jon & The East Side Boyz 60 {'href': None, 'total': 17043}\n",
      "Lil Bibby 54 {'href': None, 'total': 44098}\n",
      "G Herbo 53 {'href': None, 'total': 51466}\n",
      "Lil Rob 50 {'href': None, 'total': 35824}\n",
      "Lil Reese 50 {'href': None, 'total': 23836}\n",
      "Lil Keke 48 {'href': None, 'total': 18746}\n",
      "Bow Wow 57 {'href': None, 'total': 118536}\n",
      "Lil Scrappy 48 {'href': None, 'total': 27073}\n",
      "Lil Wyte 50 {'href': None, 'total': 31101}\n",
      "Lil Blood 45 {'href': None, 'total': 5524}\n",
      "Lil Snupe 45 {'href': None, 'total': 33976}\n",
      "Lil Mama 45 {'href': None, 'total': 21107}\n",
      "Lil B 44 {'href': None, 'total': 224}\n",
      "Lil' Kim 62 {'href': None, 'total': 70213}\n",
      "Lil Cuete 40 {'href': None, 'total': 15573}\n",
      "Lil Phat 39 {'href': None, 'total': 5331}\n",
      "Lil Debbie 43 {'href': None, 'total': 14521}\n",
      "Lil Twist 39 {'href': None, 'total': 14832}\n",
      "Lil Trill 37 {'href': None, 'total': 2123}\n",
      "Lil Twon 38 {'href': None, 'total': 318}\n",
      "Lil AJ 37 {'href': None, 'total': 897}\n",
      "Lil Lonnie 37 {'href': None, 'total': 1330}\n",
      "Lil Boom 35 {'href': None, 'total': 170}\n",
      "Lil Goofy 35 {'href': None, 'total': 1340}\n",
      "Mr. Lil One 36 {'href': None, 'total': 4743}\n",
      "Lil Haiti 36 {'href': None, 'total': 679}\n",
      "Lil Flash 38 {'href': None, 'total': 1763}\n",
      "Lil Kesh 39 {'href': None, 'total': 1658}\n",
      "Lil Cray 35 {'href': None, 'total': 985}\n",
      "Lil Silva 43 {'href': None, 'total': 9421}\n",
      "Lil Rue 34 {'href': None, 'total': 3286}\n",
      "Lil Eddie 41 {'href': None, 'total': 1623}\n",
      "Lil Yase 33 {'href': None, 'total': 1129}\n",
      "Lil Wayne, DJ Drama 35 {'href': None, 'total': 12848}\n",
      "Lil Suzy 34 {'href': None, 'total': 5889}\n",
      "Lil Mouse 34 {'href': None, 'total': 16302}\n",
      "Lil C 33 {'href': None, 'total': 1705}\n",
      "Lil Rick 39 {'href': None, 'total': 1828}\n",
      "Lil June 32 {'href': None, 'total': 1396}\n",
      "Lil E 34 {'href': None, 'total': 130}\n",
      "Lil Fate 34 {'href': None, 'total': 110}\n",
      "Lil' Flip 49 {'href': None, 'total': 19887}\n",
      "Lil Yachty and Lil Uzi Vert have the highest popularity ratings besides Lil Wayne, and they do not have the largest number of followers.\n"
     ]
    }
   ],
   "source": [
    "for popularity in lil_names:\n",
    "    print(popularity['name'], popularity['popularity'], popularity['followers'])\n",
    "print(\"Lil Yachty, Lil Uzi Vert, Lil Jon have the highest popularity ratings besides Lil Wayne, and they do not have the largest number of followers.\")"
   ]
  },
  {
   "cell_type": "markdown",
   "metadata": {},
   "source": [
    "ANSWER:\n",
    "    #jonathansoma.com/site/lede/foundations/python-patterns/looping-problems/\n",
    "    \n",
    "second_most_popular_name = \"\"\n",
    "second_most_popular_score = 0\n",
    "for artist in artists:\n",
    "    print(\"Looking at\", artist['name]', \"who has a popularity score of\", artist['popularity'])\n",
    "    #THE CONDITIONAL aka what you are testing\n",
    "    print(\"Comparing\", artist['popularity'], \"to\", most_popular_score)\n",
    "    if artist['popularity'] > most_popular_score and artist['name'] != 'Lil Wayne':\n",
    "                               \n",
    "                               OR\n",
    "    if artist['popularity'] > most_popular_score:\n",
    "        if artist['name'] == \"Lil Wayne\":\n",
    "            print(\"Nice try, Lil Wayne, we don't care\")\n",
    "        else:\n",
    "            print(\"Not Lil Wayne, updating our notebook\")\n",
    "                  \n",
    "        #The change, aka what you are keeping track of\n",
    "        most_popular_name = artist['name']\n",
    "        most_popular_score = artist['popularity']\n",
    "\n",
    "print(most_popular_name, most_popular_score)\n",
    "                               \n",
    "#But what if more than one person has the highest score?\n",
    "                               \n",
    "\n",
    "#Aggregation Problem. When you're looping through a series of objects and sometimes you \n",
    "#want to add one of those objects to a different list.\n",
    "\n",
    "target score = 72\n",
    "#initial condition\n",
    "\n",
    "second_best_artist = []\n",
    "\n",
    "for artist in artists:\n",
    "    print(\"Looking at\", artist['name'], \"who has a popularity of\", )\n",
    "    #2: Conditional. When we want to add someone to our list\n",
    "                               if artist['popularity'] == 72:\n",
    "                               print(\"!!! The artist's popularity is 72\")\n",
    "                               #The Change\n",
    "                               #Add that artist to our list\n",
    "                               #.append(newthing) is how we do that in Python\n",
    "                               second_best_artists.append(artist['name'])\n",
    "                               \n",
    "    print(\"Our second best artists are:\")\n",
    "                               for artist in second_best_artist:\n",
    "                               print(artist)"
   ]
  },
  {
   "cell_type": "markdown",
   "metadata": {
    "collapsed": true
   },
   "source": [
    "Print a list of Lil's that are more popular than Lil' Kim."
   ]
  },
  {
   "cell_type": "code",
   "execution_count": 16,
   "metadata": {
    "collapsed": false
   },
   "outputs": [
    {
     "name": "stdout",
     "output_type": "stream",
     "text": [
      "Lil Wayne 55Aa2cqylxrFIXC767Z865\n",
      "Lil Yachty 6icQOAFXDZKsumw3YXyusw\n",
      "Lil Uzi Vert 4O15NlyKLIASxsJ0PrXPfz\n",
      "Lil Dicky 1tqhsYv8yBBdwANFNzHtcr\n",
      "Boosie Badazz 6z7xFFHxYkE9t8bwIF0Bvg\n",
      "Lil Jon 7sfl4Xt5KmfyDs2T3SVSMK\n",
      "King Lil G 6L3x3if9RVimruryD9LoFb\n",
      "Lil Durk 3hcs9uc56yIGFCSy9leWe7\n",
      "Lil Jon & The East Side Boyz 3ciRvbBIVz9fBoPbtSYq4x\n",
      "Lil Bibby 4uSN8Y3kgFNVULUWsZEAVW\n",
      "G Herbo 5QdEbQJ3ylBnc3gsIASAT5\n",
      "Lil Rob 7B7TGqQe7QTVm2U6q8jzk1\n",
      "Lil Reese 1bPxKZtCdjB1aj1csBJpdS\n",
      "Lil Keke 1grI9x4Uzos1Asx8JmRW6T\n",
      "Bow Wow 7352aRY2mqSxBZwzUb6LmA\n",
      "Lil Scrappy 5einkgXXrjhfYCyac1FANB\n",
      "Lil Wyte 21O7WwRkik43ErKppxDKJq\n",
      "Lil Blood 74nSA5FdDOuuLw7Rn5JnuP\n",
      "Lil Snupe 42FaEHFfyxTdZQ5W28dXnj\n",
      "Lil Mama 5qK5bOC6wLtuLhG5KvU17c\n",
      "Lil B 4dqh62yIzDBmrMeBOLiP5F\n",
      "Lil' Kim 5tth2a3v0sWwV1C7bApBdX\n",
      "Lil Cuete 1I5u5Umau1AgHl0ZbPL1oR\n",
      "Lil Phat 3QnIBUOS4mUzs67rZ8r4c9\n",
      "Lil Debbie 3FNZcjyqT7F5upP99JV0oN\n",
      "Lil Twist 564gvOqSRcQoYAhaBpTiK2\n",
      "Lil Trill 5EQERGi7ffHvHsv3bnqzBn\n",
      "Lil Twon 5YZZbPdI7P7te3lW3dTpzK\n",
      "Lil AJ 2jXwYLNnCxNavms4mc1DYM\n",
      "Lil Lonnie 6zSBkdKFLKKggDtE3amfCk\n",
      "Lil Boom 1mmlWsyPJvvxMdabcGJjRn\n",
      "Lil Goofy 3rWaFjgOi5mjQfllMfN3VI\n",
      "Mr. Lil One 6tslWi0BXiDdtChermDzkU\n",
      "Lil Haiti 4E9dumwOMLlTyXUp1i2WdI\n",
      "Lil Flash 069qBEK34YGoX7nSIT74Eg\n",
      "Lil Kesh 38XiDu0kK3Z5jdHUDqBzNT\n",
      "Lil Cray 43BqexhEx5NKF7VfeOYP9m\n",
      "Lil Silva 2Kv0ApBohrL213X9avMrEn\n",
      "Lil Rue 4IFVaKBbEO8Qkurg6nmoc4\n",
      "Lil Eddie 5CY0QKsbUBpQJIE2yycsYi\n",
      "Lil Yase 4vIlHBnzWKbmWe8ZOkT1ZT\n",
      "Lil Wayne, DJ Drama 65npPa1U4cgobX9wU7Jgpb\n",
      "Lil Suzy 5HPsVk1MblCoa44WLJsQwN\n",
      "Lil Mouse 1cEHxCgGlEgqBc91YOcAEQ\n",
      "Lil C 69swdLSkKxCQBMYJ55O2mA\n",
      "Lil Rick 1qKzKUnuQsjB83hBZffoq0\n",
      "Lil June 3GH3KD2078kLPpEkN1UN26\n",
      "Lil E 0zn6yzsbWj3EPMgOTqfG5k\n",
      "Lil Fate 6JUnsP7jmvYmdhbg7lTMQj\n",
      "Lil' Flip 4Q5sPmM8j4SpMqL4UA1DtS\n"
     ]
    }
   ],
   "source": [
    "for kim in lil_names:\n",
    "    print(kim['name'], kim['id'])"
   ]
  },
  {
   "cell_type": "code",
   "execution_count": 17,
   "metadata": {
    "collapsed": false
   },
   "outputs": [],
   "source": [
    "response = requests.get(\"https://api.spotify.com/v1/artists/5tth2a3v0sWwV1C7bApBdX/\")\n",
    "kim_data = response.json()"
   ]
  },
  {
   "cell_type": "code",
   "execution_count": 32,
   "metadata": {
    "collapsed": false
   },
   "outputs": [
    {
     "name": "stdout",
     "output_type": "stream",
     "text": [
      "70213\n",
      "Lil Wayne 86\n",
      "Lil Dicky 68\n",
      "Boosie Badazz 67\n",
      "Lil Jon 72\n",
      "Lil Durk 60\n",
      "Bow Wow 57\n"
     ]
    }
   ],
   "source": [
    "#print(kim_data)\n",
    "kim_followers = kim_data['followers']\n",
    "total_kim_followers = kim_followers['total']\n",
    "#print(total_kim_followers)\n",
    "\n",
    "for artists in lil_names:\n",
    "    if artists[\"followers\"][\"total\"] > total_kim_followers:\n",
    "        print(artists['name'], artists['popularity'])"
   ]
  },
  {
   "cell_type": "code",
   "execution_count": null,
   "metadata": {
    "collapsed": true
   },
   "outputs": [],
   "source": [
    "ANSWER:\n",
    "    \n",
    "for artist in artists:\n",
    "    #print(\"Looking at\", artist['name'])\n",
    "    if artist['name'] == \"Lil' Kim\":\n",
    "        print(\"Found Lil Kim\")\n",
    "        print(artist['popularity'])\n",
    "    else:\n",
    "        pass\n",
    "        #print(\"Not Lil Kim\")\n",
    "\n",
    "lil_kim_popularity = 62\n",
    "\n",
    "for artist in artists:\n",
    "    if artist['popularity'] > lil_kim_popularity:\n",
    "        print(artist['name'], \"is more popular with a score of\", artist['popularity'])\n",
    "        more_popular_than_lil_kim.append(artist['name'])\n",
    "    else:\n",
    "        print(artist['name'], \"is less popular with a score of\", artist['popularity'])\n",
    "print(\"#### More popular than Lil Kim ####\"):\n",
    "    print(artist_name)\n",
    "    \n",
    "    more_popular_string = \", \".join(more_popular_than_lil_kim)\n",
    "    print(\"Artists mroe popular than Lil Kim are:\", more_popular_string)"
   ]
  },
  {
   "cell_type": "markdown",
   "metadata": {
    "collapsed": true
   },
   "source": [
    "5) Pick two of your favorite Lils to fight it out, and use their IDs to print out their top tracks."
   ]
  },
  {
   "cell_type": "code",
   "execution_count": 19,
   "metadata": {
    "collapsed": false
   },
   "outputs": [
    {
     "name": "stdout",
     "output_type": "stream",
     "text": [
      "Forever\n",
      "Nothing But Trouble - Instagram Models\n",
      "6 Foot 7 Foot\n",
      "A Milli\n",
      "Right Above It\n",
      "Lollipop\n",
      "Love Me\n",
      "Rich As Fuck\n",
      "Mirror\n",
      "Believe Me\n"
     ]
    }
   ],
   "source": [
    "#Let's pick Lil Wayne and Lil Mama because I don't know who most of these people are\n",
    "wayne_id = \"55Aa2cqylxrFIXC767Z865\"\n",
    "\n",
    "response = requests.get(\"https://api.spotify.com/v1/artists/\" + wayne_id + \"/top-tracks?country=US\")\n",
    "wayne_data = response.json()\n",
    "top_wayne_tracks = wayne_data['tracks']\n",
    "for track in top_wayne_tracks:\n",
    "    print(track[\"name\"])"
   ]
  },
  {
   "cell_type": "code",
   "execution_count": 20,
   "metadata": {
    "collapsed": false
   },
   "outputs": [
    {
     "name": "stdout",
     "output_type": "stream",
     "text": [
      "Lip Gloss\n",
      "Shawty Get Loose\n",
      "G-Slide (Tour Bus) - Radio Version\n",
      "Dough Boy\n",
      "Lip Gloss/ No Music - Main Version - clean\n",
      "Shawty Get Loose\n",
      "Hustler Girl\n",
      "Bad As Me\n",
      "Truly In Love\n",
      "L.I.F.E.\n"
     ]
    }
   ],
   "source": [
    "mama_id = \"5qK5bOC6wLtuLhG5KvU17c\"\n",
    "response = requests.get(\"https://api.spotify.com/v1/artists/\" + mama_id + \"/top-tracks?country=US\")\n",
    "mama_data = response.json()\n",
    "\n",
    "top_mama_tracks = mama_data['tracks']\n",
    "for track in top_mama_tracks:\n",
    "    print(track[\"name\"])"
   ]
  },
  {
   "cell_type": "markdown",
   "metadata": {},
   "source": [
    "Will the world explode if a musician swears? \n",
    "Get an average popularity for their explicit songs vs. their non-explicit songs. \n",
    "How many minutes of explicit songs do they have? Non-explicit?"
   ]
  },
  {
   "cell_type": "code",
   "execution_count": 28,
   "metadata": {
    "collapsed": false
   },
   "outputs": [
    {
     "name": "stdout",
     "output_type": "stream",
     "text": [
      "Forever True 75 357346\n",
      "Nothing But Trouble - Instagram Models True 73 217984\n",
      "6 Foot 7 Foot True 72 248586\n",
      "A Milli True 71 221840\n",
      "Right Above It True 70 271946\n",
      "Lollipop True 67 299333\n",
      "Love Me True 67 253440\n",
      "Rich As Fuck True 67 223173\n",
      "Mirror True 66 228093\n",
      "Believe Me True 66 337640\n",
      "The average popularity for Lil Wayne's explicit songs is 69.4\n",
      "Lil Wayne has 44.32301666666667 minutes of explicit songs\n"
     ]
    }
   ],
   "source": [
    "wayne_explicit_count = 0\n",
    "wayne_exp_popularity_count = 0\n",
    "wayne_ok_count = 0\n",
    "wayne_ok_popularity_count = 0\n",
    "wayne_explicit_len = 0\n",
    "wayne_ok_len = 0\n",
    "for track in top_wayne_tracks:\n",
    "    print(track['name'], track['explicit'], track['popularity'], track[\"duration_ms\"])\n",
    "    if True:\n",
    "        wayne_explicit_count = wayne_explicit_count + 1\n",
    "        wayne_exp_popularity_count = wayne_exp_popularity_count + int(track['popularity'])\n",
    "        wayne_avg_pop = wayne_exp_popularity_count / wayne_explicit_count\n",
    "        wayne_explicit_len = wayne_explicit_len + int(track[\"duration_ms\"])\n",
    "    if not track['explicit']:\n",
    "        wayne_ok_count = wayne_ok_count + 1\n",
    "        wayne_ok_popularity_count = wayne_ok_popularity_count + track['popularity']\n",
    "        wayne_ok_avg_pop = wayne_ok_popularity_count / wayne_ok_count\n",
    "        wayne_ok_len = wayne_ok_len + track[\"duration_ms\"]\n",
    "\n",
    "if wayne_explicit_count > 0:\n",
    "    print(\"The average popularity for Lil Wayne's explicit songs is\", wayne_avg_pop)\n",
    "    #1 minute is 60000 milliseconds, who knew?\n",
    "    wayne_explicit_mins = int(wayne_explicit_len) / 60000\n",
    "    print(\"Lil Wayne has\", wayne_explicit_mins, \"minutes of explicit songs\")\n",
    "if wayne_ok_count > 0:\n",
    "    print(\"The average popularity for Lil Wayne's non-explicit songs is\", wayne_ok_avg_pop)\n",
    "    wayne_ok_mins = int(wayne_ok_len) / 60000\n",
    "    print(\"Lil Wayne has\", wayne_ok_mins, \"minutes of explicit songs\")"
   ]
  },
  {
   "cell_type": "markdown",
   "metadata": {},
   "source": [
    "#QUESTION: Why does this return both true and not true statements for non-explicit statements?\n",
    "for track in top_mama_tracks:\n",
    "    print(track['name'], track['explicit'])\n",
    "    if True:\n",
    "        print(track['name'], \"is explicit and has a popularity of\", track['popularity'])\n",
    "    if not track['explicit']:\n",
    "        print(track['name'], \"is not explicit and has a popularity of\", track['popularity'])"
   ]
  },
  {
   "cell_type": "code",
   "execution_count": 22,
   "metadata": {
    "collapsed": false
   },
   "outputs": [
    {
     "name": "stdout",
     "output_type": "stream",
     "text": [
      "Lip Gloss False 59 219773\n",
      "Shawty Get Loose False 33 209506\n",
      "G-Slide (Tour Bus) - Radio Version False 36 211973\n",
      "Dough Boy False 31 210050\n",
      "Lip Gloss/ No Music - Main Version - clean False 30 244133\n",
      "Shawty Get Loose False 25 188333\n",
      "Hustler Girl True 24 338311\n",
      "Bad As Me True 21 187742\n",
      "Truly In Love False 19 247893\n",
      "L.I.F.E. False 19 237640\n",
      "The average popularity for Lil Mama's xplicit songs is 29.7\n",
      "Lil Mama has 38.2559 minutes of explicit songs\n",
      "The average popularity for Lil Mama's non-explicit songs is 31.5\n",
      "Lil Mama has 29.48835 minutes of non-explicit songs\n"
     ]
    }
   ],
   "source": [
    "mama_exp_count = 0\n",
    "mama_exp_pop_count = 0\n",
    "mama_ok_count = 0\n",
    "mama_ok_pop_count = 0\n",
    "mama_exp_len = 0\n",
    "mama_ok_len = 0\n",
    "\n",
    "for track in top_mama_tracks:\n",
    "    print(track['name'], track['explicit'], track['popularity'], track[\"duration_ms\"])\n",
    "    if True:\n",
    "        mama_exp_count = mama_exp_count + 1\n",
    "        mama_exp_pop_count = mama_exp_pop_count + int(track['popularity'])\n",
    "        mama_avg_pop = int(mama_exp_pop_count) / int(mama_exp_count)\n",
    "        mama_exp_len = mama_exp_len + int(track[\"duration_ms\"])\n",
    "    if not track['explicit']:\n",
    "        mama_ok_count = mama_ok_count + 1\n",
    "        mama_ok_pop_count = mama_ok_pop_count + int(track['popularity'])\n",
    "        mama_ok_avg_pop = int(mama_ok_pop_count) / int(mama_ok_count)\n",
    "        mama_ok_len = mama_ok_len + int(track[\"duration_ms\"])\n",
    "\n",
    "if mama_exp_count > 0:\n",
    "       #1 minute is 60000 milliseconds, who knew?\n",
    "    print(\"The average popularity for Lil Mama's xplicit songs is\", mama_avg_pop)\n",
    "    mama_exp_mins = int(mama_exp_len) / 60000\n",
    "    print(\"Lil Mama has\", mama_exp_mins, \"minutes of explicit songs\")\n",
    "if mama_ok_count > 0:\n",
    "    print(\"The average popularity for Lil Mama's non-explicit songs is\", mama_ok_avg_pop)\n",
    "    mama_ok_mins = int(mama_ok_len) / 60000\n",
    "    print(\"Lil Mama has\", mama_ok_mins, \"minutes of non-explicit songs\")"
   ]
  },
  {
   "cell_type": "markdown",
   "metadata": {},
   "source": [
    "7) Since we're talking about Lils, what about Biggies? \n",
    "How many total \"Biggie\" artists are there? How many total \"Lil\"s? \n",
    "If you made 1 request every 5 seconds, \n",
    "how long would it take to download information on all the Lils vs the Biggies?"
   ]
  },
  {
   "cell_type": "code",
   "execution_count": null,
   "metadata": {
    "collapsed": true
   },
   "outputs": [],
   "source": [
    "#We need to bypass the limit. And find out "
   ]
  },
  {
   "cell_type": "code",
   "execution_count": 195,
   "metadata": {
    "collapsed": false
   },
   "outputs": [],
   "source": [
    "response = requests.get('https://api.spotify.com/v1/search?query=biggie&type=artist')"
   ]
  },
  {
   "cell_type": "code",
   "execution_count": 196,
   "metadata": {
    "collapsed": true
   },
   "outputs": [],
   "source": [
    "biggie_data = response.json()"
   ]
  },
  {
   "cell_type": "code",
   "execution_count": 200,
   "metadata": {
    "collapsed": false
   },
   "outputs": [
    {
     "name": "stdout",
     "output_type": "stream",
     "text": [
      "The Notorious B.I.G.\n",
      "Biggie D\n",
      "Biggie\n",
      "Biggie Irie\n",
      "Fabolous|Biggie|Busta|Nate Dogg\n",
      "Biggie Smalls\n",
      "Biggie Paul\n",
      "Biggie the Kid\n",
      "Alief Biggie\n",
      "Papa Biggie\n",
      "Mister Biggie\n",
      "Biggie & Foldy\n",
      "Biggie Bash\n",
      "Dj Majah & Blaq Biggie Blaq\n",
      "Biggie Tembo\n",
      "Louis Biggie\n",
      "Biggie Da Roxter\n",
      "Biggie Dutch\n",
      "Biggie Dutch feat. Marina Wilde\n",
      "MC Biggie\n",
      "There are a total number of 20 biggie artists\n"
     ]
    }
   ],
   "source": [
    "biggie_artists = biggie_data['artists']\n",
    "biggie_names = biggie_artists['items']\n",
    "biggie_count= 0\n",
    "\n",
    "for name in biggie_names:\n",
    "    print(name['name'])\n",
    "    biggie_count = biggie_count + 1\n",
    "print(\"There are a total number of\", biggie_count, \"biggie artists\")"
   ]
  },
  {
   "cell_type": "code",
   "execution_count": 201,
   "metadata": {
    "collapsed": true
   },
   "outputs": [],
   "source": [
    "response = requests.get('https://api.spotify.com/v1/search?query=lil&type=artist')"
   ]
  },
  {
   "cell_type": "code",
   "execution_count": 202,
   "metadata": {
    "collapsed": true
   },
   "outputs": [],
   "source": [
    "lil_data = response.json()"
   ]
  },
  {
   "cell_type": "code",
   "execution_count": 203,
   "metadata": {
    "collapsed": false
   },
   "outputs": [
    {
     "name": "stdout",
     "output_type": "stream",
     "text": [
      "Lil Wayne\n",
      "Lil Yachty\n",
      "Lil Uzi Vert\n",
      "Lil Dicky\n",
      "Boosie Badazz\n",
      "Lil Jon\n",
      "King Lil G\n",
      "Lil Durk\n",
      "Lil Jon & The East Side Boyz\n",
      "Lil Bibby\n",
      "G Herbo\n",
      "Lil Rob\n",
      "Lil Reese\n",
      "Lil Keke\n",
      "Bow Wow\n",
      "Lil Scrappy\n",
      "Lil Wyte\n",
      "Lil Blood\n",
      "Lil Snupe\n",
      "Lil Mama\n",
      "There are a total number of 21 lil artists\n"
     ]
    }
   ],
   "source": [
    "lil_x_artists = lil_data['artists']\n",
    "lil_x_names = lil_x_artists['items']\n",
    "lil_x_count= 0\n",
    "\n",
    "for name in lil_x_names:\n",
    "    print(name['name'])\n",
    "    lil_x_count = biggie_count + 1\n",
    "print(\"There are a total number of\", lil_x_count, \"lil artists\")"
   ]
  },
  {
   "cell_type": "markdown",
   "metadata": {},
   "source": [
    "8) Out of the top 50 \"Lil\"s and the top 50 \"Biggie\"s, who is more popular on average?"
   ]
  },
  {
   "cell_type": "code",
   "execution_count": 204,
   "metadata": {
    "collapsed": true
   },
   "outputs": [],
   "source": [
    "response = requests.get('https://api.spotify.com/v1/search?query=biggie&type=artist&limit=50')"
   ]
  },
  {
   "cell_type": "code",
   "execution_count": 205,
   "metadata": {
    "collapsed": true
   },
   "outputs": [],
   "source": [
    "b_data = response.json()"
   ]
  },
  {
   "cell_type": "code",
   "execution_count": 215,
   "metadata": {
    "collapsed": false
   },
   "outputs": [
    {
     "name": "stdout",
     "output_type": "stream",
     "text": [
      "The Notorious B.I.G. 76\n",
      "Biggie D 20\n",
      "Biggie 23\n",
      "Biggie Irie 15\n",
      "Fabolous|Biggie|Busta|Nate Dogg 11\n",
      "Biggie Smalls 13\n",
      "Biggie Paul 17\n",
      "Biggie the Kid 3\n",
      "Alief Biggie 4\n",
      "Papa Biggie 0\n",
      "Mister Biggie 0\n",
      "Biggie & Foldy 0\n",
      "Biggie Bash 6\n",
      "Dj Majah & Blaq Biggie Blaq 1\n",
      "Biggie Tembo 0\n",
      "Louis Biggie 0\n",
      "Biggie Da Roxter 0\n",
      "Biggie Dutch 0\n",
      "Biggie Dutch feat. Marina Wilde 0\n",
      "MC Biggie 0\n",
      "Mr Biggie 0\n",
      "Biggie & Anjay 0\n",
      "Balder & Biggie 2\n",
      "Poppa Biggie 0\n",
      "Biggie Mic 0\n",
      "Babie Biggie 0\n",
      "Biggie Moe 0\n",
      "MC Biggiedoy 0\n",
      "Biggie Lu 0\n",
      "Biggie Bandit 0\n",
      "Biggie Babylon 0\n",
      "Biggieballzh 0\n",
      "1000 LBS (Biggie Irie 0\n",
      "Biggie Brown 0\n",
      "Biggie Vinkeloe 0\n",
      "Biggie Sam 0\n",
      "Crenshaw Biggie 0\n",
      "Biggie Whit 0\n",
      "Biggie Smiles 0\n",
      "Biggie Nabwelela 0\n",
      "Biggie Roggie Shirima 0\n",
      "Wandung'u Biggie 0\n",
      "Biggie Jackson 0\n",
      "Kevy K Biggie 0\n",
      "Andrew Biggie 0\n",
      "Biggie Fab 0\n",
      "Dj Biggie B 0\n",
      "Biggie Smalls Featuring Grand Puba 0\n",
      "Luke Biggie 0\n",
      "The Biggies' average popularity is 3.8979591836734695\n"
     ]
    }
   ],
   "source": [
    "b_artists = b_data['artists']\n",
    "b_names = b_artists['items']\n",
    "b_pop_count = 0\n",
    "b_number = 0\n",
    "\n",
    "for names in b_names:\n",
    "    print(names['name'], names['popularity'])\n",
    "    b_number = b_number + 1\n",
    "    b_pop_count = b_pop_count + int(names['popularity'])\n",
    "    avg_b_pop = b_pop_count / int(b_number)\n",
    "print(\"The Biggies' average popularity is\", avg_b_pop)"
   ]
  },
  {
   "cell_type": "code",
   "execution_count": 216,
   "metadata": {
    "collapsed": false
   },
   "outputs": [
    {
     "name": "stdout",
     "output_type": "stream",
     "text": [
      "Lil Wayne 86\n",
      "Lil Yachty 72\n",
      "Lil Uzi Vert 72\n",
      "Lil Dicky 68\n",
      "Boosie Badazz 67\n",
      "Lil Jon 72\n",
      "King Lil G 61\n",
      "Lil Durk 60\n",
      "Lil Jon & The East Side Boyz 60\n",
      "Lil Bibby 54\n",
      "G Herbo 53\n",
      "Lil Rob 50\n",
      "Lil Reese 50\n",
      "Lil Keke 48\n",
      "Bow Wow 57\n",
      "Lil Scrappy 49\n",
      "Lil Wyte 50\n",
      "Lil Blood 45\n",
      "Lil Snupe 45\n",
      "Lil Mama 45\n",
      "Lil B 44\n",
      "Lil' Kim 62\n",
      "Lil Cuete 40\n",
      "Lil Phat 39\n",
      "Lil Debbie 43\n",
      "Lil Twist 39\n",
      "Lil Trill 37\n",
      "Lil Twon 38\n",
      "Lil AJ 37\n",
      "Lil Lonnie 36\n",
      "Lil Goofy 35\n",
      "Mr. Lil One 36\n",
      "Lil Haiti 36\n",
      "Lil Flash 38\n",
      "Lil Kesh 39\n",
      "Lil Cray 35\n",
      "Lil Rue 34\n",
      "Lil Silva 43\n",
      "Lil Eddie 41\n",
      "Lil Boom 34\n",
      "Lil Yase 33\n",
      "Lil Wayne, DJ Drama 35\n",
      "Lil Suzy 34\n",
      "Lil Mouse 34\n",
      "Lil C 33\n",
      "Lil Rick 39\n",
      "Lil E 34\n",
      "Lil June 32\n",
      "Lil Fate 34\n",
      "Lil' Flip 49\n",
      "The Biggies' average popularity is 46.14\n"
     ]
    }
   ],
   "source": [
    "lil_pop_count = 0\n",
    "lil_number = 0\n",
    "\n",
    "for names in lil_names:\n",
    "    print(names['name'], names['popularity'])\n",
    "    lil_number = lil_number + 1\n",
    "    lil_pop_count = lil_pop_count + int(names['popularity'])\n",
    "    avg_lil_pop = lil_pop_count / int(lil_number)\n",
    "print(\"The Lils average popularity is\", avg_lil_pop)"
   ]
  },
  {
   "cell_type": "code",
   "execution_count": 217,
   "metadata": {
    "collapsed": false
   },
   "outputs": [
    {
     "name": "stdout",
     "output_type": "stream",
     "text": [
      "The Lils are far more popular\n"
     ]
    }
   ],
   "source": [
    "print(\"The Lils are far more popular\")"
   ]
  },
  {
   "cell_type": "code",
   "execution_count": null,
   "metadata": {
    "collapsed": true
   },
   "outputs": [],
   "source": []
  }
 ],
 "metadata": {
  "kernelspec": {
   "display_name": "Python 3",
   "language": "python",
   "name": "python3"
  },
  "language_info": {
   "codemirror_mode": {
    "name": "ipython",
    "version": 3
   },
   "file_extension": ".py",
   "mimetype": "text/x-python",
   "name": "python",
   "nbconvert_exporter": "python",
   "pygments_lexer": "ipython3",
   "version": "3.5.1"
  }
 },
 "nbformat": 4,
 "nbformat_minor": 0
}
